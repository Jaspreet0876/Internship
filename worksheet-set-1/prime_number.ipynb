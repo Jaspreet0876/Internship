{
 "cells": [
  {
   "cell_type": "markdown",
   "id": "8d3d47b6",
   "metadata": {},
   "source": [
    "# prime or composite number"
   ]
  },
  {
   "cell_type": "code",
   "execution_count": 14,
   "id": "0fc02454",
   "metadata": {},
   "outputs": [
    {
     "name": "stdout",
     "output_type": "stream",
     "text": [
      "enter any number : 20\n",
      "20 is a composite number\n"
     ]
    }
   ],
   "source": [
    "number=int(input(\"enter any number : \"))\n",
    "if number >1:\n",
    "    for i in range(2,number):\n",
    "        if(number % i)==0:\n",
    "            print(number,\"is a composite number\")\n",
    "            break\n",
    "    else:\n",
    "        print(number,\"is a prime number\")\n",
    "else:\n",
    "    print(number,\"is not a prime number nor a composite number\")"
   ]
  },
  {
   "cell_type": "code",
   "execution_count": null,
   "id": "57837f5c",
   "metadata": {},
   "outputs": [],
   "source": []
  },
  {
   "cell_type": "code",
   "execution_count": null,
   "id": "c395aa21",
   "metadata": {},
   "outputs": [],
   "source": []
  },
  {
   "cell_type": "code",
   "execution_count": null,
   "id": "ddd35a38",
   "metadata": {},
   "outputs": [],
   "source": []
  },
  {
   "cell_type": "code",
   "execution_count": null,
   "id": "9e62ea8c",
   "metadata": {},
   "outputs": [],
   "source": []
  },
  {
   "cell_type": "code",
   "execution_count": null,
   "id": "16c88549",
   "metadata": {},
   "outputs": [],
   "source": []
  }
 ],
 "metadata": {
  "kernelspec": {
   "display_name": "Python 3",
   "language": "python",
   "name": "python3"
  },
  "language_info": {
   "codemirror_mode": {
    "name": "ipython",
    "version": 3
   },
   "file_extension": ".py",
   "mimetype": "text/x-python",
   "name": "python",
   "nbconvert_exporter": "python",
   "pygments_lexer": "ipython3",
   "version": "3.8.8"
  }
 },
 "nbformat": 4,
 "nbformat_minor": 5
}
