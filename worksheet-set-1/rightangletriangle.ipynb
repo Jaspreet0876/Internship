{
 "cells": [
  {
   "cell_type": "code",
   "execution_count": 4,
   "id": "a998ac8c",
   "metadata": {},
   "outputs": [
    {
     "name": "stdout",
     "output_type": "stream",
     "text": [
      "Hypotenuse = 5.0\n"
     ]
    }
   ],
   "source": [
    "def pythagoras(oppside,adjside,hyp):\n",
    "        if oppside == str(\"x\"):\n",
    "            return (\"Opposite = \" + str(((hyp**2) - (adjside**2))**0.5))\n",
    "        elif adjside == str(\"x\"):\n",
    "            return (\"Adjacent = \" + str(((hyp**2) - (oppside**2))**0.5))\n",
    "        elif hyp == str(\"x\"):\n",
    "            return (\"Hypotenuse = \" + str(((oppside**2) + (adjside**2))**0.5))\n",
    "        else:\n",
    "            return \"You know the answer!\"\n",
    "    \n",
    "print(pythagoras(3,4,'x'))\n"
   ]
  },
  {
   "cell_type": "code",
   "execution_count": null,
   "id": "a44a29f6",
   "metadata": {},
   "outputs": [],
   "source": []
  }
 ],
 "metadata": {
  "kernelspec": {
   "display_name": "Python 3",
   "language": "python",
   "name": "python3"
  },
  "language_info": {
   "codemirror_mode": {
    "name": "ipython",
    "version": 3
   },
   "file_extension": ".py",
   "mimetype": "text/x-python",
   "name": "python",
   "nbconvert_exporter": "python",
   "pygments_lexer": "ipython3",
   "version": "3.8.8"
  }
 },
 "nbformat": 4,
 "nbformat_minor": 5
}
