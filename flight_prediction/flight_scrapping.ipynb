{
 "cells": [
  {
   "cell_type": "code",
   "execution_count": 42,
   "id": "e51fb137",
   "metadata": {},
   "outputs": [],
   "source": [
    "import selenium\n",
    "import pandas as pd\n",
    "from selenium import webdriver\n",
    "from bs4 import BeautifulSoup\n",
    "import requests\n",
    "import time\n",
    "from selenium.common.exceptions import NoSuchElementException\n",
    "from selenium.webdriver.common.keys import Keys\n",
    "\n",
    "import warnings\n",
    "warnings.filterwarnings('ignore')"
   ]
  },
  {
   "cell_type": "code",
   "execution_count": 43,
   "id": "8b9c79f7",
   "metadata": {},
   "outputs": [],
   "source": [
    "driver=webdriver.Chrome(r'C:\\Users\\jaspreet rathod\\Downloads\\chromedriver.exe')# opening chrome driver"
   ]
  },
  {
   "cell_type": "code",
   "execution_count": 44,
   "id": "8f8f9b53",
   "metadata": {},
   "outputs": [],
   "source": [
    "driver.get(\"https://paytm.com/\")#opening website from where we need to fetch data"
   ]
  },
  {
   "cell_type": "code",
   "execution_count": 45,
   "id": "ef404d56",
   "metadata": {},
   "outputs": [],
   "source": [
    "for i in driver.find_elements_by_xpath('/html/body/div[1]/div/section[4]/div/div/div/div[2]'):\n",
    "    i.click()"
   ]
  },
  {
   "cell_type": "code",
   "execution_count": 46,
   "id": "9c8ad948",
   "metadata": {},
   "outputs": [],
   "source": [
    "driver.get(\"https://paytm.com/flights/flightSearch/BLR-Bengaluru/PNQ-Pune/1/0/0/E/2021-11-28\")"
   ]
  },
  {
   "cell_type": "code",
   "execution_count": 53,
   "id": "96f5f4db",
   "metadata": {},
   "outputs": [],
   "source": [
    "urls=[]\n",
    "sou=[\"BLR-Bengaluru\",\"CCU-Kolkata\"]# passing source location\n",
    "location = [\"DEL-Delhi\",\"PNQ-Pune\",\"MAA-Chennai\",\"HYD-Hyderabad\"] #passing destination \n",
    "# passing random date on which flight is schedule\n",
    "date_list=[\"2022-03-28\",\"2022-04-05\",\"2022-03-03\",\"2022-04-04\",\"2022-05-29\",\"2022-05-06\",\"2022-06-21\",\"2022-05-15\",\"2022-06-09\",\"2022-03-07\"]\n",
    "for i in range(0,2):\n",
    "    for j in range(0,4):\n",
    "            for k in range(0,10):\n",
    "                url=\"https://paytm.com/flights/flightSearch/\"+sou[i]+\"/\"+location[j]+\"/1/0/0/E/\"+date_list[k] #as url is a string we can manipulate it and make changes according to our needs\n",
    "                urls.append(url)"
   ]
  },
  {
   "cell_type": "code",
   "execution_count": 54,
   "id": "3e19a3d1",
   "metadata": {},
   "outputs": [
    {
     "data": {
      "text/plain": [
       "80"
      ]
     },
     "execution_count": 54,
     "metadata": {},
     "output_type": "execute_result"
    }
   ],
   "source": [
    "len(urls)#checking len of url how many url we have fetched"
   ]
  },
  {
   "cell_type": "code",
   "execution_count": 55,
   "id": "4c9f1b63",
   "metadata": {},
   "outputs": [],
   "source": [
    "# making list of features i am going to fetch \n",
    "name=[]\n",
    "departure_time=[]\n",
    "arrival_time=[]\n",
    "dur=[]\n",
    "price=[]\n",
    "stop=[]\n",
    "place=[]\n",
    "date=[]\n",
    "for url in urls:\n",
    "    driver.get(url)\n",
    "    time.sleep(5)\n",
    "    \n",
    "    for k in driver.find_elements_by_xpath('//div[@class=\"_3H-S _1Eia\"]'):\n",
    "        name.append(k.text)\n",
    "            \n",
    "    for k in driver.find_elements_by_xpath('//div[@class=\"_3H-S\"]'):\n",
    "        departure_time.append(k.text)\n",
    "        \n",
    "    for i in driver.find_elements_by_xpath('//div[@class=\"_3H-S _1wD5\"]'):\n",
    "        arrival_time.append(i.text.split(\"\\n\")[0])\n",
    "        \n",
    "    for i in driver.find_elements_by_xpath('//div[@class=\"vY4t\"]'):\n",
    "        dur.append(i.text)\n",
    "        \n",
    "    for i in driver.find_elements_by_xpath('//div[@class=\"_1cxG\"]'):\n",
    "        price.append(int(i.text.replace(\",\",\"\")))\n",
    "        \n",
    "    for i in driver.find_elements_by_xpath('//div[@class=\"_7BOG\"]'):\n",
    "        stop.append(i.text.split()[0])\n",
    "        \n",
    "    for i in driver.find_elements_by_xpath('//div[@class=\"NqXj\"]'):\n",
    "        place.append(i.text)\n",
    "        \n",
    "    for i in range(0,len(driver.find_elements_by_xpath('//div[@class=\"_1cxG\"]'))):\n",
    "               date.append(url.split('/')[11])"
   ]
  },
  {
   "cell_type": "code",
   "execution_count": 57,
   "id": "27a58d11",
   "metadata": {},
   "outputs": [],
   "source": [
    "source=place[0::2]\n",
    "destination=place[1::2]"
   ]
  },
  {
   "cell_type": "code",
   "execution_count": 58,
   "id": "f6e0c5b8",
   "metadata": {},
   "outputs": [
    {
     "name": "stdout",
     "output_type": "stream",
     "text": [
      "9217 9217 9217 9217 9217 9217 9217 9217\n"
     ]
    }
   ],
   "source": [
    "print(len(arrival_time),len(dur),len(price),len(name),len(departure_time),len(source),len(destination),len(date))"
   ]
  },
  {
   "cell_type": "code",
   "execution_count": 59,
   "id": "55587bfa",
   "metadata": {},
   "outputs": [],
   "source": [
    "# this is the dataframe i have fetched\n",
    "flight=pd.DataFrame({\"Flight name\":name,\n",
    "                 \"Departure_time\":departure_time,\n",
    "                 \"Arrival_time\":arrival_time,\n",
    "                 \"Price\":price,\n",
    "                 \"Source\":source,\n",
    "                 \"Destination\":destination,\n",
    "                  \"Duration\":dur,\n",
    "                 \"No of stop\":stop,\n",
    "                 \"Date\":date})"
   ]
  },
  {
   "cell_type": "code",
   "execution_count": 60,
   "id": "b006b036",
   "metadata": {},
   "outputs": [
    {
     "data": {
      "text/html": [
       "<div>\n",
       "<style scoped>\n",
       "    .dataframe tbody tr th:only-of-type {\n",
       "        vertical-align: middle;\n",
       "    }\n",
       "\n",
       "    .dataframe tbody tr th {\n",
       "        vertical-align: top;\n",
       "    }\n",
       "\n",
       "    .dataframe thead th {\n",
       "        text-align: right;\n",
       "    }\n",
       "</style>\n",
       "<table border=\"1\" class=\"dataframe\">\n",
       "  <thead>\n",
       "    <tr style=\"text-align: right;\">\n",
       "      <th></th>\n",
       "      <th>Flight name</th>\n",
       "      <th>Departure_time</th>\n",
       "      <th>Arrival_time</th>\n",
       "      <th>Price</th>\n",
       "      <th>Source</th>\n",
       "      <th>Destination</th>\n",
       "      <th>Duration</th>\n",
       "      <th>No of stop</th>\n",
       "      <th>Date</th>\n",
       "    </tr>\n",
       "  </thead>\n",
       "  <tbody>\n",
       "    <tr>\n",
       "      <th>0</th>\n",
       "      <td>IndiGo</td>\n",
       "      <td>20:05</td>\n",
       "      <td>00:50</td>\n",
       "      <td>2907</td>\n",
       "      <td>Bengaluru</td>\n",
       "      <td>Delhi</td>\n",
       "      <td>4h 45m</td>\n",
       "      <td>1</td>\n",
       "      <td>2022-03-28</td>\n",
       "    </tr>\n",
       "    <tr>\n",
       "      <th>1</th>\n",
       "      <td>IndiGo</td>\n",
       "      <td>18:45</td>\n",
       "      <td>00:05</td>\n",
       "      <td>2907</td>\n",
       "      <td>Bengaluru</td>\n",
       "      <td>Delhi</td>\n",
       "      <td>5h 20m</td>\n",
       "      <td>1</td>\n",
       "      <td>2022-03-28</td>\n",
       "    </tr>\n",
       "    <tr>\n",
       "      <th>2</th>\n",
       "      <td>IndiGo</td>\n",
       "      <td>12:55</td>\n",
       "      <td>18:25</td>\n",
       "      <td>2907</td>\n",
       "      <td>Bengaluru</td>\n",
       "      <td>Delhi</td>\n",
       "      <td>5h 30m</td>\n",
       "      <td>1</td>\n",
       "      <td>2022-03-28</td>\n",
       "    </tr>\n",
       "    <tr>\n",
       "      <th>3</th>\n",
       "      <td>IndiGo</td>\n",
       "      <td>18:45</td>\n",
       "      <td>00:50</td>\n",
       "      <td>2907</td>\n",
       "      <td>Bengaluru</td>\n",
       "      <td>Delhi</td>\n",
       "      <td>6h 5m</td>\n",
       "      <td>1</td>\n",
       "      <td>2022-03-28</td>\n",
       "    </tr>\n",
       "    <tr>\n",
       "      <th>4</th>\n",
       "      <td>IndiGo</td>\n",
       "      <td>16:20</td>\n",
       "      <td>22:35</td>\n",
       "      <td>2907</td>\n",
       "      <td>Bengaluru</td>\n",
       "      <td>Delhi</td>\n",
       "      <td>6h 15m</td>\n",
       "      <td>1</td>\n",
       "      <td>2022-03-28</td>\n",
       "    </tr>\n",
       "    <tr>\n",
       "      <th>...</th>\n",
       "      <td>...</td>\n",
       "      <td>...</td>\n",
       "      <td>...</td>\n",
       "      <td>...</td>\n",
       "      <td>...</td>\n",
       "      <td>...</td>\n",
       "      <td>...</td>\n",
       "      <td>...</td>\n",
       "      <td>...</td>\n",
       "    </tr>\n",
       "    <tr>\n",
       "      <th>9212</th>\n",
       "      <td>Vistara</td>\n",
       "      <td>10:25</td>\n",
       "      <td>22:55</td>\n",
       "      <td>7830</td>\n",
       "      <td>Kolkata</td>\n",
       "      <td>Hyderabad</td>\n",
       "      <td>12h 30m</td>\n",
       "      <td>2</td>\n",
       "      <td>2022-03-07</td>\n",
       "    </tr>\n",
       "    <tr>\n",
       "      <th>9213</th>\n",
       "      <td>SpiceJet</td>\n",
       "      <td>15:05</td>\n",
       "      <td>21:00</td>\n",
       "      <td>8848</td>\n",
       "      <td>Kolkata</td>\n",
       "      <td>Hyderabad</td>\n",
       "      <td>5h 55m</td>\n",
       "      <td>1</td>\n",
       "      <td>2022-03-07</td>\n",
       "    </tr>\n",
       "    <tr>\n",
       "      <th>9214</th>\n",
       "      <td>Vistara</td>\n",
       "      <td>07:10</td>\n",
       "      <td>12:35</td>\n",
       "      <td>9316</td>\n",
       "      <td>Kolkata</td>\n",
       "      <td>Hyderabad</td>\n",
       "      <td>5h 25m</td>\n",
       "      <td>1</td>\n",
       "      <td>2022-03-07</td>\n",
       "    </tr>\n",
       "    <tr>\n",
       "      <th>9215</th>\n",
       "      <td>Vistara</td>\n",
       "      <td>10:15</td>\n",
       "      <td>20:55</td>\n",
       "      <td>12151</td>\n",
       "      <td>Kolkata</td>\n",
       "      <td>Hyderabad</td>\n",
       "      <td>10h 40m</td>\n",
       "      <td>2</td>\n",
       "      <td>2022-03-07</td>\n",
       "    </tr>\n",
       "    <tr>\n",
       "      <th>9216</th>\n",
       "      <td>Vistara</td>\n",
       "      <td>10:15</td>\n",
       "      <td>20:55</td>\n",
       "      <td>12151</td>\n",
       "      <td>Kolkata</td>\n",
       "      <td>Hyderabad</td>\n",
       "      <td>10h 40m</td>\n",
       "      <td>2</td>\n",
       "      <td>2022-03-07</td>\n",
       "    </tr>\n",
       "  </tbody>\n",
       "</table>\n",
       "<p>9217 rows × 9 columns</p>\n",
       "</div>"
      ],
      "text/plain": [
       "     Flight name Departure_time Arrival_time  Price     Source Destination  \\\n",
       "0         IndiGo          20:05        00:50   2907  Bengaluru       Delhi   \n",
       "1         IndiGo          18:45        00:05   2907  Bengaluru       Delhi   \n",
       "2         IndiGo          12:55        18:25   2907  Bengaluru       Delhi   \n",
       "3         IndiGo          18:45        00:50   2907  Bengaluru       Delhi   \n",
       "4         IndiGo          16:20        22:35   2907  Bengaluru       Delhi   \n",
       "...          ...            ...          ...    ...        ...         ...   \n",
       "9212     Vistara          10:25        22:55   7830    Kolkata   Hyderabad   \n",
       "9213    SpiceJet          15:05        21:00   8848    Kolkata   Hyderabad   \n",
       "9214     Vistara          07:10        12:35   9316    Kolkata   Hyderabad   \n",
       "9215     Vistara          10:15        20:55  12151    Kolkata   Hyderabad   \n",
       "9216     Vistara          10:15        20:55  12151    Kolkata   Hyderabad   \n",
       "\n",
       "     Duration No of stop        Date  \n",
       "0      4h 45m          1  2022-03-28  \n",
       "1      5h 20m          1  2022-03-28  \n",
       "2      5h 30m          1  2022-03-28  \n",
       "3       6h 5m          1  2022-03-28  \n",
       "4      6h 15m          1  2022-03-28  \n",
       "...       ...        ...         ...  \n",
       "9212  12h 30m          2  2022-03-07  \n",
       "9213   5h 55m          1  2022-03-07  \n",
       "9214   5h 25m          1  2022-03-07  \n",
       "9215  10h 40m          2  2022-03-07  \n",
       "9216  10h 40m          2  2022-03-07  \n",
       "\n",
       "[9217 rows x 9 columns]"
      ]
     },
     "execution_count": 60,
     "metadata": {},
     "output_type": "execute_result"
    }
   ],
   "source": [
    "flight"
   ]
  },
  {
   "cell_type": "code",
   "execution_count": 62,
   "id": "e54b2fed",
   "metadata": {},
   "outputs": [],
   "source": [
    "flight.to_csv(\"flight_fare.csv\")#saving dataframe to csv format"
   ]
  },
  {
   "cell_type": "code",
   "execution_count": null,
   "id": "64256373",
   "metadata": {},
   "outputs": [],
   "source": []
  }
 ],
 "metadata": {
  "kernelspec": {
   "display_name": "Python 3",
   "language": "python",
   "name": "python3"
  },
  "language_info": {
   "codemirror_mode": {
    "name": "ipython",
    "version": 3
   },
   "file_extension": ".py",
   "mimetype": "text/x-python",
   "name": "python",
   "nbconvert_exporter": "python",
   "pygments_lexer": "ipython3",
   "version": "3.8.8"
  }
 },
 "nbformat": 4,
 "nbformat_minor": 5
}
