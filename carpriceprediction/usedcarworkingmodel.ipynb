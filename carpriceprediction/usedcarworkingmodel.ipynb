{
 "cells": [
  {
   "cell_type": "code",
   "execution_count": 1,
   "id": "b20e1123",
   "metadata": {},
   "outputs": [],
   "source": [
    "import pandas as pd\n",
    "import numpy as np\n",
    "import seaborn as sns\n",
    "import matplotlib.pyplot as plt\n",
    "\n",
    "import warnings\n",
    "warnings.filterwarnings(\"ignore\")"
   ]
  },
  {
   "cell_type": "code",
   "execution_count": 2,
   "id": "1832c684",
   "metadata": {},
   "outputs": [
    {
     "data": {
      "text/html": [
       "<div>\n",
       "<style scoped>\n",
       "    .dataframe tbody tr th:only-of-type {\n",
       "        vertical-align: middle;\n",
       "    }\n",
       "\n",
       "    .dataframe tbody tr th {\n",
       "        vertical-align: top;\n",
       "    }\n",
       "\n",
       "    .dataframe thead th {\n",
       "        text-align: right;\n",
       "    }\n",
       "</style>\n",
       "<table border=\"1\" class=\"dataframe\">\n",
       "  <thead>\n",
       "    <tr style=\"text-align: right;\">\n",
       "      <th></th>\n",
       "      <th>Unnamed: 0</th>\n",
       "      <th>Brand</th>\n",
       "      <th>Price</th>\n",
       "      <th>Year</th>\n",
       "      <th>Fuel</th>\n",
       "      <th>Transmission</th>\n",
       "      <th>Running KM</th>\n",
       "      <th>Location</th>\n",
       "    </tr>\n",
       "  </thead>\n",
       "  <tbody>\n",
       "    <tr>\n",
       "      <th>0</th>\n",
       "      <td>0</td>\n",
       "      <td>Mercedes-Benz A Class\\n2L AMG S Plus A45</td>\n",
       "      <td>57150</td>\n",
       "      <td>2021</td>\n",
       "      <td>Diesel</td>\n",
       "      <td>Automatic</td>\n",
       "      <td>30069</td>\n",
       "      <td>London</td>\n",
       "    </tr>\n",
       "    <tr>\n",
       "      <th>1</th>\n",
       "      <td>1</td>\n",
       "      <td>Volkswagen ID.3\\nTour Electric Pro S</td>\n",
       "      <td>40125</td>\n",
       "      <td>2021</td>\n",
       "      <td>Petrol</td>\n",
       "      <td>Automatic</td>\n",
       "      <td>31360</td>\n",
       "      <td>London</td>\n",
       "    </tr>\n",
       "    <tr>\n",
       "      <th>2</th>\n",
       "      <td>2</td>\n",
       "      <td>Mercedes-Benz A Class\\n2L AMG A35</td>\n",
       "      <td>38850</td>\n",
       "      <td>2019</td>\n",
       "      <td>Diesel</td>\n",
       "      <td>Automatic</td>\n",
       "      <td>27716</td>\n",
       "      <td>London</td>\n",
       "    </tr>\n",
       "    <tr>\n",
       "      <th>3</th>\n",
       "      <td>3</td>\n",
       "      <td>Mercedes-Benz A Class\\n2L AMG A35</td>\n",
       "      <td>37300</td>\n",
       "      <td>2019</td>\n",
       "      <td>Petrol</td>\n",
       "      <td>Automatic</td>\n",
       "      <td>15606</td>\n",
       "      <td>London</td>\n",
       "    </tr>\n",
       "    <tr>\n",
       "      <th>4</th>\n",
       "      <td>4</td>\n",
       "      <td>Toyota Yaris\\n1.6L GR Circuit T</td>\n",
       "      <td>37250</td>\n",
       "      <td>2021</td>\n",
       "      <td>Diesel</td>\n",
       "      <td>Automatic</td>\n",
       "      <td>21189</td>\n",
       "      <td>London</td>\n",
       "    </tr>\n",
       "    <tr>\n",
       "      <th>...</th>\n",
       "      <td>...</td>\n",
       "      <td>...</td>\n",
       "      <td>...</td>\n",
       "      <td>...</td>\n",
       "      <td>...</td>\n",
       "      <td>...</td>\n",
       "      <td>...</td>\n",
       "      <td>...</td>\n",
       "    </tr>\n",
       "    <tr>\n",
       "      <th>9975</th>\n",
       "      <td>9975</td>\n",
       "      <td>Mercedes-Benz A Class\\n1.3L AMG Line A200</td>\n",
       "      <td>29400</td>\n",
       "      <td>2019</td>\n",
       "      <td>Petrol</td>\n",
       "      <td>Automatic</td>\n",
       "      <td>2618</td>\n",
       "      <td>London</td>\n",
       "    </tr>\n",
       "    <tr>\n",
       "      <th>9976</th>\n",
       "      <td>9976</td>\n",
       "      <td>Mercedes-Benz A Class\\n2L AMG A45</td>\n",
       "      <td>29300</td>\n",
       "      <td>2016</td>\n",
       "      <td>Petrol</td>\n",
       "      <td>Automatic</td>\n",
       "      <td>11101</td>\n",
       "      <td>London</td>\n",
       "    </tr>\n",
       "    <tr>\n",
       "      <th>9977</th>\n",
       "      <td>9977</td>\n",
       "      <td>Mini Clubman\\n2L John Cooper Works</td>\n",
       "      <td>29050</td>\n",
       "      <td>2019</td>\n",
       "      <td>Petrol</td>\n",
       "      <td>Manual</td>\n",
       "      <td>46151</td>\n",
       "      <td>London</td>\n",
       "    </tr>\n",
       "    <tr>\n",
       "      <th>9978</th>\n",
       "      <td>9978</td>\n",
       "      <td>Mercedes-Benz A Class\\n1.3L AMG Line A200</td>\n",
       "      <td>28525</td>\n",
       "      <td>2019</td>\n",
       "      <td>Petrol</td>\n",
       "      <td>Automatic</td>\n",
       "      <td>10810</td>\n",
       "      <td>London</td>\n",
       "    </tr>\n",
       "    <tr>\n",
       "      <th>9979</th>\n",
       "      <td>9979</td>\n",
       "      <td>BMW 1 Series\\n1.5L M Sport 118i</td>\n",
       "      <td>28250</td>\n",
       "      <td>2020</td>\n",
       "      <td>Petrol</td>\n",
       "      <td>Automatic</td>\n",
       "      <td>25655</td>\n",
       "      <td>London</td>\n",
       "    </tr>\n",
       "  </tbody>\n",
       "</table>\n",
       "<p>9980 rows × 8 columns</p>\n",
       "</div>"
      ],
      "text/plain": [
       "      Unnamed: 0                                      Brand  Price  Year  \\\n",
       "0              0   Mercedes-Benz A Class\\n2L AMG S Plus A45  57150  2021   \n",
       "1              1       Volkswagen ID.3\\nTour Electric Pro S  40125  2021   \n",
       "2              2          Mercedes-Benz A Class\\n2L AMG A35  38850  2019   \n",
       "3              3          Mercedes-Benz A Class\\n2L AMG A35  37300  2019   \n",
       "4              4            Toyota Yaris\\n1.6L GR Circuit T  37250  2021   \n",
       "...          ...                                        ...    ...   ...   \n",
       "9975        9975  Mercedes-Benz A Class\\n1.3L AMG Line A200  29400  2019   \n",
       "9976        9976          Mercedes-Benz A Class\\n2L AMG A45  29300  2016   \n",
       "9977        9977         Mini Clubman\\n2L John Cooper Works  29050  2019   \n",
       "9978        9978  Mercedes-Benz A Class\\n1.3L AMG Line A200  28525  2019   \n",
       "9979        9979            BMW 1 Series\\n1.5L M Sport 118i  28250  2020   \n",
       "\n",
       "        Fuel Transmission  Running KM Location  \n",
       "0     Diesel    Automatic       30069   London  \n",
       "1     Petrol    Automatic       31360   London  \n",
       "2     Diesel    Automatic       27716   London  \n",
       "3     Petrol    Automatic       15606   London  \n",
       "4     Diesel    Automatic       21189   London  \n",
       "...      ...          ...         ...      ...  \n",
       "9975  Petrol    Automatic        2618   London  \n",
       "9976  Petrol    Automatic       11101   London  \n",
       "9977  Petrol       Manual       46151   London  \n",
       "9978  Petrol    Automatic       10810   London  \n",
       "9979  Petrol    Automatic       25655   London  \n",
       "\n",
       "[9980 rows x 8 columns]"
      ]
     },
     "execution_count": 2,
     "metadata": {},
     "output_type": "execute_result"
    }
   ],
   "source": [
    "df = pd.read_excel(\"UsedCarworking.xlsx\")\n",
    "df"
   ]
  },
  {
   "cell_type": "code",
   "execution_count": 3,
   "id": "8d6a6b03",
   "metadata": {},
   "outputs": [
    {
     "data": {
      "text/html": [
       "<div>\n",
       "<style scoped>\n",
       "    .dataframe tbody tr th:only-of-type {\n",
       "        vertical-align: middle;\n",
       "    }\n",
       "\n",
       "    .dataframe tbody tr th {\n",
       "        vertical-align: top;\n",
       "    }\n",
       "\n",
       "    .dataframe thead th {\n",
       "        text-align: right;\n",
       "    }\n",
       "</style>\n",
       "<table border=\"1\" class=\"dataframe\">\n",
       "  <thead>\n",
       "    <tr style=\"text-align: right;\">\n",
       "      <th></th>\n",
       "      <th>Brand</th>\n",
       "      <th>Price</th>\n",
       "      <th>Year</th>\n",
       "      <th>Fuel</th>\n",
       "      <th>Transmission</th>\n",
       "      <th>Running KM</th>\n",
       "      <th>Location</th>\n",
       "    </tr>\n",
       "  </thead>\n",
       "  <tbody>\n",
       "    <tr>\n",
       "      <th>0</th>\n",
       "      <td>Mercedes-Benz A Class\\n2L AMG S Plus A45</td>\n",
       "      <td>57150</td>\n",
       "      <td>2021</td>\n",
       "      <td>Diesel</td>\n",
       "      <td>Automatic</td>\n",
       "      <td>30069</td>\n",
       "      <td>London</td>\n",
       "    </tr>\n",
       "    <tr>\n",
       "      <th>1</th>\n",
       "      <td>Volkswagen ID.3\\nTour Electric Pro S</td>\n",
       "      <td>40125</td>\n",
       "      <td>2021</td>\n",
       "      <td>Petrol</td>\n",
       "      <td>Automatic</td>\n",
       "      <td>31360</td>\n",
       "      <td>London</td>\n",
       "    </tr>\n",
       "    <tr>\n",
       "      <th>2</th>\n",
       "      <td>Mercedes-Benz A Class\\n2L AMG A35</td>\n",
       "      <td>38850</td>\n",
       "      <td>2019</td>\n",
       "      <td>Diesel</td>\n",
       "      <td>Automatic</td>\n",
       "      <td>27716</td>\n",
       "      <td>London</td>\n",
       "    </tr>\n",
       "    <tr>\n",
       "      <th>3</th>\n",
       "      <td>Mercedes-Benz A Class\\n2L AMG A35</td>\n",
       "      <td>37300</td>\n",
       "      <td>2019</td>\n",
       "      <td>Petrol</td>\n",
       "      <td>Automatic</td>\n",
       "      <td>15606</td>\n",
       "      <td>London</td>\n",
       "    </tr>\n",
       "    <tr>\n",
       "      <th>4</th>\n",
       "      <td>Toyota Yaris\\n1.6L GR Circuit T</td>\n",
       "      <td>37250</td>\n",
       "      <td>2021</td>\n",
       "      <td>Diesel</td>\n",
       "      <td>Automatic</td>\n",
       "      <td>21189</td>\n",
       "      <td>London</td>\n",
       "    </tr>\n",
       "  </tbody>\n",
       "</table>\n",
       "</div>"
      ],
      "text/plain": [
       "                                      Brand  Price  Year    Fuel Transmission  \\\n",
       "0  Mercedes-Benz A Class\\n2L AMG S Plus A45  57150  2021  Diesel    Automatic   \n",
       "1      Volkswagen ID.3\\nTour Electric Pro S  40125  2021  Petrol    Automatic   \n",
       "2         Mercedes-Benz A Class\\n2L AMG A35  38850  2019  Diesel    Automatic   \n",
       "3         Mercedes-Benz A Class\\n2L AMG A35  37300  2019  Petrol    Automatic   \n",
       "4           Toyota Yaris\\n1.6L GR Circuit T  37250  2021  Diesel    Automatic   \n",
       "\n",
       "   Running KM Location  \n",
       "0       30069   London  \n",
       "1       31360   London  \n",
       "2       27716   London  \n",
       "3       15606   London  \n",
       "4       21189   London  "
      ]
     },
     "execution_count": 3,
     "metadata": {},
     "output_type": "execute_result"
    }
   ],
   "source": [
    "df = df.drop(columns = ['Unnamed: 0'], axis = 1)\n",
    "df.head()"
   ]
  },
  {
   "cell_type": "markdown",
   "id": "598bde58",
   "metadata": {},
   "source": [
    "nnamed column has no use in the dataset so we dropped that column from a dataset"
   ]
  },
  {
   "cell_type": "code",
   "execution_count": 4,
   "id": "10bec75a",
   "metadata": {},
   "outputs": [
    {
     "name": "stdout",
     "output_type": "stream",
     "text": [
      "<class 'pandas.core.frame.DataFrame'>\n",
      "RangeIndex: 9980 entries, 0 to 9979\n",
      "Data columns (total 7 columns):\n",
      " #   Column        Non-Null Count  Dtype \n",
      "---  ------        --------------  ----- \n",
      " 0   Brand         9980 non-null   object\n",
      " 1   Price         9980 non-null   int64 \n",
      " 2   Year          9980 non-null   int64 \n",
      " 3   Fuel          9980 non-null   object\n",
      " 4   Transmission  9980 non-null   object\n",
      " 5   Running KM    9980 non-null   int64 \n",
      " 6   Location      9980 non-null   object\n",
      "dtypes: int64(3), object(4)\n",
      "memory usage: 545.9+ KB\n"
     ]
    }
   ],
   "source": [
    "# cheking infpormation of the each column in dataset\n",
    "\n",
    "df.info()"
   ]
  },
  {
   "cell_type": "markdown",
   "id": "e66dea2d",
   "metadata": {},
   "source": [
    "there are no null values present in a dataset and total 9980 rows and 7 columns in a dataset and dtype of dataset is int type-3 and object type are 4\n",
    "\n"
   ]
  },
  {
   "cell_type": "code",
   "execution_count": 5,
   "id": "c70253b3",
   "metadata": {},
   "outputs": [
    {
     "data": {
      "text/plain": [
       "Brand           0\n",
       "Price           0\n",
       "Year            0\n",
       "Fuel            0\n",
       "Transmission    0\n",
       "Running KM      0\n",
       "Location        0\n",
       "dtype: int64"
      ]
     },
     "execution_count": 5,
     "metadata": {},
     "output_type": "execute_result"
    }
   ],
   "source": [
    "# Checking is there any null values present in dataset\n",
    "\n",
    "df.isnull().sum()"
   ]
  },
  {
   "cell_type": "code",
   "execution_count": 6,
   "id": "5de9f9ca",
   "metadata": {},
   "outputs": [
    {
     "data": {
      "text/plain": [
       "<AxesSubplot:>"
      ]
     },
     "execution_count": 6,
     "metadata": {},
     "output_type": "execute_result"
    },
    {
     "data": {
      "image/png": "[encoded data removed]",
      "text/plain": [
       "<Figure size 432x288 with 2 Axes>"
      ]
     },
     "metadata": {
      "needs_background": "light"
     },
     "output_type": "display_data"
    }
   ],
   "source": [
    "#now check null with heatmap\n",
    "\n",
    "sns.heatmap(df.isnull())"
   ]
  },
  {
   "cell_type": "markdown",
   "id": "8d8c4978",
   "metadata": {},
   "source": [
    "EDA"
   ]
  },
  {
   "cell_type": "code",
   "execution_count": 7,
   "id": "6daef5f5",
   "metadata": {},
   "outputs": [
    {
     "data": {
      "image/png": "[encoded data removed]",
      "text/plain": [
       "<Figure size 432x288 with 1 Axes>"
      ]
     },
     "metadata": {},
     "output_type": "display_data"
    }
   ],
   "source": [
    "#let’s visualize the barplot of brand,price using Seaborn\n",
    "sns.set_theme()\n",
    "sns.barplot(x = 'Brand', y = 'Price', data = df)\n",
    "plt.xticks(rotation = 90)\n",
    "plt.show()"
   ]
  },
  {
   "cell_type": "markdown",
   "id": "9702b209",
   "metadata": {},
   "source": [
    "Almost all car brands are in demand but among all popular brands,Mercedes,volkswagen are having high price than other brand cars."
   ]
  },
  {
   "cell_type": "code",
   "execution_count": 9,
   "id": "7aff307b",
   "metadata": {},
   "outputs": [
    {
     "data": {
      "image/png": "[encoded data removed]",
      "text/plain": [
       "<Figure size 432x288 with 1 Axes>"
      ]
     },
     "metadata": {},
     "output_type": "display_data"
    }
   ],
   "source": [
    "#let's visualize the count of Year using seaborn\n",
    "sns.set_theme()\n",
    "sns.countplot(x = df['Year'])\n",
    "plt.xticks(rotation = 90)\n",
    "plt.show()"
   ]
  },
  {
   "cell_type": "code",
   "execution_count": 10,
   "id": "4f8acf68",
   "metadata": {},
   "outputs": [
    {
     "data": {
      "image/png": "[encoded data removed]",
      "text/plain": [
       "<Figure size 432x288 with 1 Axes>"
      ]
     },
     "metadata": {},
     "output_type": "display_data"
    }
   ],
   "source": [
    "#let's visualize the barplot of fuel,price using seaborn\n",
    "sns.set_theme()\n",
    "sns.barplot(x = 'Fuel', y = 'Price', data = df)\n",
    "plt.xticks(rotation = 90)\n",
    "plt.show()"
   ]
  },
  {
   "cell_type": "code",
   "execution_count": 11,
   "id": "805008cf",
   "metadata": {},
   "outputs": [
    {
     "data": {
      "image/png": "[encoded data removed]",
      "text/plain": [
       "<Figure size 432x288 with 1 Axes>"
      ]
     },
     "metadata": {},
     "output_type": "display_data"
    }
   ],
   "source": [
    "#let's visualize the barplot of Transmission,price using seaborn\n",
    "sns.set_theme()\n",
    "sns.barplot(x = 'Transmission', y = 'Price', data = df)\n",
    "plt.xticks(rotation = 90)\n",
    "plt.show()"
   ]
  },
  {
   "cell_type": "code",
   "execution_count": 12,
   "id": "de2b837e",
   "metadata": {},
   "outputs": [
    {
     "data": {
      "image/png": "[encoded data removed]",
      "text/plain": [
       "<Figure size 432x288 with 1 Axes>"
      ]
     },
     "metadata": {},
     "output_type": "display_data"
    }
   ],
   "source": [
    "#let's visualize the barplot of Running KM,price using seaborn\n",
    "sns.set_theme()\n",
    "sns.barplot(x = 'Running KM', y = 'Price', data = df)\n",
    "plt.xticks(rotation = 90)\n",
    "plt.show()\n"
   ]
  },
  {
   "cell_type": "code",
   "execution_count": 13,
   "id": "265b63dd",
   "metadata": {},
   "outputs": [
    {
     "data": {
      "text/plain": [
       "array([[<AxesSubplot:title={'center':'Price'}>,\n",
       "        <AxesSubplot:title={'center':'Year'}>],\n",
       "       [<AxesSubplot:title={'center':'Running KM'}>, <AxesSubplot:>]],\n",
       "      dtype=object)"
      ]
     },
     "execution_count": 13,
     "metadata": {},
     "output_type": "execute_result"
    },
    {
     "data": {
      "image/png": "[encoded data removed]",
      "text/plain": [
       "<Figure size 720x720 with 4 Axes>"
      ]
     },
     "metadata": {},
     "output_type": "display_data"
    }
   ],
   "source": [
    "df.hist(bins = 20, figsize = (10,10))"
   ]
  },
  {
   "cell_type": "code",
   "execution_count": 14,
   "id": "01703aa8",
   "metadata": {},
   "outputs": [],
   "source": [
    "# SPlitting numerical and categorical data\n",
    "\n",
    "num = df.select_dtypes(exclude = object)\n",
    "cat = df.select_dtypes(include = object)"
   ]
  },
  {
   "cell_type": "code",
   "execution_count": 15,
   "id": "0430aafc",
   "metadata": {},
   "outputs": [],
   "source": [
    "# SPlitting numerical and categorical data\n",
    "\n",
    "num = df.select_dtypes(exclude = object)\n",
    "cat = df.select_dtypes(include = object)"
   ]
  },
  {
   "cell_type": "code",
   "execution_count": 16,
   "id": "5c2c90c0",
   "metadata": {},
   "outputs": [],
   "source": [
    "# Applying label Encoder to encode categorical into numerical\n",
    "from sklearn.preprocessing import LabelEncoder\n",
    "\n",
    "le = LabelEncoder()\n",
    "cat = cat.apply(le.fit_transform)"
   ]
  },
  {
   "cell_type": "code",
   "execution_count": 17,
   "id": "9eed8de9",
   "metadata": {},
   "outputs": [
    {
     "data": {
      "text/html": [
       "<div>\n",
       "<style scoped>\n",
       "    .dataframe tbody tr th:only-of-type {\n",
       "        vertical-align: middle;\n",
       "    }\n",
       "\n",
       "    .dataframe tbody tr th {\n",
       "        vertical-align: top;\n",
       "    }\n",
       "\n",
       "    .dataframe thead th {\n",
       "        text-align: right;\n",
       "    }\n",
       "</style>\n",
       "<table border=\"1\" class=\"dataframe\">\n",
       "  <thead>\n",
       "    <tr style=\"text-align: right;\">\n",
       "      <th></th>\n",
       "      <th>Brand</th>\n",
       "      <th>Fuel</th>\n",
       "      <th>Transmission</th>\n",
       "      <th>Location</th>\n",
       "    </tr>\n",
       "  </thead>\n",
       "  <tbody>\n",
       "    <tr>\n",
       "      <th>0</th>\n",
       "      <td>6</td>\n",
       "      <td>0</td>\n",
       "      <td>0</td>\n",
       "      <td>0</td>\n",
       "    </tr>\n",
       "    <tr>\n",
       "      <th>1</th>\n",
       "      <td>11</td>\n",
       "      <td>2</td>\n",
       "      <td>0</td>\n",
       "      <td>0</td>\n",
       "    </tr>\n",
       "    <tr>\n",
       "      <th>2</th>\n",
       "      <td>3</td>\n",
       "      <td>0</td>\n",
       "      <td>0</td>\n",
       "      <td>0</td>\n",
       "    </tr>\n",
       "    <tr>\n",
       "      <th>3</th>\n",
       "      <td>3</td>\n",
       "      <td>2</td>\n",
       "      <td>0</td>\n",
       "      <td>0</td>\n",
       "    </tr>\n",
       "    <tr>\n",
       "      <th>4</th>\n",
       "      <td>9</td>\n",
       "      <td>0</td>\n",
       "      <td>0</td>\n",
       "      <td>0</td>\n",
       "    </tr>\n",
       "    <tr>\n",
       "      <th>...</th>\n",
       "      <td>...</td>\n",
       "      <td>...</td>\n",
       "      <td>...</td>\n",
       "      <td>...</td>\n",
       "    </tr>\n",
       "    <tr>\n",
       "      <th>9975</th>\n",
       "      <td>1</td>\n",
       "      <td>2</td>\n",
       "      <td>0</td>\n",
       "      <td>0</td>\n",
       "    </tr>\n",
       "    <tr>\n",
       "      <th>9976</th>\n",
       "      <td>4</td>\n",
       "      <td>2</td>\n",
       "      <td>0</td>\n",
       "      <td>0</td>\n",
       "    </tr>\n",
       "    <tr>\n",
       "      <th>9977</th>\n",
       "      <td>8</td>\n",
       "      <td>2</td>\n",
       "      <td>1</td>\n",
       "      <td>0</td>\n",
       "    </tr>\n",
       "    <tr>\n",
       "      <th>9978</th>\n",
       "      <td>1</td>\n",
       "      <td>2</td>\n",
       "      <td>0</td>\n",
       "      <td>0</td>\n",
       "    </tr>\n",
       "    <tr>\n",
       "      <th>9979</th>\n",
       "      <td>0</td>\n",
       "      <td>2</td>\n",
       "      <td>0</td>\n",
       "      <td>0</td>\n",
       "    </tr>\n",
       "  </tbody>\n",
       "</table>\n",
       "<p>9980 rows × 4 columns</p>\n",
       "</div>"
      ],
      "text/plain": [
       "      Brand  Fuel  Transmission  Location\n",
       "0         6     0             0         0\n",
       "1        11     2             0         0\n",
       "2         3     0             0         0\n",
       "3         3     2             0         0\n",
       "4         9     0             0         0\n",
       "...     ...   ...           ...       ...\n",
       "9975      1     2             0         0\n",
       "9976      4     2             0         0\n",
       "9977      8     2             1         0\n",
       "9978      1     2             0         0\n",
       "9979      0     2             0         0\n",
       "\n",
       "[9980 rows x 4 columns]"
      ]
     },
     "execution_count": 17,
     "metadata": {},
     "output_type": "execute_result"
    }
   ],
   "source": [
    "cat"
   ]
  },
  {
   "cell_type": "code",
   "execution_count": 18,
   "id": "365ff3e3",
   "metadata": {},
   "outputs": [
    {
     "data": {
      "text/html": [
       "<div>\n",
       "<style scoped>\n",
       "    .dataframe tbody tr th:only-of-type {\n",
       "        vertical-align: middle;\n",
       "    }\n",
       "\n",
       "    .dataframe tbody tr th {\n",
       "        vertical-align: top;\n",
       "    }\n",
       "\n",
       "    .dataframe thead th {\n",
       "        text-align: right;\n",
       "    }\n",
       "</style>\n",
       "<table border=\"1\" class=\"dataframe\">\n",
       "  <thead>\n",
       "    <tr style=\"text-align: right;\">\n",
       "      <th></th>\n",
       "      <th>Price</th>\n",
       "      <th>Year</th>\n",
       "      <th>Running KM</th>\n",
       "    </tr>\n",
       "  </thead>\n",
       "  <tbody>\n",
       "    <tr>\n",
       "      <th>0</th>\n",
       "      <td>57150</td>\n",
       "      <td>2021</td>\n",
       "      <td>30069</td>\n",
       "    </tr>\n",
       "    <tr>\n",
       "      <th>1</th>\n",
       "      <td>40125</td>\n",
       "      <td>2021</td>\n",
       "      <td>31360</td>\n",
       "    </tr>\n",
       "    <tr>\n",
       "      <th>2</th>\n",
       "      <td>38850</td>\n",
       "      <td>2019</td>\n",
       "      <td>27716</td>\n",
       "    </tr>\n",
       "    <tr>\n",
       "      <th>3</th>\n",
       "      <td>37300</td>\n",
       "      <td>2019</td>\n",
       "      <td>15606</td>\n",
       "    </tr>\n",
       "    <tr>\n",
       "      <th>4</th>\n",
       "      <td>37250</td>\n",
       "      <td>2021</td>\n",
       "      <td>21189</td>\n",
       "    </tr>\n",
       "    <tr>\n",
       "      <th>...</th>\n",
       "      <td>...</td>\n",
       "      <td>...</td>\n",
       "      <td>...</td>\n",
       "    </tr>\n",
       "    <tr>\n",
       "      <th>9975</th>\n",
       "      <td>29400</td>\n",
       "      <td>2019</td>\n",
       "      <td>2618</td>\n",
       "    </tr>\n",
       "    <tr>\n",
       "      <th>9976</th>\n",
       "      <td>29300</td>\n",
       "      <td>2016</td>\n",
       "      <td>11101</td>\n",
       "    </tr>\n",
       "    <tr>\n",
       "      <th>9977</th>\n",
       "      <td>29050</td>\n",
       "      <td>2019</td>\n",
       "      <td>46151</td>\n",
       "    </tr>\n",
       "    <tr>\n",
       "      <th>9978</th>\n",
       "      <td>28525</td>\n",
       "      <td>2019</td>\n",
       "      <td>10810</td>\n",
       "    </tr>\n",
       "    <tr>\n",
       "      <th>9979</th>\n",
       "      <td>28250</td>\n",
       "      <td>2020</td>\n",
       "      <td>25655</td>\n",
       "    </tr>\n",
       "  </tbody>\n",
       "</table>\n",
       "<p>9980 rows × 3 columns</p>\n",
       "</div>"
      ],
      "text/plain": [
       "      Price  Year  Running KM\n",
       "0     57150  2021       30069\n",
       "1     40125  2021       31360\n",
       "2     38850  2019       27716\n",
       "3     37300  2019       15606\n",
       "4     37250  2021       21189\n",
       "...     ...   ...         ...\n",
       "9975  29400  2019        2618\n",
       "9976  29300  2016       11101\n",
       "9977  29050  2019       46151\n",
       "9978  28525  2019       10810\n",
       "9979  28250  2020       25655\n",
       "\n",
       "[9980 rows x 3 columns]"
      ]
     },
     "execution_count": 18,
     "metadata": {},
     "output_type": "execute_result"
    }
   ],
   "source": [
    "num"
   ]
  },
  {
   "cell_type": "code",
   "execution_count": 19,
   "id": "19fe621b",
   "metadata": {},
   "outputs": [
    {
     "data": {
      "image/png": "[encoded data removed]",
      "text/plain": [
       "<Figure size 720x720 with 3 Axes>"
      ]
     },
     "metadata": {},
     "output_type": "display_data"
    }
   ],
   "source": [
    "plt.figure(figsize = (10,10))\n",
    "pltnumber = 1\n",
    "                                            # boxplot for numerical columns for train dataset\n",
    "for column in num:\n",
    "    if pltnumber<=4:\n",
    "        ax = plt.subplot(2,2,pltnumber)\n",
    "        sns.boxplot(num[column])\n",
    "        plt.xlabel(column,fontsize=12)\n",
    "        pltnumber+=1\n",
    "plt.tight_layout()"
   ]
  },
  {
   "cell_type": "code",
   "execution_count": 20,
   "id": "d8d0c256",
   "metadata": {},
   "outputs": [
    {
     "data": {
      "text/html": [
       "<div>\n",
       "<style scoped>\n",
       "    .dataframe tbody tr th:only-of-type {\n",
       "        vertical-align: middle;\n",
       "    }\n",
       "\n",
       "    .dataframe tbody tr th {\n",
       "        vertical-align: top;\n",
       "    }\n",
       "\n",
       "    .dataframe thead th {\n",
       "        text-align: right;\n",
       "    }\n",
       "</style>\n",
       "<table border=\"1\" class=\"dataframe\">\n",
       "  <thead>\n",
       "    <tr style=\"text-align: right;\">\n",
       "      <th></th>\n",
       "      <th>Price</th>\n",
       "      <th>Year</th>\n",
       "      <th>Running KM</th>\n",
       "      <th>Brand</th>\n",
       "      <th>Fuel</th>\n",
       "      <th>Transmission</th>\n",
       "      <th>Location</th>\n",
       "    </tr>\n",
       "  </thead>\n",
       "  <tbody>\n",
       "    <tr>\n",
       "      <th>0</th>\n",
       "      <td>57150</td>\n",
       "      <td>2021</td>\n",
       "      <td>30069</td>\n",
       "      <td>6</td>\n",
       "      <td>0</td>\n",
       "      <td>0</td>\n",
       "      <td>0</td>\n",
       "    </tr>\n",
       "    <tr>\n",
       "      <th>1</th>\n",
       "      <td>40125</td>\n",
       "      <td>2021</td>\n",
       "      <td>31360</td>\n",
       "      <td>11</td>\n",
       "      <td>2</td>\n",
       "      <td>0</td>\n",
       "      <td>0</td>\n",
       "    </tr>\n",
       "    <tr>\n",
       "      <th>2</th>\n",
       "      <td>38850</td>\n",
       "      <td>2019</td>\n",
       "      <td>27716</td>\n",
       "      <td>3</td>\n",
       "      <td>0</td>\n",
       "      <td>0</td>\n",
       "      <td>0</td>\n",
       "    </tr>\n",
       "    <tr>\n",
       "      <th>3</th>\n",
       "      <td>37300</td>\n",
       "      <td>2019</td>\n",
       "      <td>15606</td>\n",
       "      <td>3</td>\n",
       "      <td>2</td>\n",
       "      <td>0</td>\n",
       "      <td>0</td>\n",
       "    </tr>\n",
       "    <tr>\n",
       "      <th>4</th>\n",
       "      <td>37250</td>\n",
       "      <td>2021</td>\n",
       "      <td>21189</td>\n",
       "      <td>9</td>\n",
       "      <td>0</td>\n",
       "      <td>0</td>\n",
       "      <td>0</td>\n",
       "    </tr>\n",
       "    <tr>\n",
       "      <th>...</th>\n",
       "      <td>...</td>\n",
       "      <td>...</td>\n",
       "      <td>...</td>\n",
       "      <td>...</td>\n",
       "      <td>...</td>\n",
       "      <td>...</td>\n",
       "      <td>...</td>\n",
       "    </tr>\n",
       "    <tr>\n",
       "      <th>9975</th>\n",
       "      <td>29400</td>\n",
       "      <td>2019</td>\n",
       "      <td>2618</td>\n",
       "      <td>1</td>\n",
       "      <td>2</td>\n",
       "      <td>0</td>\n",
       "      <td>0</td>\n",
       "    </tr>\n",
       "    <tr>\n",
       "      <th>9976</th>\n",
       "      <td>29300</td>\n",
       "      <td>2016</td>\n",
       "      <td>11101</td>\n",
       "      <td>4</td>\n",
       "      <td>2</td>\n",
       "      <td>0</td>\n",
       "      <td>0</td>\n",
       "    </tr>\n",
       "    <tr>\n",
       "      <th>9977</th>\n",
       "      <td>29050</td>\n",
       "      <td>2019</td>\n",
       "      <td>46151</td>\n",
       "      <td>8</td>\n",
       "      <td>2</td>\n",
       "      <td>1</td>\n",
       "      <td>0</td>\n",
       "    </tr>\n",
       "    <tr>\n",
       "      <th>9978</th>\n",
       "      <td>28525</td>\n",
       "      <td>2019</td>\n",
       "      <td>10810</td>\n",
       "      <td>1</td>\n",
       "      <td>2</td>\n",
       "      <td>0</td>\n",
       "      <td>0</td>\n",
       "    </tr>\n",
       "    <tr>\n",
       "      <th>9979</th>\n",
       "      <td>28250</td>\n",
       "      <td>2020</td>\n",
       "      <td>25655</td>\n",
       "      <td>0</td>\n",
       "      <td>2</td>\n",
       "      <td>0</td>\n",
       "      <td>0</td>\n",
       "    </tr>\n",
       "  </tbody>\n",
       "</table>\n",
       "<p>9980 rows × 7 columns</p>\n",
       "</div>"
      ],
      "text/plain": [
       "      Price  Year  Running KM  Brand  Fuel  Transmission  Location\n",
       "0     57150  2021       30069      6     0             0         0\n",
       "1     40125  2021       31360     11     2             0         0\n",
       "2     38850  2019       27716      3     0             0         0\n",
       "3     37300  2019       15606      3     2             0         0\n",
       "4     37250  2021       21189      9     0             0         0\n",
       "...     ...   ...         ...    ...   ...           ...       ...\n",
       "9975  29400  2019        2618      1     2             0         0\n",
       "9976  29300  2016       11101      4     2             0         0\n",
       "9977  29050  2019       46151      8     2             1         0\n",
       "9978  28525  2019       10810      1     2             0         0\n",
       "9979  28250  2020       25655      0     2             0         0\n",
       "\n",
       "[9980 rows x 7 columns]"
      ]
     },
     "execution_count": 20,
     "metadata": {},
     "output_type": "execute_result"
    }
   ],
   "source": [
    "# Merging Numerical and categorical dataset\n",
    "\n",
    "df1 = pd.concat([num,cat],axis = 1)\n",
    "df1"
   ]
  },
  {
   "cell_type": "code",
   "execution_count": 21,
   "id": "8777eff8",
   "metadata": {},
   "outputs": [],
   "source": [
    "#remove location column froma a datset\n",
    "df1 = df1.drop(columns = ['Location'], axis = 1)"
   ]
  },
  {
   "cell_type": "code",
   "execution_count": 22,
   "id": "27e1849d",
   "metadata": {},
   "outputs": [
    {
     "data": {
      "text/html": [
       "<div>\n",
       "<style scoped>\n",
       "    .dataframe tbody tr th:only-of-type {\n",
       "        vertical-align: middle;\n",
       "    }\n",
       "\n",
       "    .dataframe tbody tr th {\n",
       "        vertical-align: top;\n",
       "    }\n",
       "\n",
       "    .dataframe thead th {\n",
       "        text-align: right;\n",
       "    }\n",
       "</style>\n",
       "<table border=\"1\" class=\"dataframe\">\n",
       "  <thead>\n",
       "    <tr style=\"text-align: right;\">\n",
       "      <th></th>\n",
       "      <th>Price</th>\n",
       "      <th>Year</th>\n",
       "      <th>Running KM</th>\n",
       "      <th>Brand</th>\n",
       "      <th>Fuel</th>\n",
       "      <th>Transmission</th>\n",
       "    </tr>\n",
       "  </thead>\n",
       "  <tbody>\n",
       "    <tr>\n",
       "      <th>0</th>\n",
       "      <td>57150</td>\n",
       "      <td>2021</td>\n",
       "      <td>30069</td>\n",
       "      <td>6</td>\n",
       "      <td>0</td>\n",
       "      <td>0</td>\n",
       "    </tr>\n",
       "    <tr>\n",
       "      <th>1</th>\n",
       "      <td>40125</td>\n",
       "      <td>2021</td>\n",
       "      <td>31360</td>\n",
       "      <td>11</td>\n",
       "      <td>2</td>\n",
       "      <td>0</td>\n",
       "    </tr>\n",
       "    <tr>\n",
       "      <th>2</th>\n",
       "      <td>38850</td>\n",
       "      <td>2019</td>\n",
       "      <td>27716</td>\n",
       "      <td>3</td>\n",
       "      <td>0</td>\n",
       "      <td>0</td>\n",
       "    </tr>\n",
       "    <tr>\n",
       "      <th>3</th>\n",
       "      <td>37300</td>\n",
       "      <td>2019</td>\n",
       "      <td>15606</td>\n",
       "      <td>3</td>\n",
       "      <td>2</td>\n",
       "      <td>0</td>\n",
       "    </tr>\n",
       "    <tr>\n",
       "      <th>4</th>\n",
       "      <td>37250</td>\n",
       "      <td>2021</td>\n",
       "      <td>21189</td>\n",
       "      <td>9</td>\n",
       "      <td>0</td>\n",
       "      <td>0</td>\n",
       "    </tr>\n",
       "  </tbody>\n",
       "</table>\n",
       "</div>"
      ],
      "text/plain": [
       "   Price  Year  Running KM  Brand  Fuel  Transmission\n",
       "0  57150  2021       30069      6     0             0\n",
       "1  40125  2021       31360     11     2             0\n",
       "2  38850  2019       27716      3     0             0\n",
       "3  37300  2019       15606      3     2             0\n",
       "4  37250  2021       21189      9     0             0"
      ]
     },
     "execution_count": 22,
     "metadata": {},
     "output_type": "execute_result"
    }
   ],
   "source": [
    "#Checking the dataset\n",
    "df1.head()"
   ]
  },
  {
   "cell_type": "code",
   "execution_count": 23,
   "id": "0212fd54",
   "metadata": {},
   "outputs": [
    {
     "data": {
      "text/html": [
       "<div>\n",
       "<style scoped>\n",
       "    .dataframe tbody tr th:only-of-type {\n",
       "        vertical-align: middle;\n",
       "    }\n",
       "\n",
       "    .dataframe tbody tr th {\n",
       "        vertical-align: top;\n",
       "    }\n",
       "\n",
       "    .dataframe thead th {\n",
       "        text-align: right;\n",
       "    }\n",
       "</style>\n",
       "<table border=\"1\" class=\"dataframe\">\n",
       "  <thead>\n",
       "    <tr style=\"text-align: right;\">\n",
       "      <th></th>\n",
       "      <th>Price</th>\n",
       "      <th>Year</th>\n",
       "      <th>Running KM</th>\n",
       "      <th>Brand</th>\n",
       "      <th>Fuel</th>\n",
       "      <th>Transmission</th>\n",
       "    </tr>\n",
       "  </thead>\n",
       "  <tbody>\n",
       "    <tr>\n",
       "      <th>count</th>\n",
       "      <td>9980.000000</td>\n",
       "      <td>9980.000000</td>\n",
       "      <td>9980.000000</td>\n",
       "      <td>9980.000000</td>\n",
       "      <td>9980.000000</td>\n",
       "      <td>9980.000000</td>\n",
       "    </tr>\n",
       "    <tr>\n",
       "      <th>mean</th>\n",
       "      <td>34418.750000</td>\n",
       "      <td>2019.650000</td>\n",
       "      <td>18956.300000</td>\n",
       "      <td>5.600000</td>\n",
       "      <td>1.500000</td>\n",
       "      <td>0.150000</td>\n",
       "    </tr>\n",
       "    <tr>\n",
       "      <th>std</th>\n",
       "      <td>6403.488375</td>\n",
       "      <td>1.275799</td>\n",
       "      <td>10155.283573</td>\n",
       "      <td>3.322816</td>\n",
       "      <td>0.922001</td>\n",
       "      <td>0.357089</td>\n",
       "    </tr>\n",
       "    <tr>\n",
       "      <th>min</th>\n",
       "      <td>28250.000000</td>\n",
       "      <td>2016.000000</td>\n",
       "      <td>2618.000000</td>\n",
       "      <td>0.000000</td>\n",
       "      <td>0.000000</td>\n",
       "      <td>0.000000</td>\n",
       "    </tr>\n",
       "    <tr>\n",
       "      <th>25%</th>\n",
       "      <td>29493.750000</td>\n",
       "      <td>2019.000000</td>\n",
       "      <td>11028.250000</td>\n",
       "      <td>3.000000</td>\n",
       "      <td>0.750000</td>\n",
       "      <td>0.000000</td>\n",
       "    </tr>\n",
       "    <tr>\n",
       "      <th>50%</th>\n",
       "      <td>33650.000000</td>\n",
       "      <td>2019.500000</td>\n",
       "      <td>17746.500000</td>\n",
       "      <td>5.500000</td>\n",
       "      <td>2.000000</td>\n",
       "      <td>0.000000</td>\n",
       "    </tr>\n",
       "    <tr>\n",
       "      <th>75%</th>\n",
       "      <td>36612.500000</td>\n",
       "      <td>2021.000000</td>\n",
       "      <td>26170.250000</td>\n",
       "      <td>9.000000</td>\n",
       "      <td>2.000000</td>\n",
       "      <td>0.000000</td>\n",
       "    </tr>\n",
       "    <tr>\n",
       "      <th>max</th>\n",
       "      <td>57150.000000</td>\n",
       "      <td>2021.000000</td>\n",
       "      <td>46151.000000</td>\n",
       "      <td>11.000000</td>\n",
       "      <td>3.000000</td>\n",
       "      <td>1.000000</td>\n",
       "    </tr>\n",
       "  </tbody>\n",
       "</table>\n",
       "</div>"
      ],
      "text/plain": [
       "              Price         Year    Running KM        Brand         Fuel  \\\n",
       "count   9980.000000  9980.000000   9980.000000  9980.000000  9980.000000   \n",
       "mean   34418.750000  2019.650000  18956.300000     5.600000     1.500000   \n",
       "std     6403.488375     1.275799  10155.283573     3.322816     0.922001   \n",
       "min    28250.000000  2016.000000   2618.000000     0.000000     0.000000   \n",
       "25%    29493.750000  2019.000000  11028.250000     3.000000     0.750000   \n",
       "50%    33650.000000  2019.500000  17746.500000     5.500000     2.000000   \n",
       "75%    36612.500000  2021.000000  26170.250000     9.000000     2.000000   \n",
       "max    57150.000000  2021.000000  46151.000000    11.000000     3.000000   \n",
       "\n",
       "       Transmission  \n",
       "count   9980.000000  \n",
       "mean       0.150000  \n",
       "std        0.357089  \n",
       "min        0.000000  \n",
       "25%        0.000000  \n",
       "50%        0.000000  \n",
       "75%        0.000000  \n",
       "max        1.000000  "
      ]
     },
     "execution_count": 23,
     "metadata": {},
     "output_type": "execute_result"
    }
   ],
   "source": [
    "#Statistical summary of the dataset\n",
    "df1.describe()"
   ]
  },
  {
   "cell_type": "code",
   "execution_count": 24,
   "id": "713fc769",
   "metadata": {},
   "outputs": [
    {
     "data": {
      "text/html": [
       "<div>\n",
       "<style scoped>\n",
       "    .dataframe tbody tr th:only-of-type {\n",
       "        vertical-align: middle;\n",
       "    }\n",
       "\n",
       "    .dataframe tbody tr th {\n",
       "        vertical-align: top;\n",
       "    }\n",
       "\n",
       "    .dataframe thead th {\n",
       "        text-align: right;\n",
       "    }\n",
       "</style>\n",
       "<table border=\"1\" class=\"dataframe\">\n",
       "  <thead>\n",
       "    <tr style=\"text-align: right;\">\n",
       "      <th></th>\n",
       "      <th>Price</th>\n",
       "      <th>Year</th>\n",
       "      <th>Running KM</th>\n",
       "      <th>Brand</th>\n",
       "      <th>Fuel</th>\n",
       "      <th>Transmission</th>\n",
       "    </tr>\n",
       "  </thead>\n",
       "  <tbody>\n",
       "    <tr>\n",
       "      <th>Price</th>\n",
       "      <td>1.000000</td>\n",
       "      <td>0.419319</td>\n",
       "      <td>0.289636</td>\n",
       "      <td>0.249172</td>\n",
       "      <td>-0.411943</td>\n",
       "      <td>-0.125334</td>\n",
       "    </tr>\n",
       "    <tr>\n",
       "      <th>Year</th>\n",
       "      <td>0.419319</td>\n",
       "      <td>1.000000</td>\n",
       "      <td>0.206260</td>\n",
       "      <td>0.509576</td>\n",
       "      <td>-0.106277</td>\n",
       "      <td>0.115251</td>\n",
       "    </tr>\n",
       "    <tr>\n",
       "      <th>Running KM</th>\n",
       "      <td>0.289636</td>\n",
       "      <td>0.206260</td>\n",
       "      <td>1.000000</td>\n",
       "      <td>0.278444</td>\n",
       "      <td>-0.053507</td>\n",
       "      <td>0.335759</td>\n",
       "    </tr>\n",
       "    <tr>\n",
       "      <th>Brand</th>\n",
       "      <td>0.249172</td>\n",
       "      <td>0.509576</td>\n",
       "      <td>0.278444</td>\n",
       "      <td>1.000000</td>\n",
       "      <td>0.081610</td>\n",
       "      <td>0.429863</td>\n",
       "    </tr>\n",
       "    <tr>\n",
       "      <th>Fuel</th>\n",
       "      <td>-0.411943</td>\n",
       "      <td>-0.106277</td>\n",
       "      <td>-0.053507</td>\n",
       "      <td>0.081610</td>\n",
       "      <td>1.000000</td>\n",
       "      <td>0.379704</td>\n",
       "    </tr>\n",
       "    <tr>\n",
       "      <th>Transmission</th>\n",
       "      <td>-0.125334</td>\n",
       "      <td>0.115251</td>\n",
       "      <td>0.335759</td>\n",
       "      <td>0.429863</td>\n",
       "      <td>0.379704</td>\n",
       "      <td>1.000000</td>\n",
       "    </tr>\n",
       "  </tbody>\n",
       "</table>\n",
       "</div>"
      ],
      "text/plain": [
       "                 Price      Year  Running KM     Brand      Fuel  Transmission\n",
       "Price         1.000000  0.419319    0.289636  0.249172 -0.411943     -0.125334\n",
       "Year          0.419319  1.000000    0.206260  0.509576 -0.106277      0.115251\n",
       "Running KM    0.289636  0.206260    1.000000  0.278444 -0.053507      0.335759\n",
       "Brand         0.249172  0.509576    0.278444  1.000000  0.081610      0.429863\n",
       "Fuel         -0.411943 -0.106277   -0.053507  0.081610  1.000000      0.379704\n",
       "Transmission -0.125334  0.115251    0.335759  0.429863  0.379704      1.000000"
      ]
     },
     "execution_count": 24,
     "metadata": {},
     "output_type": "execute_result"
    }
   ],
   "source": [
    "#Checking correlation of the dataset\n",
    "corr=df1.corr()  #corr() function provides the correlation value of each column\n",
    "corr"
   ]
  },
  {
   "cell_type": "code",
   "execution_count": 25,
   "id": "7b1db323",
   "metadata": {},
   "outputs": [
    {
     "data": {
      "image/png": "[encoded data removed]",
      "text/plain": [
       "<Figure size 1080x864 with 2 Axes>"
      ]
     },
     "metadata": {},
     "output_type": "display_data"
    }
   ],
   "source": [
    "#Plotting heatmap for visualizing the correlation\n",
    "plt.figure(figsize=(15,12))\n",
    "sns.heatmap(corr,linewidth=0.5,linecolor='black',fmt='.0%',annot=True)\n",
    "plt.show()"
   ]
  },
  {
   "cell_type": "code",
   "execution_count": 26,
   "id": "2c93fca0",
   "metadata": {},
   "outputs": [
    {
     "data": {
      "text/plain": [
       "Price           2.079187\n",
       "Year           -0.914402\n",
       "Running KM      0.755438\n",
       "Brand          -0.065110\n",
       "Fuel           -0.765752\n",
       "Transmission    1.960687\n",
       "dtype: float64"
      ]
     },
     "execution_count": 26,
     "metadata": {},
     "output_type": "execute_result"
    }
   ],
   "source": [
    "#checking the skewness\n",
    "df1.skew()"
   ]
  },
  {
   "cell_type": "code",
   "execution_count": 27,
   "id": "3c6bf92e",
   "metadata": {},
   "outputs": [
    {
     "data": {
      "text/plain": [
       "(array([   0,   20,   40,   60,   80,  100,  120,  140,  160,  180,  200,\n",
       "         220,  240,  260,  280,  300,  320,  340,  360,  380,  400,  420,\n",
       "         440,  460,  480,  500,  520,  540,  560,  580,  600,  620,  640,\n",
       "         660,  680,  700,  720,  740,  760,  780,  800,  820,  840,  860,\n",
       "         880,  900,  920,  940,  960,  980, 1000, 1020, 1040, 1060, 1080,\n",
       "        1100, 1120, 1140, 1160, 1180, 1200, 1220, 1240, 1260, 1280, 1300,\n",
       "        1320, 1340, 1360, 1380, 1400, 1420, 1440, 1460, 1480, 1500, 1520,\n",
       "        1540, 1560, 1580, 1600, 1620, 1640, 1660, 1680, 1700, 1720, 1740,\n",
       "        1760, 1780, 1800, 1820, 1840, 1860, 1880, 1900, 1920, 1940, 1960,\n",
       "        1980, 2000, 2020, 2040, 2060, 2080, 2100, 2120, 2140, 2160, 2180,\n",
       "        2200, 2220, 2240, 2260, 2280, 2300, 2320, 2340, 2360, 2380, 2400,\n",
       "        2420, 2440, 2460, 2480, 2500, 2520, 2540, 2560, 2580, 2600, 2620,\n",
       "        2640, 2660, 2680, 2700, 2720, 2740, 2760, 2780, 2800, 2820, 2840,\n",
       "        2860, 2880, 2900, 2920, 2940, 2960, 2980, 3000, 3020, 3040, 3060,\n",
       "        3080, 3100, 3120, 3140, 3160, 3180, 3200, 3220, 3240, 3260, 3280,\n",
       "        3300, 3320, 3340, 3360, 3380, 3400, 3420, 3440, 3460, 3480, 3500,\n",
       "        3520, 3540, 3560, 3580, 3600, 3620, 3640, 3660, 3680, 3700, 3720,\n",
       "        3740, 3760, 3780, 3800, 3820, 3840, 3860, 3880, 3900, 3920, 3940,\n",
       "        3960, 3980, 4000, 4020, 4040, 4060, 4080, 4100, 4120, 4140, 4160,\n",
       "        4180, 4200, 4220, 4240, 4260, 4280, 4300, 4320, 4340, 4360, 4380,\n",
       "        4400, 4420, 4440, 4460, 4480, 4500, 4520, 4540, 4560, 4580, 4600,\n",
       "        4620, 4640, 4660, 4680, 4700, 4720, 4740, 4760, 4780, 4800, 4820,\n",
       "        4840, 4860, 4880, 4900, 4920, 4940, 4960, 4980, 5000, 5020, 5040,\n",
       "        5060, 5080, 5100, 5120, 5140, 5160, 5180, 5200, 5220, 5240, 5260,\n",
       "        5280, 5300, 5320, 5340, 5360, 5380, 5400, 5420, 5440, 5460, 5480,\n",
       "        5500, 5520, 5540, 5560, 5580, 5600, 5620, 5640, 5660, 5680, 5700,\n",
       "        5720, 5740, 5760, 5780, 5800, 5820, 5840, 5860, 5880, 5900, 5920,\n",
       "        5940, 5960, 5980, 6000, 6020, 6040, 6060, 6080, 6100, 6120, 6140,\n",
       "        6160, 6180, 6200, 6220, 6240, 6260, 6280, 6300, 6320, 6340, 6360,\n",
       "        6380, 6400, 6420, 6440, 6460, 6480, 6500, 6520, 6540, 6560, 6580,\n",
       "        6600, 6620, 6640, 6660, 6680, 6700, 6720, 6740, 6760, 6780, 6800,\n",
       "        6820, 6840, 6860, 6880, 6900, 6920, 6940, 6960, 6980, 7000, 7020,\n",
       "        7040, 7060, 7080, 7100, 7120, 7140, 7160, 7180, 7200, 7220, 7240,\n",
       "        7260, 7280, 7300, 7320, 7340, 7360, 7380, 7400, 7420, 7440, 7460,\n",
       "        7480, 7500, 7520, 7540, 7560, 7580, 7600, 7620, 7640, 7660, 7680,\n",
       "        7700, 7720, 7740, 7760, 7780, 7800, 7820, 7840, 7860, 7880, 7900,\n",
       "        7920, 7940, 7960, 7980, 8000, 8020, 8040, 8060, 8080, 8100, 8120,\n",
       "        8140, 8160, 8180, 8200, 8220, 8240, 8260, 8280, 8300, 8320, 8340,\n",
       "        8360, 8380, 8400, 8420, 8440, 8460, 8480, 8500, 8520, 8540, 8560,\n",
       "        8580, 8600, 8620, 8640, 8660, 8680, 8700, 8720, 8740, 8760, 8780,\n",
       "        8800, 8820, 8840, 8860, 8880, 8900, 8920, 8940, 8960, 8980, 9000,\n",
       "        9020, 9040, 9060, 9080, 9100, 9120, 9140, 9160, 9180, 9200, 9220,\n",
       "        9240, 9260, 9280, 9300, 9320, 9340, 9360, 9380, 9400, 9420, 9440,\n",
       "        9460, 9480, 9500, 9520, 9540, 9560, 9580, 9600, 9620, 9640, 9660,\n",
       "        9680, 9700, 9720, 9740, 9760, 9780, 9800, 9820, 9840, 9860, 9880,\n",
       "        9900, 9920, 9940, 9960], dtype=int64),\n",
       " array([0, 0, 0, 0, 0, 0, 0, 0, 0, 0, 0, 0, 0, 0, 0, 0, 0, 0, 0, 0, 0, 0,\n",
       "        0, 0, 0, 0, 0, 0, 0, 0, 0, 0, 0, 0, 0, 0, 0, 0, 0, 0, 0, 0, 0, 0,\n",
       "        0, 0, 0, 0, 0, 0, 0, 0, 0, 0, 0, 0, 0, 0, 0, 0, 0, 0, 0, 0, 0, 0,\n",
       "        0, 0, 0, 0, 0, 0, 0, 0, 0, 0, 0, 0, 0, 0, 0, 0, 0, 0, 0, 0, 0, 0,\n",
       "        0, 0, 0, 0, 0, 0, 0, 0, 0, 0, 0, 0, 0, 0, 0, 0, 0, 0, 0, 0, 0, 0,\n",
       "        0, 0, 0, 0, 0, 0, 0, 0, 0, 0, 0, 0, 0, 0, 0, 0, 0, 0, 0, 0, 0, 0,\n",
       "        0, 0, 0, 0, 0, 0, 0, 0, 0, 0, 0, 0, 0, 0, 0, 0, 0, 0, 0, 0, 0, 0,\n",
       "        0, 0, 0, 0, 0, 0, 0, 0, 0, 0, 0, 0, 0, 0, 0, 0, 0, 0, 0, 0, 0, 0,\n",
       "        0, 0, 0, 0, 0, 0, 0, 0, 0, 0, 0, 0, 0, 0, 0, 0, 0, 0, 0, 0, 0, 0,\n",
       "        0, 0, 0, 0, 0, 0, 0, 0, 0, 0, 0, 0, 0, 0, 0, 0, 0, 0, 0, 0, 0, 0,\n",
       "        0, 0, 0, 0, 0, 0, 0, 0, 0, 0, 0, 0, 0, 0, 0, 0, 0, 0, 0, 0, 0, 0,\n",
       "        0, 0, 0, 0, 0, 0, 0, 0, 0, 0, 0, 0, 0, 0, 0, 0, 0, 0, 0, 0, 0, 0,\n",
       "        0, 0, 0, 0, 0, 0, 0, 0, 0, 0, 0, 0, 0, 0, 0, 0, 0, 0, 0, 0, 0, 0,\n",
       "        0, 0, 0, 0, 0, 0, 0, 0, 0, 0, 0, 0, 0, 0, 0, 0, 0, 0, 0, 0, 0, 0,\n",
       "        0, 0, 0, 0, 0, 0, 0, 0, 0, 0, 0, 0, 0, 0, 0, 0, 0, 0, 0, 0, 0, 0,\n",
       "        0, 0, 0, 0, 0, 0, 0, 0, 0, 0, 0, 0, 0, 0, 0, 0, 0, 0, 0, 0, 0, 0,\n",
       "        0, 0, 0, 0, 0, 0, 0, 0, 0, 0, 0, 0, 0, 0, 0, 0, 0, 0, 0, 0, 0, 0,\n",
       "        0, 0, 0, 0, 0, 0, 0, 0, 0, 0, 0, 0, 0, 0, 0, 0, 0, 0, 0, 0, 0, 0,\n",
       "        0, 0, 0, 0, 0, 0, 0, 0, 0, 0, 0, 0, 0, 0, 0, 0, 0, 0, 0, 0, 0, 0,\n",
       "        0, 0, 0, 0, 0, 0, 0, 0, 0, 0, 0, 0, 0, 0, 0, 0, 0, 0, 0, 0, 0, 0,\n",
       "        0, 0, 0, 0, 0, 0, 0, 0, 0, 0, 0, 0, 0, 0, 0, 0, 0, 0, 0, 0, 0, 0,\n",
       "        0, 0, 0, 0, 0, 0, 0, 0, 0, 0, 0, 0, 0, 0, 0, 0, 0, 0, 0, 0, 0, 0,\n",
       "        0, 0, 0, 0, 0, 0, 0, 0, 0, 0, 0, 0, 0, 0, 0], dtype=int64))"
      ]
     },
     "execution_count": 27,
     "metadata": {},
     "output_type": "execute_result"
    }
   ],
   "source": [
    "from scipy.stats import zscore\n",
    "import numpy as np\n",
    "z=np.abs(zscore(df1))   #converting all values into absolute values\n",
    "threshold=3    #setting up a threshold\n",
    "np.where(z>3)"
   ]
  },
  {
   "cell_type": "code",
   "execution_count": 28,
   "id": "437e4cd9",
   "metadata": {},
   "outputs": [
    {
     "data": {
      "text/html": [
       "<div>\n",
       "<style scoped>\n",
       "    .dataframe tbody tr th:only-of-type {\n",
       "        vertical-align: middle;\n",
       "    }\n",
       "\n",
       "    .dataframe tbody tr th {\n",
       "        vertical-align: top;\n",
       "    }\n",
       "\n",
       "    .dataframe thead th {\n",
       "        text-align: right;\n",
       "    }\n",
       "</style>\n",
       "<table border=\"1\" class=\"dataframe\">\n",
       "  <thead>\n",
       "    <tr style=\"text-align: right;\">\n",
       "      <th></th>\n",
       "      <th>Price</th>\n",
       "      <th>Year</th>\n",
       "      <th>Running KM</th>\n",
       "      <th>Brand</th>\n",
       "      <th>Fuel</th>\n",
       "      <th>Transmission</th>\n",
       "    </tr>\n",
       "  </thead>\n",
       "  <tbody>\n",
       "    <tr>\n",
       "      <th>1</th>\n",
       "      <td>40125</td>\n",
       "      <td>2021</td>\n",
       "      <td>31360</td>\n",
       "      <td>11</td>\n",
       "      <td>2</td>\n",
       "      <td>0</td>\n",
       "    </tr>\n",
       "    <tr>\n",
       "      <th>2</th>\n",
       "      <td>38850</td>\n",
       "      <td>2019</td>\n",
       "      <td>27716</td>\n",
       "      <td>3</td>\n",
       "      <td>0</td>\n",
       "      <td>0</td>\n",
       "    </tr>\n",
       "    <tr>\n",
       "      <th>3</th>\n",
       "      <td>37300</td>\n",
       "      <td>2019</td>\n",
       "      <td>15606</td>\n",
       "      <td>3</td>\n",
       "      <td>2</td>\n",
       "      <td>0</td>\n",
       "    </tr>\n",
       "    <tr>\n",
       "      <th>4</th>\n",
       "      <td>37250</td>\n",
       "      <td>2021</td>\n",
       "      <td>21189</td>\n",
       "      <td>9</td>\n",
       "      <td>0</td>\n",
       "      <td>0</td>\n",
       "    </tr>\n",
       "    <tr>\n",
       "      <th>5</th>\n",
       "      <td>36400</td>\n",
       "      <td>2019</td>\n",
       "      <td>20062</td>\n",
       "      <td>3</td>\n",
       "      <td>2</td>\n",
       "      <td>0</td>\n",
       "    </tr>\n",
       "    <tr>\n",
       "      <th>...</th>\n",
       "      <td>...</td>\n",
       "      <td>...</td>\n",
       "      <td>...</td>\n",
       "      <td>...</td>\n",
       "      <td>...</td>\n",
       "      <td>...</td>\n",
       "    </tr>\n",
       "    <tr>\n",
       "      <th>9975</th>\n",
       "      <td>29400</td>\n",
       "      <td>2019</td>\n",
       "      <td>2618</td>\n",
       "      <td>1</td>\n",
       "      <td>2</td>\n",
       "      <td>0</td>\n",
       "    </tr>\n",
       "    <tr>\n",
       "      <th>9976</th>\n",
       "      <td>29300</td>\n",
       "      <td>2016</td>\n",
       "      <td>11101</td>\n",
       "      <td>4</td>\n",
       "      <td>2</td>\n",
       "      <td>0</td>\n",
       "    </tr>\n",
       "    <tr>\n",
       "      <th>9977</th>\n",
       "      <td>29050</td>\n",
       "      <td>2019</td>\n",
       "      <td>46151</td>\n",
       "      <td>8</td>\n",
       "      <td>2</td>\n",
       "      <td>1</td>\n",
       "    </tr>\n",
       "    <tr>\n",
       "      <th>9978</th>\n",
       "      <td>28525</td>\n",
       "      <td>2019</td>\n",
       "      <td>10810</td>\n",
       "      <td>1</td>\n",
       "      <td>2</td>\n",
       "      <td>0</td>\n",
       "    </tr>\n",
       "    <tr>\n",
       "      <th>9979</th>\n",
       "      <td>28250</td>\n",
       "      <td>2020</td>\n",
       "      <td>25655</td>\n",
       "      <td>0</td>\n",
       "      <td>2</td>\n",
       "      <td>0</td>\n",
       "    </tr>\n",
       "  </tbody>\n",
       "</table>\n",
       "<p>9481 rows × 6 columns</p>\n",
       "</div>"
      ],
      "text/plain": [
       "      Price  Year  Running KM  Brand  Fuel  Transmission\n",
       "1     40125  2021       31360     11     2             0\n",
       "2     38850  2019       27716      3     0             0\n",
       "3     37300  2019       15606      3     2             0\n",
       "4     37250  2021       21189      9     0             0\n",
       "5     36400  2019       20062      3     2             0\n",
       "...     ...   ...         ...    ...   ...           ...\n",
       "9975  29400  2019        2618      1     2             0\n",
       "9976  29300  2016       11101      4     2             0\n",
       "9977  29050  2019       46151      8     2             1\n",
       "9978  28525  2019       10810      1     2             0\n",
       "9979  28250  2020       25655      0     2             0\n",
       "\n",
       "[9481 rows x 6 columns]"
      ]
     },
     "execution_count": 28,
     "metadata": {},
     "output_type": "execute_result"
    }
   ],
   "source": [
    "#Removing outliers\n",
    "df_new=df1[(z<3).all(axis=1)]\n",
    "df_new"
   ]
  },
  {
   "cell_type": "code",
   "execution_count": 29,
   "id": "3cc681bb",
   "metadata": {},
   "outputs": [
    {
     "data": {
      "text/plain": [
       "(9980, 7)"
      ]
     },
     "execution_count": 29,
     "metadata": {},
     "output_type": "execute_result"
    }
   ],
   "source": [
    "df.shape"
   ]
  },
  {
   "cell_type": "code",
   "execution_count": 30,
   "id": "92341728",
   "metadata": {},
   "outputs": [
    {
     "data": {
      "text/plain": [
       "(9481, 6)"
      ]
     },
     "execution_count": 30,
     "metadata": {},
     "output_type": "execute_result"
    }
   ],
   "source": [
    "df_new.shape"
   ]
  },
  {
   "cell_type": "code",
   "execution_count": 31,
   "id": "0288dc51",
   "metadata": {},
   "outputs": [
    {
     "name": "stdout",
     "output_type": "stream",
     "text": [
      "5.0\n"
     ]
    }
   ],
   "source": [
    "dfshape = 9980\n",
    "dfnewshape = 9481\n",
    "total = dfshape-dfnewshape\n",
    "percentage_loss=((total)/dfshape)*100   \n",
    "print(percentage_loss)"
   ]
  },
  {
   "cell_type": "code",
   "execution_count": 32,
   "id": "706d80df",
   "metadata": {},
   "outputs": [
    {
     "data": {
      "text/html": [
       "<div>\n",
       "<style scoped>\n",
       "    .dataframe tbody tr th:only-of-type {\n",
       "        vertical-align: middle;\n",
       "    }\n",
       "\n",
       "    .dataframe tbody tr th {\n",
       "        vertical-align: top;\n",
       "    }\n",
       "\n",
       "    .dataframe thead th {\n",
       "        text-align: right;\n",
       "    }\n",
       "</style>\n",
       "<table border=\"1\" class=\"dataframe\">\n",
       "  <thead>\n",
       "    <tr style=\"text-align: right;\">\n",
       "      <th></th>\n",
       "      <th>Price</th>\n",
       "      <th>Year</th>\n",
       "      <th>Running KM</th>\n",
       "      <th>Brand</th>\n",
       "      <th>Fuel</th>\n",
       "      <th>Transmission</th>\n",
       "    </tr>\n",
       "  </thead>\n",
       "  <tbody>\n",
       "    <tr>\n",
       "      <th>1</th>\n",
       "      <td>40125</td>\n",
       "      <td>2021</td>\n",
       "      <td>31360</td>\n",
       "      <td>11</td>\n",
       "      <td>2</td>\n",
       "      <td>0</td>\n",
       "    </tr>\n",
       "    <tr>\n",
       "      <th>2</th>\n",
       "      <td>38850</td>\n",
       "      <td>2019</td>\n",
       "      <td>27716</td>\n",
       "      <td>3</td>\n",
       "      <td>0</td>\n",
       "      <td>0</td>\n",
       "    </tr>\n",
       "    <tr>\n",
       "      <th>3</th>\n",
       "      <td>37300</td>\n",
       "      <td>2019</td>\n",
       "      <td>15606</td>\n",
       "      <td>3</td>\n",
       "      <td>2</td>\n",
       "      <td>0</td>\n",
       "    </tr>\n",
       "    <tr>\n",
       "      <th>4</th>\n",
       "      <td>37250</td>\n",
       "      <td>2021</td>\n",
       "      <td>21189</td>\n",
       "      <td>9</td>\n",
       "      <td>0</td>\n",
       "      <td>0</td>\n",
       "    </tr>\n",
       "    <tr>\n",
       "      <th>5</th>\n",
       "      <td>36400</td>\n",
       "      <td>2019</td>\n",
       "      <td>20062</td>\n",
       "      <td>3</td>\n",
       "      <td>2</td>\n",
       "      <td>0</td>\n",
       "    </tr>\n",
       "    <tr>\n",
       "      <th>...</th>\n",
       "      <td>...</td>\n",
       "      <td>...</td>\n",
       "      <td>...</td>\n",
       "      <td>...</td>\n",
       "      <td>...</td>\n",
       "      <td>...</td>\n",
       "    </tr>\n",
       "    <tr>\n",
       "      <th>9975</th>\n",
       "      <td>29400</td>\n",
       "      <td>2019</td>\n",
       "      <td>2618</td>\n",
       "      <td>1</td>\n",
       "      <td>2</td>\n",
       "      <td>0</td>\n",
       "    </tr>\n",
       "    <tr>\n",
       "      <th>9976</th>\n",
       "      <td>29300</td>\n",
       "      <td>2016</td>\n",
       "      <td>11101</td>\n",
       "      <td>4</td>\n",
       "      <td>2</td>\n",
       "      <td>0</td>\n",
       "    </tr>\n",
       "    <tr>\n",
       "      <th>9977</th>\n",
       "      <td>29050</td>\n",
       "      <td>2019</td>\n",
       "      <td>46151</td>\n",
       "      <td>8</td>\n",
       "      <td>2</td>\n",
       "      <td>1</td>\n",
       "    </tr>\n",
       "    <tr>\n",
       "      <th>9978</th>\n",
       "      <td>28525</td>\n",
       "      <td>2019</td>\n",
       "      <td>10810</td>\n",
       "      <td>1</td>\n",
       "      <td>2</td>\n",
       "      <td>0</td>\n",
       "    </tr>\n",
       "    <tr>\n",
       "      <th>9979</th>\n",
       "      <td>28250</td>\n",
       "      <td>2020</td>\n",
       "      <td>25655</td>\n",
       "      <td>0</td>\n",
       "      <td>2</td>\n",
       "      <td>0</td>\n",
       "    </tr>\n",
       "  </tbody>\n",
       "</table>\n",
       "<p>9481 rows × 6 columns</p>\n",
       "</div>"
      ],
      "text/plain": [
       "      Price  Year  Running KM  Brand  Fuel  Transmission\n",
       "1     40125  2021       31360     11     2             0\n",
       "2     38850  2019       27716      3     0             0\n",
       "3     37300  2019       15606      3     2             0\n",
       "4     37250  2021       21189      9     0             0\n",
       "5     36400  2019       20062      3     2             0\n",
       "...     ...   ...         ...    ...   ...           ...\n",
       "9975  29400  2019        2618      1     2             0\n",
       "9976  29300  2016       11101      4     2             0\n",
       "9977  29050  2019       46151      8     2             1\n",
       "9978  28525  2019       10810      1     2             0\n",
       "9979  28250  2020       25655      0     2             0\n",
       "\n",
       "[9481 rows x 6 columns]"
      ]
     },
     "execution_count": 32,
     "metadata": {},
     "output_type": "execute_result"
    }
   ],
   "source": [
    "df_new"
   ]
  },
  {
   "cell_type": "code",
   "execution_count": 33,
   "id": "dce3b041",
   "metadata": {},
   "outputs": [],
   "source": [
    "# Splitting X and Y values.\n",
    "\n",
    "x = df_new.drop(columns = ['Price'], axis = 1)\n",
    "y = df_new['Price']"
   ]
  },
  {
   "cell_type": "code",
   "execution_count": 34,
   "id": "add5299b",
   "metadata": {},
   "outputs": [],
   "source": [
    "#Scaling the data for normalize the range of values to 0-1.\n",
    "from sklearn.preprocessing import StandardScaler\n",
    "scaler = StandardScaler()\n",
    "x_sc = scaler.fit_transform(x)"
   ]
  },
  {
   "cell_type": "markdown",
   "id": "b18eb65e",
   "metadata": {},
   "source": [
    "Model Building :"
   ]
  },
  {
   "cell_type": "code",
   "execution_count": 35,
   "id": "fc743d1d",
   "metadata": {},
   "outputs": [],
   "source": [
    "from sklearn.model_selection import train_test_split, cross_val_score, RandomizedSearchCV\n",
    "from sklearn.metrics import r2_score,mean_squared_error\n",
    "from sklearn.ensemble import RandomForestRegressor\n",
    "from sklearn.neighbors import KNeighborsRegressor\n",
    "from sklearn.ensemble import GradientBoostingRegressor \n",
    "from sklearn.ensemble import AdaBoostRegressor "
   ]
  },
  {
   "cell_type": "code",
   "execution_count": 36,
   "id": "e7f69565",
   "metadata": {},
   "outputs": [],
   "source": [
    "# Train test Split\n",
    "\n",
    "x_train,x_test,y_train,y_test = train_test_split(x_sc,y, test_size = 0.20, random_state = 555)"
   ]
  },
  {
   "cell_type": "code",
   "execution_count": 37,
   "id": "1f9640fa",
   "metadata": {},
   "outputs": [
    {
     "name": "stdout",
     "output_type": "stream",
     "text": [
      "r2_Score 1.0\n",
      "CV Score 1.0\n",
      "MSE 0.0\n",
      "RMSE 0.0\n",
      "Train Score 1.0\n",
      "Test Score 1.0\n"
     ]
    }
   ],
   "source": [
    "#RandomForestRegressor Algorithm\n",
    "rfr = RandomForestRegressor()\n",
    "rfr.fit(x_train,y_train)\n",
    "y_pred = rfr.predict(x_test)\n",
    "scr_rfr = cross_val_score(rfr,x,y,cv=5)\n",
    "\n",
    "print(\"r2_Score\", r2_score(y_test,y_pred))\n",
    "print(\"CV Score\", scr_rfr.mean())\n",
    "print(\"MSE\",mean_squared_error(y_test,y_pred))\n",
    "print(\"RMSE\",np.sqrt(mean_squared_error(y_test,y_pred)))\n",
    "print(\"Train Score\", rfr.score(x_train,y_train))\n",
    "print(\"Test Score\", rfr.score(x_test,y_test))"
   ]
  },
  {
   "cell_type": "code",
   "execution_count": 38,
   "id": "7e1f9f39",
   "metadata": {},
   "outputs": [
    {
     "data": {
      "image/png": "[encoded data removed]",
      "text/plain": [
       "<Figure size 432x288 with 1 Axes>"
      ]
     },
     "metadata": {},
     "output_type": "display_data"
    }
   ],
   "source": [
    "plt.scatter(y_test,y_pred, color = 'green')      #Scatter Matrix for Actual VS predicted for the model\n",
    "plt.xlabel(\"Actual\")\n",
    "plt.ylabel(\"predicted\")\n",
    "plt.show()"
   ]
  },
  {
   "cell_type": "code",
   "execution_count": 39,
   "id": "efc4b6be",
   "metadata": {},
   "outputs": [
    {
     "name": "stdout",
     "output_type": "stream",
     "text": [
      "r2_Score 1.0\n",
      "CV Score 1.0\n",
      "MSE 0.0\n",
      "RMSE 0.0\n",
      "Train Score 1.0\n",
      "Test Score 1.0\n"
     ]
    }
   ],
   "source": [
    "#KNeighborsRegressor Algorithm\n",
    "\n",
    "from sklearn.neighbors import KNeighborsRegressor\n",
    "\n",
    "knr = KNeighborsRegressor(n_neighbors = 5)\n",
    "knr.fit(x_train,y_train)\n",
    "y_pred = knr.predict(x_test)\n",
    "scr_knr = cross_val_score(knr,x,y,cv=5)\n",
    "\n",
    "print(\"r2_Score\", r2_score(y_test,y_pred))\n",
    "print(\"CV Score\", scr_knr.mean())\n",
    "print(\"MSE\",mean_squared_error(y_test,y_pred))\n",
    "print(\"RMSE\",np.sqrt(mean_squared_error(y_test,y_pred)))\n",
    "print(\"Train Score\", knr.score(x_train,y_train))\n",
    "print(\"Test Score\", knr.score(x_test,y_test))"
   ]
  },
  {
   "cell_type": "code",
   "execution_count": 40,
   "id": "53610b01",
   "metadata": {},
   "outputs": [
    {
     "data": {
      "image/png": "[encoded data removed]",
      "text/plain": [
       "<Figure size 432x288 with 1 Axes>"
      ]
     },
     "metadata": {},
     "output_type": "display_data"
    }
   ],
   "source": [
    "plt.scatter(y_test,y_pred, color = 'green')      #Scatter Matrix for Actual VS predicted for the model\n",
    "plt.xlabel(\"Actual\")\n",
    "plt.ylabel(\"predicted\")\n",
    "plt.show()"
   ]
  },
  {
   "cell_type": "code",
   "execution_count": 41,
   "id": "acba1879",
   "metadata": {},
   "outputs": [
    {
     "name": "stdout",
     "output_type": "stream",
     "text": [
      "r2_Score 0.9999812019098032\n",
      "CV Score 0.9999822732371323\n",
      "MSE 278.99167943477244\n",
      "RMSE 16.703044017027928\n",
      "Train Score 0.999981027973619\n",
      "Test Score 0.9999812019098032\n"
     ]
    }
   ],
   "source": [
    "#GradientBoostRegressor Algorithm\n",
    "\n",
    "from sklearn.ensemble import GradientBoostingRegressor \n",
    "gbr = GradientBoostingRegressor()\n",
    "gbr.fit(x_train, y_train)\n",
    "y_pred = gbr.predict(x_test)\n",
    "scr_gbr = cross_val_score(gbr,x,y,cv=5)\n",
    "\n",
    "print(\"r2_Score\", r2_score(y_test,y_pred))\n",
    "print(\"CV Score\", scr_gbr.mean())\n",
    "print(\"MSE\",mean_squared_error(y_test,y_pred))\n",
    "print(\"RMSE\",np.sqrt(mean_squared_error(y_test,y_pred)))\n",
    "print(\"Train Score\", gbr.score(x_train,y_train))\n",
    "print(\"Test Score\", gbr.score(x_test,y_test))"
   ]
  },
  {
   "cell_type": "code",
   "execution_count": 42,
   "id": "99633ccf",
   "metadata": {},
   "outputs": [
    {
     "data": {
      "image/png": "[encoded data removed]",
      "text/plain": [
       "<Figure size 432x288 with 1 Axes>"
      ]
     },
     "metadata": {},
     "output_type": "display_data"
    }
   ],
   "source": [
    "plt.scatter(y_test,y_pred, color = 'green')      #Scatter Matrix for Actual VS predicted for the model\n",
    "plt.xlabel(\"Actual\")\n",
    "plt.ylabel(\"predicted\")\n",
    "plt.show()\n"
   ]
  },
  {
   "cell_type": "code",
   "execution_count": 43,
   "id": "427e4038",
   "metadata": {},
   "outputs": [
    {
     "name": "stdout",
     "output_type": "stream",
     "text": [
      "r2_Score 0.9663247033329971\n",
      "CV Score 0.9503202923062647\n",
      "MSE 499791.59979809204\n",
      "RMSE 706.9594046323255\n",
      "Train Score 0.9647627004656074\n",
      "Test Score 0.9663247033329971\n"
     ]
    }
   ],
   "source": [
    "# AdaBoostRegressor Algorithm\n",
    "\n",
    "from sklearn.ensemble import AdaBoostRegressor \n",
    "abr = AdaBoostRegressor()\n",
    "abr.fit(x_train, y_train)\n",
    "y_pred = abr.predict(x_test)\n",
    "scr_abr = cross_val_score(abr,x,y,cv=5)\n",
    "\n",
    "print(\"r2_Score\", r2_score(y_test,y_pred))\n",
    "print(\"CV Score\", scr_abr.mean())\n",
    "print(\"MSE\",mean_squared_error(y_test,y_pred))\n",
    "print(\"RMSE\",np.sqrt(mean_squared_error(y_test,y_pred)))\n",
    "print(\"Train Score\", abr.score(x_train,y_train))\n",
    "print(\"Test Score\", abr.score(x_test,y_test))"
   ]
  },
  {
   "cell_type": "code",
   "execution_count": 44,
   "id": "9679e395",
   "metadata": {},
   "outputs": [
    {
     "data": {
      "image/png": "[encoded data removed]",
      "text/plain": [
       "<Figure size 432x288 with 1 Axes>"
      ]
     },
     "metadata": {},
     "output_type": "display_data"
    }
   ],
   "source": [
    "plt.scatter(y_test,y_pred, color = 'green')      #Scatter Matrix for Actual VS predicted for the model\n",
    "plt.xlabel(\"Actual\")\n",
    "plt.ylabel(\"predicted\")\n",
    "plt.show()\n"
   ]
  },
  {
   "cell_type": "markdown",
   "id": "86eb7127",
   "metadata": {},
   "source": [
    "As we can see that random forest and KNeighbors are having high accuracy of 100%.\n",
    "\n",
    "Let's apply hyper parameter tuning for RANDOM FOREST Model."
   ]
  },
  {
   "cell_type": "markdown",
   "id": "4e061ae9",
   "metadata": {},
   "source": [
    "Hyperparameter Tuning :"
   ]
  },
  {
   "cell_type": "code",
   "execution_count": 46,
   "id": "769e7973",
   "metadata": {},
   "outputs": [],
   "source": [
    "from sklearn.model_selection import GridSearchCV"
   ]
  },
  {
   "cell_type": "code",
   "execution_count": 47,
   "id": "f01fbee7",
   "metadata": {},
   "outputs": [],
   "source": [
    "parameters={'criterion':['mse','mae'],\n",
    "            'n_estimators':[40,60,80,100],\n",
    "            'max_features':['auto','sqrt','log2']}"
   ]
  },
  {
   "cell_type": "code",
   "execution_count": 48,
   "id": "90fe8532",
   "metadata": {},
   "outputs": [
    {
     "name": "stdout",
     "output_type": "stream",
     "text": [
      "{'criterion': 'mse', 'max_features': 'auto', 'n_estimators': 40}\n",
      "1.0\n"
     ]
    }
   ],
   "source": [
    "#Printing the best parameters obtained and #Mean cross-validated score\n",
    "rfr=RandomForestRegressor()\n",
    "grid=GridSearchCV(rfr,parameters,cv=5,scoring='r2')\n",
    "grid.fit(x_train,y_train)\n",
    "print(grid.best_params_) \n",
    "print(grid.best_score_) "
   ]
  },
  {
   "cell_type": "code",
   "execution_count": 49,
   "id": "955f267b",
   "metadata": {},
   "outputs": [
    {
     "name": "stdout",
     "output_type": "stream",
     "text": [
      "r2_score:  1.0\n"
     ]
    }
   ],
   "source": [
    "RF=RandomForestRegressor(random_state=48, n_estimators=40, criterion='mse', max_features='auto')\n",
    "RF.fit(x_train,y_train)\n",
    "pred=RF.predict(x_test)\n",
    "print('r2_score: ',r2_score(y_test,pred))"
   ]
  },
  {
   "cell_type": "code",
   "execution_count": 50,
   "id": "bf5373d3",
   "metadata": {},
   "outputs": [
    {
     "data": {
      "image/png": "[encoded data removed]",
      "text/plain": [
       "<Figure size 432x288 with 1 Axes>"
      ]
     },
     "metadata": {},
     "output_type": "display_data"
    }
   ],
   "source": [
    "plt.scatter(y_test,pred, color = 'red')      #Scatter Matrix for Actual VS predicted for the model\n",
    "plt.xlabel(\"Actual\")\n",
    "plt.ylabel(\"predicted\")\n",
    "plt.show()"
   ]
  },
  {
   "cell_type": "markdown",
   "id": "f007a192",
   "metadata": {},
   "source": [
    "Finalizing the model :"
   ]
  },
  {
   "cell_type": "code",
   "execution_count": 51,
   "id": "c3fcad67",
   "metadata": {},
   "outputs": [
    {
     "name": "stdout",
     "output_type": "stream",
     "text": [
      "Predictions of Random Forest Regressor:  [40125.    40125.    40125.    ... 40125.    38087.5   29299.375]\n"
     ]
    }
   ],
   "source": [
    "rf_prediction=RF.predict(x)\n",
    "print('Predictions of Random Forest Regressor: ',rf_prediction)"
   ]
  },
  {
   "cell_type": "code",
   "execution_count": 52,
   "id": "d188cbf9",
   "metadata": {},
   "outputs": [
    {
     "data": {
      "text/html": [
       "<div>\n",
       "<style scoped>\n",
       "    .dataframe tbody tr th:only-of-type {\n",
       "        vertical-align: middle;\n",
       "    }\n",
       "\n",
       "    .dataframe tbody tr th {\n",
       "        vertical-align: top;\n",
       "    }\n",
       "\n",
       "    .dataframe thead th {\n",
       "        text-align: right;\n",
       "    }\n",
       "</style>\n",
       "<table border=\"1\" class=\"dataframe\">\n",
       "  <thead>\n",
       "    <tr style=\"text-align: right;\">\n",
       "      <th></th>\n",
       "      <th>Original_price</th>\n",
       "      <th>Predicted_price</th>\n",
       "    </tr>\n",
       "  </thead>\n",
       "  <tbody>\n",
       "    <tr>\n",
       "      <th>1</th>\n",
       "      <td>40125</td>\n",
       "      <td>40125.000</td>\n",
       "    </tr>\n",
       "    <tr>\n",
       "      <th>2</th>\n",
       "      <td>38850</td>\n",
       "      <td>40125.000</td>\n",
       "    </tr>\n",
       "    <tr>\n",
       "      <th>3</th>\n",
       "      <td>37300</td>\n",
       "      <td>40125.000</td>\n",
       "    </tr>\n",
       "    <tr>\n",
       "      <th>4</th>\n",
       "      <td>37250</td>\n",
       "      <td>40125.000</td>\n",
       "    </tr>\n",
       "    <tr>\n",
       "      <th>5</th>\n",
       "      <td>36400</td>\n",
       "      <td>40125.000</td>\n",
       "    </tr>\n",
       "    <tr>\n",
       "      <th>...</th>\n",
       "      <td>...</td>\n",
       "      <td>...</td>\n",
       "    </tr>\n",
       "    <tr>\n",
       "      <th>9975</th>\n",
       "      <td>29400</td>\n",
       "      <td>38087.500</td>\n",
       "    </tr>\n",
       "    <tr>\n",
       "      <th>9976</th>\n",
       "      <td>29300</td>\n",
       "      <td>40125.000</td>\n",
       "    </tr>\n",
       "    <tr>\n",
       "      <th>9977</th>\n",
       "      <td>29050</td>\n",
       "      <td>40125.000</td>\n",
       "    </tr>\n",
       "    <tr>\n",
       "      <th>9978</th>\n",
       "      <td>28525</td>\n",
       "      <td>38087.500</td>\n",
       "    </tr>\n",
       "    <tr>\n",
       "      <th>9979</th>\n",
       "      <td>28250</td>\n",
       "      <td>29299.375</td>\n",
       "    </tr>\n",
       "  </tbody>\n",
       "</table>\n",
       "<p>9481 rows × 2 columns</p>\n",
       "</div>"
      ],
      "text/plain": [
       "      Original_price  Predicted_price\n",
       "1              40125        40125.000\n",
       "2              38850        40125.000\n",
       "3              37300        40125.000\n",
       "4              37250        40125.000\n",
       "5              36400        40125.000\n",
       "...              ...              ...\n",
       "9975           29400        38087.500\n",
       "9976           29300        40125.000\n",
       "9977           29050        40125.000\n",
       "9978           28525        38087.500\n",
       "9979           28250        29299.375\n",
       "\n",
       "[9481 rows x 2 columns]"
      ]
     },
     "execution_count": 52,
     "metadata": {},
     "output_type": "execute_result"
    }
   ],
   "source": [
    "#Comparing actual and predicted values with the help of a dataframe\n",
    "predictions=pd.DataFrame({'Original_price':y, 'Predicted_price':rf_prediction})\n",
    "predictions"
   ]
  },
  {
   "cell_type": "markdown",
   "id": "d49b2b00",
   "metadata": {},
   "source": [
    "Saving the model :"
   ]
  },
  {
   "cell_type": "code",
   "execution_count": 54,
   "id": "be4d5006",
   "metadata": {},
   "outputs": [
    {
     "data": {
      "text/plain": [
       "['Car_Price_working.pkl']"
      ]
     },
     "execution_count": 54,
     "metadata": {},
     "output_type": "execute_result"
    }
   ],
   "source": [
    "# Saving the model\n",
    "\n",
    "import joblib\n",
    "joblib.dump(RF,\"Car_Price_working.pkl\")"
   ]
  },
  {
   "cell_type": "code",
   "execution_count": null,
   "id": "009af907",
   "metadata": {},
   "outputs": [],
   "source": []
  }
 ],
 "metadata": {
  "kernelspec": {
   "display_name": "Python 3",
   "language": "python",
   "name": "python3"
  },
  "language_info": {
   "codemirror_mode": {
    "name": "ipython",
    "version": 3
   },
   "file_extension": ".py",
   "mimetype": "text/x-python",
   "name": "python",
   "nbconvert_exporter": "python",
   "pygments_lexer": "ipython3",
   "version": "3.8.8"
  }
 },
 "nbformat": 4,
 "nbformat_minor": 5
}
