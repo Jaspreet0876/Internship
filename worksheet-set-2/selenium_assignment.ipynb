{
 "cells": [
  {
   "cell_type": "markdown",
   "id": "c44cd196",
   "metadata": {},
   "source": [
    "# assignment2"
   ]
  },
  {
   "cell_type": "markdown",
   "id": "3f62a42b",
   "metadata": {},
   "source": [
    "# Q1"
   ]
  },
  {
   "cell_type": "code",
   "execution_count": 90,
   "id": "23ac8e85",
   "metadata": {},
   "outputs": [],
   "source": [
    "import selenium\n",
    "import pandas as pd\n",
    "from selenium import webdriver"
   ]
  },
  {
   "cell_type": "code",
   "execution_count": 108,
   "id": "f5569dcc",
   "metadata": {},
   "outputs": [],
   "source": [
    "driver=webdriver.Chrome(\"chromedriver\")\n"
   ]
  },
  {
   "cell_type": "code",
   "execution_count": 66,
   "id": "d3e6a658",
   "metadata": {},
   "outputs": [],
   "source": [
    "url= \"https://www.naukri.com/\"\n",
    "driver.get(url)"
   ]
  },
  {
   "cell_type": "code",
   "execution_count": 67,
   "id": "1c94bea0",
   "metadata": {},
   "outputs": [],
   "source": [
    "search_job= driver.find_element_by_id(\"qsb-keyword-sugg\")\n",
    "search_job\n",
    "search_job.send_keys(\"Data Analyst\")"
   ]
  },
  {
   "cell_type": "code",
   "execution_count": 68,
   "id": "c7fd34eb",
   "metadata": {},
   "outputs": [],
   "source": [
    "search_loc=driver.find_element_by_id(\"qsb-location-sugg\")\n",
    "search_loc\n",
    "search_loc.send_keys(\"Banglore\")"
   ]
  },
  {
   "cell_type": "code",
   "execution_count": 69,
   "id": "8d04ab10",
   "metadata": {},
   "outputs": [],
   "source": [
    "search_btn=driver.find_element_by_xpath(\"//button[@class='btn']\")\n",
    "search_btn\n",
    "search_btn.click()"
   ]
  },
  {
   "cell_type": "code",
   "execution_count": 80,
   "id": "bc6bc5a0",
   "metadata": {},
   "outputs": [
    {
     "data": {
      "text/plain": [
       "[<selenium.webdriver.remote.webelement.WebElement (session=\"c15396f1b9cabc9bfad8ec5e2d3187ee\", element=\"cf3fd5a5-8a9a-4d11-bb05-56d6a112af80\")>,\n",
       " <selenium.webdriver.remote.webelement.WebElement (session=\"c15396f1b9cabc9bfad8ec5e2d3187ee\", element=\"14d34b04-02f7-4c62-b614-97a9c086bff4\")>,\n",
       " <selenium.webdriver.remote.webelement.WebElement (session=\"c15396f1b9cabc9bfad8ec5e2d3187ee\", element=\"a463fe1e-f929-47bf-8913-303006505489\")>,\n",
       " <selenium.webdriver.remote.webelement.WebElement (session=\"c15396f1b9cabc9bfad8ec5e2d3187ee\", element=\"bb2a89a4-418b-4d7f-b26b-ef1a934b2a3b\")>,\n",
       " <selenium.webdriver.remote.webelement.WebElement (session=\"c15396f1b9cabc9bfad8ec5e2d3187ee\", element=\"26c9ff54-691b-4262-b75a-d49b31a25f37\")>,\n",
       " <selenium.webdriver.remote.webelement.WebElement (session=\"c15396f1b9cabc9bfad8ec5e2d3187ee\", element=\"95453e5c-0965-4a82-b4ee-39039d221ca8\")>,\n",
       " <selenium.webdriver.remote.webelement.WebElement (session=\"c15396f1b9cabc9bfad8ec5e2d3187ee\", element=\"22dd45a3-e12b-43f6-b0e5-bd8704e5f0f8\")>,\n",
       " <selenium.webdriver.remote.webelement.WebElement (session=\"c15396f1b9cabc9bfad8ec5e2d3187ee\", element=\"e5963f0e-de9c-4c14-bcd5-a8477690934f\")>,\n",
       " <selenium.webdriver.remote.webelement.WebElement (session=\"c15396f1b9cabc9bfad8ec5e2d3187ee\", element=\"678ef8ed-d579-4b41-818e-39fc46023c04\")>,\n",
       " <selenium.webdriver.remote.webelement.WebElement (session=\"c15396f1b9cabc9bfad8ec5e2d3187ee\", element=\"c9c47a2e-cc3b-4006-9bdb-9e89336c1fa6\")>,\n",
       " <selenium.webdriver.remote.webelement.WebElement (session=\"c15396f1b9cabc9bfad8ec5e2d3187ee\", element=\"74a5ad62-f6c7-43a9-a1d9-e1a001e7f852\")>,\n",
       " <selenium.webdriver.remote.webelement.WebElement (session=\"c15396f1b9cabc9bfad8ec5e2d3187ee\", element=\"68f0ca2e-6732-4cac-a3ea-2d2b626ecd28\")>,\n",
       " <selenium.webdriver.remote.webelement.WebElement (session=\"c15396f1b9cabc9bfad8ec5e2d3187ee\", element=\"f77d67ff-f5a1-4384-a395-1f4c4ab9dd26\")>,\n",
       " <selenium.webdriver.remote.webelement.WebElement (session=\"c15396f1b9cabc9bfad8ec5e2d3187ee\", element=\"c154e0af-1cb2-4de9-814c-da49fbaa29a7\")>,\n",
       " <selenium.webdriver.remote.webelement.WebElement (session=\"c15396f1b9cabc9bfad8ec5e2d3187ee\", element=\"5c8c9929-0621-4027-a7b2-c51fa82de3ae\")>,\n",
       " <selenium.webdriver.remote.webelement.WebElement (session=\"c15396f1b9cabc9bfad8ec5e2d3187ee\", element=\"a53310bb-c2d6-4e89-bf78-41100156f5b9\")>,\n",
       " <selenium.webdriver.remote.webelement.WebElement (session=\"c15396f1b9cabc9bfad8ec5e2d3187ee\", element=\"8d891b7f-782b-4a99-a59f-606bedda3f88\")>,\n",
       " <selenium.webdriver.remote.webelement.WebElement (session=\"c15396f1b9cabc9bfad8ec5e2d3187ee\", element=\"518209eb-beff-4e94-90d6-6d78cc7581c3\")>,\n",
       " <selenium.webdriver.remote.webelement.WebElement (session=\"c15396f1b9cabc9bfad8ec5e2d3187ee\", element=\"aaa9ef8e-5a4c-467d-9836-c563878da12d\")>,\n",
       " <selenium.webdriver.remote.webelement.WebElement (session=\"c15396f1b9cabc9bfad8ec5e2d3187ee\", element=\"4a39c37e-5b64-48bb-9f81-7f669a517262\")>]"
      ]
     },
     "execution_count": 80,
     "metadata": {},
     "output_type": "execute_result"
    }
   ],
   "source": [
    "job_titles=driver.find_elements_by_xpath(\"//a[@class='title fw500 ellipsis']\")\n",
    "job_titles"
   ]
  },
  {
   "cell_type": "code",
   "execution_count": 81,
   "id": "ecaef653",
   "metadata": {},
   "outputs": [
    {
     "data": {
      "text/plain": [
       "['Business Data Analyst - Google Data Studio & SQL',\n",
       " 'Data Analyst/Sr.Data Engineer',\n",
       " 'Business Data Analyst',\n",
       " 'Business Data Analyst',\n",
       " 'Executive Data Analyst',\n",
       " 'Senior Data Analyst',\n",
       " 'Data Analyst - I/II',\n",
       " 'Data Analyst',\n",
       " 'Hiring For the role - DATA Analyst (Flipkart)',\n",
       " 'Hiring For the role - DATA Analyst (Flipkart)',\n",
       " 'Business Data Analyst - MIS & Reporting',\n",
       " 'Senior Data Analyst',\n",
       " 'Senior Data Analyst',\n",
       " 'Senior Associate, Data Hierarchy Analyst( MDM)',\n",
       " 'Data Analyst - Python/SQL',\n",
       " 'Data Analyst - EdTech',\n",
       " 'Lead , Data Analyst',\n",
       " 'Product Data Analyst',\n",
       " 'Data Analyst/Sr.Analyst - Bangalore',\n",
       " 'SENIOR MARKETING DATA ANALYST']"
      ]
     },
     "execution_count": 81,
     "metadata": {},
     "output_type": "execute_result"
    }
   ],
   "source": [
    "Job_titles=[]\n",
    "for i in job_titles:\n",
    "    Job_titles.append(i.text)\n",
    "Job_titles"
   ]
  },
  {
   "cell_type": "code",
   "execution_count": 82,
   "id": "bda64fba",
   "metadata": {},
   "outputs": [
    {
     "data": {
      "text/plain": [
       "20"
      ]
     },
     "execution_count": 82,
     "metadata": {},
     "output_type": "execute_result"
    }
   ],
   "source": [
    "len(job_titles)"
   ]
  },
  {
   "cell_type": "code",
   "execution_count": 83,
   "id": "aac5f6a1",
   "metadata": {},
   "outputs": [
    {
     "data": {
      "text/plain": [
       "[<selenium.webdriver.remote.webelement.WebElement (session=\"c15396f1b9cabc9bfad8ec5e2d3187ee\", element=\"dc626299-ef60-4e83-9abb-02dd75664b12\")>,\n",
       " <selenium.webdriver.remote.webelement.WebElement (session=\"c15396f1b9cabc9bfad8ec5e2d3187ee\", element=\"a0a019c6-58c7-4f61-845a-7a5cc730f06d\")>,\n",
       " <selenium.webdriver.remote.webelement.WebElement (session=\"c15396f1b9cabc9bfad8ec5e2d3187ee\", element=\"011337f1-07c9-42d9-a598-6dab8909cefd\")>,\n",
       " <selenium.webdriver.remote.webelement.WebElement (session=\"c15396f1b9cabc9bfad8ec5e2d3187ee\", element=\"4f6bc6fb-324c-4783-a99c-2b60580f49a0\")>,\n",
       " <selenium.webdriver.remote.webelement.WebElement (session=\"c15396f1b9cabc9bfad8ec5e2d3187ee\", element=\"3a306519-7565-4075-b056-958b9ebb5c7b\")>,\n",
       " <selenium.webdriver.remote.webelement.WebElement (session=\"c15396f1b9cabc9bfad8ec5e2d3187ee\", element=\"bc76624e-bdb0-4330-a627-76270daf126d\")>,\n",
       " <selenium.webdriver.remote.webelement.WebElement (session=\"c15396f1b9cabc9bfad8ec5e2d3187ee\", element=\"19082cd6-48b9-4ac1-84f1-f36e8e1fb490\")>,\n",
       " <selenium.webdriver.remote.webelement.WebElement (session=\"c15396f1b9cabc9bfad8ec5e2d3187ee\", element=\"2bb4d182-9d16-4f05-8fbc-fc8f12dffaa2\")>,\n",
       " <selenium.webdriver.remote.webelement.WebElement (session=\"c15396f1b9cabc9bfad8ec5e2d3187ee\", element=\"1113b853-0274-4366-8d25-8edd8d761054\")>,\n",
       " <selenium.webdriver.remote.webelement.WebElement (session=\"c15396f1b9cabc9bfad8ec5e2d3187ee\", element=\"8cc72974-a265-4bf6-b7de-217c1bf854d8\")>,\n",
       " <selenium.webdriver.remote.webelement.WebElement (session=\"c15396f1b9cabc9bfad8ec5e2d3187ee\", element=\"7fee1a0b-a4bd-4753-90ef-4e45e23f5532\")>,\n",
       " <selenium.webdriver.remote.webelement.WebElement (session=\"c15396f1b9cabc9bfad8ec5e2d3187ee\", element=\"d0950fec-f26d-4b89-abe7-09915a8283f7\")>,\n",
       " <selenium.webdriver.remote.webelement.WebElement (session=\"c15396f1b9cabc9bfad8ec5e2d3187ee\", element=\"bc8d3e5a-3e9b-44d2-9950-b4ed3381c8a6\")>,\n",
       " <selenium.webdriver.remote.webelement.WebElement (session=\"c15396f1b9cabc9bfad8ec5e2d3187ee\", element=\"f39d8c86-0945-4493-924e-20bcf0923ac3\")>,\n",
       " <selenium.webdriver.remote.webelement.WebElement (session=\"c15396f1b9cabc9bfad8ec5e2d3187ee\", element=\"e27c80a0-c0cb-43cc-816d-0d0e810c0344\")>,\n",
       " <selenium.webdriver.remote.webelement.WebElement (session=\"c15396f1b9cabc9bfad8ec5e2d3187ee\", element=\"55f3edb3-f3c1-4cf9-8fc2-d9a7342e08b5\")>,\n",
       " <selenium.webdriver.remote.webelement.WebElement (session=\"c15396f1b9cabc9bfad8ec5e2d3187ee\", element=\"a1d395dd-6015-4d1a-ae89-b735a3a415bc\")>,\n",
       " <selenium.webdriver.remote.webelement.WebElement (session=\"c15396f1b9cabc9bfad8ec5e2d3187ee\", element=\"d3911f3d-5174-4e3d-921f-96391a459383\")>,\n",
       " <selenium.webdriver.remote.webelement.WebElement (session=\"c15396f1b9cabc9bfad8ec5e2d3187ee\", element=\"1cc90db2-239e-452c-a2a0-0a1016c41ca1\")>,\n",
       " <selenium.webdriver.remote.webelement.WebElement (session=\"c15396f1b9cabc9bfad8ec5e2d3187ee\", element=\"18818ec9-f55b-481e-9b37-02cdfd4db2e8\")>]"
      ]
     },
     "execution_count": 83,
     "metadata": {},
     "output_type": "execute_result"
    }
   ],
   "source": [
    "job_location= driver.find_elements_by_xpath(\"//li[@class='fleft grey-text br2 placeHolderLi location']//span[1]\")\n",
    "job_location"
   ]
  },
  {
   "cell_type": "code",
   "execution_count": 84,
   "id": "43c9201d",
   "metadata": {},
   "outputs": [
    {
     "data": {
      "text/plain": [
       "['Bangalore/Bengaluru',\n",
       " 'Hyderabad/Secunderabad, Chennai, Bangalore/Bengaluru',\n",
       " 'Bangalore/Bengaluru',\n",
       " 'Bangalore/Bengaluru',\n",
       " 'Bangalore/Bengaluru',\n",
       " 'Hyderabad/Secunderabad, Pune, Gurgaon/Gurugram, Chennai, Bangalore/Bengaluru, Mumbai (All Areas)',\n",
       " 'Bangalore/Bengaluru',\n",
       " 'Bengaluru/Bangalore',\n",
       " 'Bangalore/Bengaluru(Bellandur)',\n",
       " 'Bangalore/Bengaluru(Bellandur)',\n",
       " 'Mumbai, Bangalore/Bengaluru',\n",
       " 'Bangalore/Bengaluru',\n",
       " 'Bangalore/Bengaluru',\n",
       " 'Bangalore/Bengaluru',\n",
       " 'Bangalore/Bengaluru',\n",
       " 'Bangalore/Bengaluru',\n",
       " 'Bangalore/Bengaluru',\n",
       " 'Bangalore/Bengaluru',\n",
       " 'Bangalore/Bengaluru',\n",
       " 'Bangalore/Bengaluru']"
      ]
     },
     "execution_count": 84,
     "metadata": {},
     "output_type": "execute_result"
    }
   ],
   "source": [
    "Job_location= []\n",
    "for i in job_location:\n",
    "    Job_location.append(i.text)\n",
    "Job_location"
   ]
  },
  {
   "cell_type": "code",
   "execution_count": 85,
   "id": "362904f6",
   "metadata": {},
   "outputs": [
    {
     "data": {
      "text/plain": [
       "20"
      ]
     },
     "execution_count": 85,
     "metadata": {},
     "output_type": "execute_result"
    }
   ],
   "source": [
    "len(Job_location)"
   ]
  },
  {
   "cell_type": "code",
   "execution_count": 86,
   "id": "b901c960",
   "metadata": {},
   "outputs": [
    {
     "data": {
      "text/plain": [
       "[<selenium.webdriver.remote.webelement.WebElement (session=\"c15396f1b9cabc9bfad8ec5e2d3187ee\", element=\"73fc3a59-bc56-4793-8477-85d8289d1a85\")>,\n",
       " <selenium.webdriver.remote.webelement.WebElement (session=\"c15396f1b9cabc9bfad8ec5e2d3187ee\", element=\"d931163e-39e0-4467-b315-886bc969a952\")>,\n",
       " <selenium.webdriver.remote.webelement.WebElement (session=\"c15396f1b9cabc9bfad8ec5e2d3187ee\", element=\"85a1fda7-f0ce-4944-8ec3-7ff92eb72f41\")>,\n",
       " <selenium.webdriver.remote.webelement.WebElement (session=\"c15396f1b9cabc9bfad8ec5e2d3187ee\", element=\"06fe903d-5a2d-4795-b0d9-904f447963f3\")>,\n",
       " <selenium.webdriver.remote.webelement.WebElement (session=\"c15396f1b9cabc9bfad8ec5e2d3187ee\", element=\"1d8a4c8d-fad4-44ea-9b85-6c84626798af\")>,\n",
       " <selenium.webdriver.remote.webelement.WebElement (session=\"c15396f1b9cabc9bfad8ec5e2d3187ee\", element=\"bc25dfb6-e3ce-4b5a-9a31-df1cb4b98a0c\")>,\n",
       " <selenium.webdriver.remote.webelement.WebElement (session=\"c15396f1b9cabc9bfad8ec5e2d3187ee\", element=\"f4450225-3a6d-46c9-a844-e8063add5236\")>,\n",
       " <selenium.webdriver.remote.webelement.WebElement (session=\"c15396f1b9cabc9bfad8ec5e2d3187ee\", element=\"acbd362c-06fa-4244-a4a7-49ba2b6245d1\")>,\n",
       " <selenium.webdriver.remote.webelement.WebElement (session=\"c15396f1b9cabc9bfad8ec5e2d3187ee\", element=\"2332ffd0-b118-4f6a-b06f-c0f2051ba9ae\")>,\n",
       " <selenium.webdriver.remote.webelement.WebElement (session=\"c15396f1b9cabc9bfad8ec5e2d3187ee\", element=\"295f48cf-0ca6-47bd-9602-6beda594607b\")>,\n",
       " <selenium.webdriver.remote.webelement.WebElement (session=\"c15396f1b9cabc9bfad8ec5e2d3187ee\", element=\"4aeb3033-3d9b-408e-9f88-b7b8a3527485\")>,\n",
       " <selenium.webdriver.remote.webelement.WebElement (session=\"c15396f1b9cabc9bfad8ec5e2d3187ee\", element=\"25f6ef22-88cb-421d-90e9-244629a4d073\")>,\n",
       " <selenium.webdriver.remote.webelement.WebElement (session=\"c15396f1b9cabc9bfad8ec5e2d3187ee\", element=\"eefb628c-4899-4d7a-8c28-c2fc71ea7e61\")>,\n",
       " <selenium.webdriver.remote.webelement.WebElement (session=\"c15396f1b9cabc9bfad8ec5e2d3187ee\", element=\"baed0e7f-79a0-467e-82d9-29a981e81d07\")>,\n",
       " <selenium.webdriver.remote.webelement.WebElement (session=\"c15396f1b9cabc9bfad8ec5e2d3187ee\", element=\"077ca767-1d17-4602-aa04-156aefe22ede\")>,\n",
       " <selenium.webdriver.remote.webelement.WebElement (session=\"c15396f1b9cabc9bfad8ec5e2d3187ee\", element=\"2cb1e50a-4020-4d0d-88de-62b3b88d22a6\")>,\n",
       " <selenium.webdriver.remote.webelement.WebElement (session=\"c15396f1b9cabc9bfad8ec5e2d3187ee\", element=\"1b2ecb3a-1ede-4246-a7fa-65b64ee0054e\")>,\n",
       " <selenium.webdriver.remote.webelement.WebElement (session=\"c15396f1b9cabc9bfad8ec5e2d3187ee\", element=\"aaf9b1b2-7e02-493a-a7df-6599d904e897\")>,\n",
       " <selenium.webdriver.remote.webelement.WebElement (session=\"c15396f1b9cabc9bfad8ec5e2d3187ee\", element=\"1b0c40f9-9722-4813-badd-424023676d29\")>,\n",
       " <selenium.webdriver.remote.webelement.WebElement (session=\"c15396f1b9cabc9bfad8ec5e2d3187ee\", element=\"676a93c1-4b65-48f1-9e9d-c77a4f91f9ac\")>]"
      ]
     },
     "execution_count": 86,
     "metadata": {},
     "output_type": "execute_result"
    }
   ],
   "source": [
    "company_name=driver.find_elements_by_xpath(\"//a[@class='subTitle ellipsis fleft']\")\n",
    "company_name"
   ]
  },
  {
   "cell_type": "code",
   "execution_count": 87,
   "id": "01cce33c",
   "metadata": {},
   "outputs": [
    {
     "data": {
      "text/plain": [
       "['AVE-Promagne',\n",
       " 'SYREN TECHNOLOGIES PRIVATE LIMITED',\n",
       " 'Trigent Software',\n",
       " 'Trigent Software',\n",
       " 'Gokaldas Exports Ltd',\n",
       " 'Virtusa Consulting Services Pvt Ltd',\n",
       " 'Philips India Limited',\n",
       " 'IBM India Pvt. Limited',\n",
       " 'Allegis Services India Pvt. Ltd.',\n",
       " 'Allegis Services India Pvt. Ltd.',\n",
       " 'INTERTRUST GROUP',\n",
       " 'Flipkart',\n",
       " 'Flipkart',\n",
       " 'GENPACT India Private Limited',\n",
       " 'Affine',\n",
       " 'TalentStack',\n",
       " 'Near Pte. Ltd.',\n",
       " 'Trifacta',\n",
       " 'Cocentrus',\n",
       " 'McAfee Software (India) Pvt. Ltd']"
      ]
     },
     "execution_count": 87,
     "metadata": {},
     "output_type": "execute_result"
    }
   ],
   "source": [
    "Company_name=[]\n",
    "for i in company_name:\n",
    "    Company_name.append(i.text)\n",
    "Company_name"
   ]
  },
  {
   "cell_type": "code",
   "execution_count": 88,
   "id": "383faf16",
   "metadata": {},
   "outputs": [
    {
     "data": {
      "text/plain": [
       "20"
      ]
     },
     "execution_count": 88,
     "metadata": {},
     "output_type": "execute_result"
    }
   ],
   "source": [
    "len(Company_name)"
   ]
  },
  {
   "cell_type": "code",
   "execution_count": 90,
   "id": "8980291c",
   "metadata": {},
   "outputs": [
    {
     "data": {
      "text/plain": [
       "[<selenium.webdriver.remote.webelement.WebElement (session=\"c15396f1b9cabc9bfad8ec5e2d3187ee\", element=\"760cc430-a30f-494f-8043-25308ca7a8d7\")>,\n",
       " <selenium.webdriver.remote.webelement.WebElement (session=\"c15396f1b9cabc9bfad8ec5e2d3187ee\", element=\"e3eb1adb-5040-4164-9ee7-70c2b6d945b5\")>,\n",
       " <selenium.webdriver.remote.webelement.WebElement (session=\"c15396f1b9cabc9bfad8ec5e2d3187ee\", element=\"90ac8fd2-29e5-4c8e-9de0-35aaeb43f1c1\")>,\n",
       " <selenium.webdriver.remote.webelement.WebElement (session=\"c15396f1b9cabc9bfad8ec5e2d3187ee\", element=\"5913ed53-6670-4e3a-86d9-3596dcc8e9b8\")>,\n",
       " <selenium.webdriver.remote.webelement.WebElement (session=\"c15396f1b9cabc9bfad8ec5e2d3187ee\", element=\"adbd86dd-e47c-460b-854e-692c86a7dd6f\")>,\n",
       " <selenium.webdriver.remote.webelement.WebElement (session=\"c15396f1b9cabc9bfad8ec5e2d3187ee\", element=\"d961ec9a-7b85-4e3b-af79-152638ba8134\")>,\n",
       " <selenium.webdriver.remote.webelement.WebElement (session=\"c15396f1b9cabc9bfad8ec5e2d3187ee\", element=\"74e70bc9-b7f5-4407-bef3-b89b50f6878b\")>,\n",
       " <selenium.webdriver.remote.webelement.WebElement (session=\"c15396f1b9cabc9bfad8ec5e2d3187ee\", element=\"c02494cd-095f-45e3-933d-44b8d515ccdc\")>,\n",
       " <selenium.webdriver.remote.webelement.WebElement (session=\"c15396f1b9cabc9bfad8ec5e2d3187ee\", element=\"e70da461-d9aa-4861-b084-30aea1a9bb96\")>,\n",
       " <selenium.webdriver.remote.webelement.WebElement (session=\"c15396f1b9cabc9bfad8ec5e2d3187ee\", element=\"e0b5eaf9-3e3d-49dd-ae5d-a02ee3268faa\")>,\n",
       " <selenium.webdriver.remote.webelement.WebElement (session=\"c15396f1b9cabc9bfad8ec5e2d3187ee\", element=\"d5ce1653-89eb-45b4-a4c3-ca38ef872322\")>,\n",
       " <selenium.webdriver.remote.webelement.WebElement (session=\"c15396f1b9cabc9bfad8ec5e2d3187ee\", element=\"d889a11c-ae50-4e8f-86b8-fd02f4b91dfa\")>,\n",
       " <selenium.webdriver.remote.webelement.WebElement (session=\"c15396f1b9cabc9bfad8ec5e2d3187ee\", element=\"84fbb166-c860-4067-afc9-0dcd67959d0e\")>,\n",
       " <selenium.webdriver.remote.webelement.WebElement (session=\"c15396f1b9cabc9bfad8ec5e2d3187ee\", element=\"46414e5d-1e65-40a1-995c-d45ae32c195a\")>,\n",
       " <selenium.webdriver.remote.webelement.WebElement (session=\"c15396f1b9cabc9bfad8ec5e2d3187ee\", element=\"9e30d92b-0f55-4386-89d7-3829f612b000\")>,\n",
       " <selenium.webdriver.remote.webelement.WebElement (session=\"c15396f1b9cabc9bfad8ec5e2d3187ee\", element=\"268b659d-61b1-45aa-b108-5c2ba5375f12\")>,\n",
       " <selenium.webdriver.remote.webelement.WebElement (session=\"c15396f1b9cabc9bfad8ec5e2d3187ee\", element=\"8523d046-e432-412a-ba82-afe4db8c28b8\")>,\n",
       " <selenium.webdriver.remote.webelement.WebElement (session=\"c15396f1b9cabc9bfad8ec5e2d3187ee\", element=\"71cf6c7a-4cb2-4b1a-8aec-1abb3f85234e\")>,\n",
       " <selenium.webdriver.remote.webelement.WebElement (session=\"c15396f1b9cabc9bfad8ec5e2d3187ee\", element=\"30d619ed-445a-4930-9b40-8b10be10d6af\")>,\n",
       " <selenium.webdriver.remote.webelement.WebElement (session=\"c15396f1b9cabc9bfad8ec5e2d3187ee\", element=\"7a3816f3-e414-47a4-be9b-d948c7d6779f\")>]"
      ]
     },
     "execution_count": 90,
     "metadata": {},
     "output_type": "execute_result"
    }
   ],
   "source": [
    "job_experience=driver.find_elements_by_xpath(\"//li[@class='fleft grey-text br2 placeHolderLi experience']//span[1]\")\n",
    "job_experience"
   ]
  },
  {
   "cell_type": "code",
   "execution_count": 91,
   "id": "838090f6",
   "metadata": {},
   "outputs": [
    {
     "data": {
      "text/plain": [
       "['3-8 Yrs',\n",
       " '4-9 Yrs',\n",
       " '5-10 Yrs',\n",
       " '5-10 Yrs',\n",
       " '0-3 Yrs',\n",
       " '8-12 Yrs',\n",
       " '3-6 Yrs',\n",
       " '1-4 Yrs',\n",
       " '1-6 Yrs',\n",
       " '1-6 Yrs',\n",
       " '3-8 Yrs',\n",
       " '2-3 Yrs',\n",
       " '3-8 Yrs',\n",
       " '1-3 Yrs',\n",
       " '3-5 Yrs',\n",
       " '2-6 Yrs',\n",
       " '6-11 Yrs',\n",
       " '2-5 Yrs',\n",
       " '5-10 Yrs',\n",
       " '3-7 Yrs']"
      ]
     },
     "execution_count": 91,
     "metadata": {},
     "output_type": "execute_result"
    }
   ],
   "source": [
    "Job_experience=[]\n",
    "for i in job_experience:\n",
    "    Job_experience.append(i.text)\n",
    "Job_experience"
   ]
  },
  {
   "cell_type": "code",
   "execution_count": 92,
   "id": "f11366a7",
   "metadata": {},
   "outputs": [
    {
     "data": {
      "text/plain": [
       "20"
      ]
     },
     "execution_count": 92,
     "metadata": {},
     "output_type": "execute_result"
    }
   ],
   "source": [
    "len(Job_experience)"
   ]
  },
  {
   "cell_type": "code",
   "execution_count": 93,
   "id": "49f2f02e",
   "metadata": {},
   "outputs": [
    {
     "data": {
      "text/html": [
       "<div>\n",
       "<style scoped>\n",
       "    .dataframe tbody tr th:only-of-type {\n",
       "        vertical-align: middle;\n",
       "    }\n",
       "\n",
       "    .dataframe tbody tr th {\n",
       "        vertical-align: top;\n",
       "    }\n",
       "\n",
       "    .dataframe thead th {\n",
       "        text-align: right;\n",
       "    }\n",
       "</style>\n",
       "<table border=\"1\" class=\"dataframe\">\n",
       "  <thead>\n",
       "    <tr style=\"text-align: right;\">\n",
       "      <th></th>\n",
       "      <th>Job_Title</th>\n",
       "      <th>Company_Name</th>\n",
       "      <th>Location</th>\n",
       "      <th>Experience_required</th>\n",
       "    </tr>\n",
       "  </thead>\n",
       "  <tbody>\n",
       "    <tr>\n",
       "      <th>0</th>\n",
       "      <td>Business Data Analyst - Google Data Studio &amp; SQL</td>\n",
       "      <td>AVE-Promagne</td>\n",
       "      <td>Bangalore/Bengaluru</td>\n",
       "      <td>3-8 Yrs</td>\n",
       "    </tr>\n",
       "    <tr>\n",
       "      <th>1</th>\n",
       "      <td>Data Analyst/Sr.Data Engineer</td>\n",
       "      <td>SYREN TECHNOLOGIES PRIVATE LIMITED</td>\n",
       "      <td>Hyderabad/Secunderabad, Chennai, Bangalore/Ben...</td>\n",
       "      <td>4-9 Yrs</td>\n",
       "    </tr>\n",
       "    <tr>\n",
       "      <th>2</th>\n",
       "      <td>Business Data Analyst</td>\n",
       "      <td>Trigent Software</td>\n",
       "      <td>Bangalore/Bengaluru</td>\n",
       "      <td>5-10 Yrs</td>\n",
       "    </tr>\n",
       "    <tr>\n",
       "      <th>3</th>\n",
       "      <td>Business Data Analyst</td>\n",
       "      <td>Trigent Software</td>\n",
       "      <td>Bangalore/Bengaluru</td>\n",
       "      <td>5-10 Yrs</td>\n",
       "    </tr>\n",
       "    <tr>\n",
       "      <th>4</th>\n",
       "      <td>Executive Data Analyst</td>\n",
       "      <td>Gokaldas Exports Ltd</td>\n",
       "      <td>Bangalore/Bengaluru</td>\n",
       "      <td>0-3 Yrs</td>\n",
       "    </tr>\n",
       "    <tr>\n",
       "      <th>5</th>\n",
       "      <td>Senior Data Analyst</td>\n",
       "      <td>Virtusa Consulting Services Pvt Ltd</td>\n",
       "      <td>Hyderabad/Secunderabad, Pune, Gurgaon/Gurugram...</td>\n",
       "      <td>8-12 Yrs</td>\n",
       "    </tr>\n",
       "    <tr>\n",
       "      <th>6</th>\n",
       "      <td>Data Analyst - I/II</td>\n",
       "      <td>Philips India Limited</td>\n",
       "      <td>Bangalore/Bengaluru</td>\n",
       "      <td>3-6 Yrs</td>\n",
       "    </tr>\n",
       "    <tr>\n",
       "      <th>7</th>\n",
       "      <td>Data Analyst</td>\n",
       "      <td>IBM India Pvt. Limited</td>\n",
       "      <td>Bengaluru/Bangalore</td>\n",
       "      <td>1-4 Yrs</td>\n",
       "    </tr>\n",
       "    <tr>\n",
       "      <th>8</th>\n",
       "      <td>Hiring For the role - DATA Analyst (Flipkart)</td>\n",
       "      <td>Allegis Services India Pvt. Ltd.</td>\n",
       "      <td>Bangalore/Bengaluru(Bellandur)</td>\n",
       "      <td>1-6 Yrs</td>\n",
       "    </tr>\n",
       "    <tr>\n",
       "      <th>9</th>\n",
       "      <td>Hiring For the role - DATA Analyst (Flipkart)</td>\n",
       "      <td>Allegis Services India Pvt. Ltd.</td>\n",
       "      <td>Bangalore/Bengaluru(Bellandur)</td>\n",
       "      <td>1-6 Yrs</td>\n",
       "    </tr>\n",
       "  </tbody>\n",
       "</table>\n",
       "</div>"
      ],
      "text/plain": [
       "                                          Job_Title  \\\n",
       "0  Business Data Analyst - Google Data Studio & SQL   \n",
       "1                     Data Analyst/Sr.Data Engineer   \n",
       "2                             Business Data Analyst   \n",
       "3                             Business Data Analyst   \n",
       "4                            Executive Data Analyst   \n",
       "5                               Senior Data Analyst   \n",
       "6                               Data Analyst - I/II   \n",
       "7                                      Data Analyst   \n",
       "8     Hiring For the role - DATA Analyst (Flipkart)   \n",
       "9     Hiring For the role - DATA Analyst (Flipkart)   \n",
       "\n",
       "                          Company_Name  \\\n",
       "0                         AVE-Promagne   \n",
       "1   SYREN TECHNOLOGIES PRIVATE LIMITED   \n",
       "2                     Trigent Software   \n",
       "3                     Trigent Software   \n",
       "4                 Gokaldas Exports Ltd   \n",
       "5  Virtusa Consulting Services Pvt Ltd   \n",
       "6                Philips India Limited   \n",
       "7               IBM India Pvt. Limited   \n",
       "8     Allegis Services India Pvt. Ltd.   \n",
       "9     Allegis Services India Pvt. Ltd.   \n",
       "\n",
       "                                            Location Experience_required  \n",
       "0                                Bangalore/Bengaluru             3-8 Yrs  \n",
       "1  Hyderabad/Secunderabad, Chennai, Bangalore/Ben...             4-9 Yrs  \n",
       "2                                Bangalore/Bengaluru            5-10 Yrs  \n",
       "3                                Bangalore/Bengaluru            5-10 Yrs  \n",
       "4                                Bangalore/Bengaluru             0-3 Yrs  \n",
       "5  Hyderabad/Secunderabad, Pune, Gurgaon/Gurugram...            8-12 Yrs  \n",
       "6                                Bangalore/Bengaluru             3-6 Yrs  \n",
       "7                                Bengaluru/Bangalore             1-4 Yrs  \n",
       "8                     Bangalore/Bengaluru(Bellandur)             1-6 Yrs  \n",
       "9                     Bangalore/Bengaluru(Bellandur)             1-6 Yrs  "
      ]
     },
     "execution_count": 93,
     "metadata": {},
     "output_type": "execute_result"
    }
   ],
   "source": [
    "jobs=pd.DataFrame({})\n",
    "jobs['Job_Title']=Job_titles[:10]\n",
    "jobs['Company_Name']=Company_name[:10]\n",
    "jobs['Location']=Job_location[:10]\n",
    "jobs['Experience_required']=Job_experience[:10]\n",
    "jobs"
   ]
  },
  {
   "cell_type": "markdown",
   "id": "424c8a94",
   "metadata": {},
   "source": [
    "# Q2"
   ]
  },
  {
   "cell_type": "code",
   "execution_count": 95,
   "id": "03d43b1f",
   "metadata": {},
   "outputs": [],
   "source": [
    "driver=webdriver.Chrome(\"chromedriver\")"
   ]
  },
  {
   "cell_type": "code",
   "execution_count": 96,
   "id": "46e23e2d",
   "metadata": {},
   "outputs": [],
   "source": [
    "url= \"https://www.naukri.com/\"\n",
    "driver.get(url)"
   ]
  },
  {
   "cell_type": "code",
   "execution_count": 97,
   "id": "40c19936",
   "metadata": {},
   "outputs": [],
   "source": [
    "search_job=driver.find_element_by_id('qsb-keyword-sugg')\n",
    "search_job\n",
    "search_job.send_keys('Data Scientist')"
   ]
  },
  {
   "cell_type": "code",
   "execution_count": 98,
   "id": "0896eedb",
   "metadata": {},
   "outputs": [],
   "source": [
    "search_loc=driver.find_element_by_id('qsb-location-sugg')\n",
    "search_loc\n",
    "search_loc.send_keys('banglore')"
   ]
  },
  {
   "cell_type": "code",
   "execution_count": 100,
   "id": "413e0e91",
   "metadata": {},
   "outputs": [],
   "source": [
    "search_btn=driver.find_element_by_xpath(\"//button[@class='btn']\")\n",
    "search_btn\n",
    "search_btn.click()"
   ]
  },
  {
   "cell_type": "code",
   "execution_count": 103,
   "id": "d7ac6dfd",
   "metadata": {},
   "outputs": [
    {
     "data": {
      "text/plain": [
       "['Lead Data Scientist BFSI',\n",
       " 'Associate Data Scientist',\n",
       " 'Data Scientist: Advanced Analytics',\n",
       " 'SENIOR DATA SCIENTIST',\n",
       " 'Data Scientist (Python & SQL)',\n",
       " 'Sr Data Scientist',\n",
       " 'Sr Data Scientist',\n",
       " 'Lead Data Scientist - Machine Learning/ Data Mining',\n",
       " 'Freelance Data Scientist Project Based',\n",
       " 'Data Scientist',\n",
       " 'Data Scientist',\n",
       " 'Requirement For Data Scientist - Mumbai & Bangalore',\n",
       " 'Data Scientist',\n",
       " 'Data Scientist',\n",
       " 'Senior Data Scientist - ML',\n",
       " 'Data Scientist',\n",
       " 'Data Scientist',\n",
       " 'Cognitive Data Scientist',\n",
       " 'Data Scientist + Python + Big DATA',\n",
       " 'Senior Data Scientist, Payments compliance']"
      ]
     },
     "execution_count": 103,
     "metadata": {},
     "output_type": "execute_result"
    }
   ],
   "source": [
    "job_title=driver.find_elements_by_xpath(\"//a[@class='title fw500 ellipsis']\")\n",
    "job_title\n",
    "\n",
    "Job_title=[]\n",
    "for i in job_title:\n",
    "    Job_title.append(i.text)\n",
    "Job_title\n"
   ]
  },
  {
   "cell_type": "code",
   "execution_count": 104,
   "id": "691e39ca",
   "metadata": {},
   "outputs": [
    {
     "data": {
      "text/plain": [
       "20"
      ]
     },
     "execution_count": 104,
     "metadata": {},
     "output_type": "execute_result"
    }
   ],
   "source": [
    "len(Job_title)"
   ]
  },
  {
   "cell_type": "code",
   "execution_count": 105,
   "id": "f96de981",
   "metadata": {},
   "outputs": [
    {
     "data": {
      "text/plain": [
       "['IBM India Pvt. Limited',\n",
       " 'Philips India Limited',\n",
       " 'IBM India Pvt. Limited',\n",
       " 'Happiest Minds Technologies Pvt.Ltd',\n",
       " 'AVE-Promagne',\n",
       " 'IBM India Pvt. Limited',\n",
       " 'IBM India Pvt. Limited',\n",
       " 'Wrackle Technologies Pvt Ltd',\n",
       " 'Shikvix',\n",
       " 'NeenOpal Intelligent Solutions Private Limited',\n",
       " 'PRESCIENCE DECISION SOLUTIONS PRIVATE LIMITED',\n",
       " 'CRISIL LIMITED',\n",
       " 'ELPIS IT SOLUTIONS PVT LTD',\n",
       " 'ELPIS IT SOLUTIONS PVT LTD',\n",
       " 'SP Staffing Services Private Limited',\n",
       " 'Oracle India Pvt. Ltd.',\n",
       " 'IBM India Pvt. Limited',\n",
       " 'IBM India Pvt. Limited',\n",
       " 'Capgemini Technology Services India Limited',\n",
       " 'AIRBNB GLOBAL CAPABILITY CENTER PRIVATE LIMITED']"
      ]
     },
     "execution_count": 105,
     "metadata": {},
     "output_type": "execute_result"
    }
   ],
   "source": [
    "company_name=driver.find_elements_by_xpath(\"//a[@class='subTitle ellipsis fleft']\")\n",
    "company_name\n",
    "\n",
    "Company_name=[]\n",
    "for i in company_name:\n",
    "    Company_name.append(i.text)\n",
    "Company_name"
   ]
  },
  {
   "cell_type": "code",
   "execution_count": 106,
   "id": "bdf9d6a3",
   "metadata": {},
   "outputs": [
    {
     "data": {
      "text/plain": [
       "20"
      ]
     },
     "execution_count": 106,
     "metadata": {},
     "output_type": "execute_result"
    }
   ],
   "source": [
    "len(Company_name)"
   ]
  },
  {
   "cell_type": "code",
   "execution_count": 114,
   "id": "d100540a",
   "metadata": {},
   "outputs": [
    {
     "data": {
      "text/plain": [
       "['Bengaluru/Bangalore',\n",
       " 'Bangalore/Bengaluru',\n",
       " 'Bengaluru/Bangalore',\n",
       " 'Bangalore/Bengaluru',\n",
       " 'Hyderabad/Secunderabad, Chennai, Bangalore/Bengaluru',\n",
       " 'Bengaluru/Bangalore',\n",
       " 'Bangalore/Bengaluru',\n",
       " 'Bangalore/Bengaluru',\n",
       " 'Remote',\n",
       " 'Bangalore/Bengaluru',\n",
       " 'Bangalore/Bengaluru',\n",
       " 'Bangalore/Bengaluru, Mumbai (All Areas)',\n",
       " 'Bangalore/Bengaluru',\n",
       " 'Bangalore/Bengaluru',\n",
       " 'Pune, Chennai, Bangalore/Bengaluru',\n",
       " 'Noida, Bangalore/Bengaluru',\n",
       " 'Bengaluru/Bangalore',\n",
       " 'Bengaluru/Bangalore',\n",
       " 'Hyderabad/Secunderabad, Chennai, Bangalore/Bengaluru',\n",
       " 'Bangalore/Bengaluru']"
      ]
     },
     "execution_count": 114,
     "metadata": {},
     "output_type": "execute_result"
    }
   ],
   "source": [
    "job_location=driver.find_elements_by_xpath(\"//li[@class='fleft grey-text br2 placeHolderLi location']//span[1]\")\n",
    "job_location\n",
    "\n",
    "Job_location=[]\n",
    "for i in job_location:\n",
    "    Job_location.append(i.text)\n",
    "Job_location\n",
    "\n"
   ]
  },
  {
   "cell_type": "code",
   "execution_count": 115,
   "id": "257a9455",
   "metadata": {},
   "outputs": [
    {
     "data": {
      "text/plain": [
       "20"
      ]
     },
     "execution_count": 115,
     "metadata": {},
     "output_type": "execute_result"
    }
   ],
   "source": [
    "len(Job_location)"
   ]
  },
  {
   "cell_type": "code",
   "execution_count": 121,
   "id": "70d024c6",
   "metadata": {},
   "outputs": [
    {
     "data": {
      "text/plain": [
       "['https://www.naukri.com/job-listings-lead-data-scientist-bfsi-ibm-india-pvt-limited-bengaluru-bangalore-5-to-9-years-070921901691?src=jobsearchDesk&sid=16311061034316509&xp=1&px=1',\n",
       " 'https://www.naukri.com/job-listings-associate-data-scientist-philips-india-limited-bangalore-bengaluru-3-to-5-years-060921501985?src=jobsearchDesk&sid=16311061034316509&xp=2&px=1',\n",
       " 'https://www.naukri.com/job-listings-data-scientist-advanced-analytics-ibm-india-pvt-limited-bengaluru-bangalore-3-to-7-years-070921901677?src=jobsearchDesk&sid=16311061034316509&xp=3&px=1',\n",
       " 'https://www.naukri.com/job-listings-senior-data-scientist-happiest-minds-technologies-pvt-ltd-bangalore-bengaluru-5-to-10-years-070921501517?src=jobsearchDesk&sid=16311061034316509&xp=4&px=1',\n",
       " 'https://www.naukri.com/job-listings-data-scientist-python-sql-ave-promagne-hyderabad-secunderabad-chennai-bangalore-bengaluru-6-to-8-years-060921904967?src=jobsearchDesk&sid=16311061034316509&xp=5&px=1',\n",
       " 'https://www.naukri.com/job-listings-sr-data-scientist-ibm-india-pvt-limited-bengaluru-bangalore-6-to-8-years-010921906637?src=jobsearchDesk&sid=16311061034316509&xp=6&px=1',\n",
       " 'https://www.naukri.com/job-listings-sr-data-scientist-ibm-india-pvt-limited-bangalore-bengaluru-6-to-8-years-010921906105?src=jobsearchDesk&sid=16311061034316509&xp=7&px=1',\n",
       " 'https://www.naukri.com/job-listings-lead-data-scientist-machine-learning-data-mining-wrackle-technologies-pvt-ltd-bangalore-bengaluru-6-to-11-years-080221900886?src=jobsearchDesk&sid=16311061034316509&xp=8&px=1',\n",
       " 'https://www.naukri.com/job-listings-freelance-data-scientist-project-based-shikvix-bangalore-bengaluru-3-to-8-years-060921008814?src=jobsearchDesk&sid=16311061034316509&xp=9&px=1',\n",
       " 'https://www.naukri.com/job-listings-data-scientist-neenopal-intelligent-solutions-private-limited-bangalore-bengaluru-2-to-5-years-080921006998?src=jobsearchDesk&sid=16311061034316509&xp=10&px=1',\n",
       " 'https://www.naukri.com/job-listings-data-scientist-prescience-decision-solutions-private-limited-bangalore-bengaluru-5-to-10-years-080921005624?src=jobsearchDesk&sid=16311061034316509&xp=11&px=1',\n",
       " 'https://www.naukri.com/job-listings-requirement-for-data-scientist-mumbai-bangalore-crisil-limited-bangalore-bengaluru-mumbai-all-areas-2-to-6-years-080921005523?src=jobsearchDesk&sid=16311061034316509&xp=12&px=1',\n",
       " 'https://www.naukri.com/job-listings-data-scientist-elpis-it-solutions-pvt-ltd-bangalore-bengaluru-3-to-8-years-070921602158?src=jobsearchDesk&sid=16311061034316509&xp=13&px=1',\n",
       " 'https://www.naukri.com/job-listings-data-scientist-elpis-it-solutions-pvt-ltd-bangalore-bengaluru-3-to-8-years-070921002157?src=jobsearchDesk&sid=16311061034316509&xp=14&px=1',\n",
       " 'https://www.naukri.com/job-listings-senior-data-scientist-ml-sp-staffing-services-private-limited-pune-chennai-bangalore-bengaluru-10-to-15-years-100621006203?src=jobsearchDesk&sid=16311061034316509&xp=15&px=1',\n",
       " 'https://www.naukri.com/job-listings-data-scientist-oracle-india-pvt-ltd-noida-bangalore-bengaluru-5-to-9-years-010621004567?src=jobsearchDesk&sid=16311061034316509&xp=16&px=1',\n",
       " 'https://www.naukri.com/job-listings-data-scientist-ibm-india-pvt-limited-bengaluru-bangalore-2-to-4-years-010921906678?src=jobsearchDesk&sid=16311061034316509&xp=17&px=1',\n",
       " 'https://www.naukri.com/job-listings-cognitive-data-scientist-ibm-india-pvt-limited-bengaluru-bangalore-3-to-7-years-030921904668?src=jobsearchDesk&sid=16311061034316509&xp=18&px=1',\n",
       " 'https://www.naukri.com/job-listings-data-scientist-python-big-data-capgemini-technology-services-india-limited-hyderabad-secunderabad-chennai-bangalore-bengaluru-6-to-11-years-030921008208?src=jobsearchDesk&sid=16311061034316509&xp=19&px=1',\n",
       " 'https://www.naukri.com/job-listings-senior-data-scientist-payments-compliance-airbnb-global-capability-center-private-limited-bangalore-bengaluru-4-to-9-years-020921903258?src=jobsearchDesk&sid=16311061034316509&xp=20&px=1']"
      ]
     },
     "execution_count": 121,
     "metadata": {},
     "output_type": "execute_result"
    }
   ],
   "source": [
    "desc_url=driver.find_elements_by_xpath(\"//a[@class='title fw500 ellipsis']\")\n",
    "desc_url\n",
    "\n",
    "Desc_url=[]\n",
    "for i in desc_url:\n",
    "    Desc_url.append(i.get_attribute('href'))\n",
    "Desc_url"
   ]
  },
  {
   "cell_type": "code",
   "execution_count": 126,
   "id": "d21ac0bc",
   "metadata": {},
   "outputs": [
    {
     "data": {
      "text/plain": [
       "20"
      ]
     },
     "execution_count": 126,
     "metadata": {},
     "output_type": "execute_result"
    }
   ],
   "source": [
    "len(Desc_url)"
   ]
  },
  {
   "cell_type": "code",
   "execution_count": 327,
   "id": "f5ed8262",
   "metadata": {},
   "outputs": [],
   "source": [
    "import time\n",
    "from selenium.common.exceptions import NoSuchElementException"
   ]
  },
  {
   "cell_type": "code",
   "execution_count": 128,
   "id": "6d66783f",
   "metadata": {},
   "outputs": [
    {
     "data": {
      "text/plain": [
       "['--',\n",
       " 'Job description\\nUse predictive modeling to increase and optimize customer experiences, revenue generation, campaign optimization and other business outcomes\\nWork with product management to develop data use cases and embed predictive models in workflows on resource constrained platforms and cloud enabled.\\nSelecting features, building and optimizing classifiers using machine learning and deep learning techniques\\nCollaborates with Data Engineers to enhance data collection and ingestion/curation techniques to include information that is relevant for building analytic systems\\nProcessing, cleansing, and verifying the integrity of data used for analysis\\nDevelop processes and tools to monitor and analyze model performance and data accuracy. Life cycle management of predictive models.\\nAdherence to compliance procedures in accordance with regulatory standards, requirements, and policies. Managing and designing the reporting environment, including data sources security, and metadata.\\nJob Qualifications:\\nMaster s degree or PhD in Computer Science, Information management, Statistics or related field, with 3 to 5 years of experience in the Consumer or Healthcare industry manipulating data sets and building predictive models with focus on product development\\nExperience in statistical modelling, machine learning, data mining, unstructured data analytics and natural language processing. Sound understanding of - Bayesian Modelling, Classification Models, Cluster Analysis, Neural Network, Nonparametric Methods, Multivariate Statistics, etc.\\nStrong hands on knowledge of ML techniques like regression algorithms, K-NN, Na ve Bayes, SVM and ensemble techniques like Random forest, AdaBoost etc\\nHaving strong knowledge in unsupervised learning algorithms using Neural networks and Deep-Learning\\nStrong knowledge in Data Wrangling and Exploration techniques to identify the patterns, trends and outliners.\\nDeep knowledge and practical experience with data science toolkits, such as NumPy, Pandas, scikit-learn or equivalent\\nExperience with data visualization tools, such as QlikView, Matplotlib, seaborn or equivalent tools.\\nProficiency in using query languages, such as SQL, PL/SQL\\nHands on experience in the one or more databases like Hadoop, AWS Redshift, Snowflake etc.\\nGood applied statistics skills, such as distributions, statistical testing, regression, etc.\\nGood ETL scripting and programming skills, such as Python, R or Scala to integrate developed solution into the proposition.\\nA team player capable of working and integrating across cross-functional team for implementing project requirements. Experience in technical requirements gathering and documentation.\\nAbility to work effectively and independently in a fast-paced global collaborative agile team environment with tight deadlines\\nA flexible, pragmatic and collaborative team player with innate ability to engage with stakeholders at all levels in the organization.\\nA self-starter with high levels of drive, energy, resilience and a desire for professional excellence with a passion for data and data science\\nRoleClinical Research Associate/Scientist\\nIndustry TypeMedical Services / Hospital\\nFunctional AreaMedical, Healthcare, R&D, Pharmaceuticals, Biotechnology\\nEmployment TypeFull Time, Permanent\\nRole CategoryR&D\\nEducation\\nUG :Any Graduate\\nPG :Post Graduation Not Required\\nKey Skills\\nProduct managementComputer sciencemetadataMachine learningAgilePLSQLHealthcareQlikViewData miningPython',\n",
       " '--',\n",
       " 'Job description\\n  Skills\\nRequired Skills: Data Science, Machine Learning, Deep Learning, Python, NLP\\nDesired Skills: Computer Vision\\nRoles and responsibilities\\nExperience in Data Modelling, R, Python, SQL, Data Science, Machine Learning, Deep Learning, NLP, Statistics\\nHave ability to solve Business problems using Data\\nShould possess extensive knowledge of and experience in applying data mining and machine learning techniques on large amount of datasets\\nHigh level of proficiency in statistical tools like R, Python\\nCandidate will be expected to communicate analytical results in a way that is meaningful for business stakeholders and provides actionable insights.\\nHave the ability to discover new opportunities where advanced analytical techniques can be leveraged for solving business problems\\nGood to Have\\nExpertise in programming languages like Java/C/C /Python\\nExperience with relational databases and SQL is good to have\\nExperience in audio and video analytics\\nRelevant experience in Big Data platforms like Hadoop eco-system\\nCome up with innovative algorithms and solutions\\nStaffing Type:Permanent\\nRoleClinical Research Associate/Scientist\\nIndustry TypeIT Services & Consulting\\nFunctional AreaMedical, Healthcare, R&D, Pharmaceuticals, Biotechnology\\nEmployment TypeFull Time, Permanent\\nRole CategoryR&D\\nEducation\\nUG :Any Graduate\\nPG :Any Postgraduate\\nKey Skills\\nHospitalityNSEStaffingBfsiAnalyticalAgileData miningAnalyticsAutomotiveSQL',\n",
       " 'Job description\\nRequired Technical and Professional Expertise\\n• 6+ years of industry work experience in data scientist projects\\n• Master’s degree or higher in Statistics/Math/Computer Science or related field\\n• Background in applied statistical modeling on large experimental or observational data sets\\n• Experience extracting data from a variety of sources, and a desire to expand those skills (working knowledge SQL is required, Spark is a plus)\\n• Experience with one or more statistical or machine learning software such as R, Python, etc.\\n• Must showcase past work through published articles/GitHub/social media\\n\\nPreferred Technical and Professional Expertise\\n• Knowledge of distributed computing systems, e.g. Cosmos, Spark, Hadoop, and relational database management system\\n• PhD. in Statistics is preferred\\n• You love collaborative environments that use agile methodologies to encourage creative design thinking and find innovative ways to develop with cutting edge technologies\\n• Ambitious individual who can work under their own direction towards agreed targets/goals and with creative approach to work\\n• Intuitive individual with an ability to manage change and proven time management\\n• Proven interpersonal skills while contributing to team effort by accomplishing related results as needed\\nRoleData Analyst\\nIndustry TypeIT Services & Consulting\\nFunctional AreaAnalytics & Business Intelligence\\nEmployment TypeFull Time, Permanent\\nRole CategoryAnalytics & BI\\nEducation\\nUG :B.Sc in Maths, Statistics\\nPG :MS/M.Sc(Science) in Maths, Statistics\\nDoctorate :Doctorate Not Required\\nKey Skills\\nRData scienceData analyticsSQLPython',\n",
       " '--',\n",
       " '--',\n",
       " 'Job description\\nRoles and Responsibilities\\nRequirements :\\n\\n- 6-9 years of strong experience in data mining, machine learning and statistical analysis.\\n\\n- BS/ MS/ PhD in Computer Science, Statistics, Applied Math, or related areas from Premier institutes ( only IITs / IISc / BITS / Top NITs or top US university should apply)\\n\\n- Ability to lead and deliver in a fast-paced start-up environment.\\n\\n- Fluency in tools such as Python/ R/ Matlab etc.\\n\\n- Strong intuition for data and Keen aptitude on large scale data analysis\\n\\n- Excellent written and verbal communication skills.\\n\\n- Ability to collaborate across teams and strong interpersonal skills.\\nRoleData Analyst\\nIndustry TypeIT Services & Consulting\\nFunctional AreaAnalytics & Business Intelligence\\nEmployment TypeFull Time, Permanent\\nRole CategoryAnalytics & BI\\nEducation\\nUG :B.Sc in Computers, Statistics\\nPG :MS/M.Sc(Science) in Computers, Statistics\\nDoctorate :Ph.D/Doctorate in Statistics, Computers\\nKey Skills\\nData ScienceRData ScientistData MiningStatistical AnalystMachine LearningMATLABPython',\n",
       " \"Job description\\n\\nJob description:\\n\\nSeeking senior data scientists for project-based roles that involve working on various projects.\\n\\nThe candidate must have experience in Python coding language and machine learning. The candidate will be working on a part-time basis and hours will be flexible based on the candidate's availability.\\nOpportunity to grow in a startup setting.\\nWhat you'll need:\\nB.Tech in CS or Statistics with demonstrable experience of over 5 years through publications/deployed solutions/projects.\\nM.Tech or Ph.D. in CS or Statistics with demonstrable experience of over 3 years through publications/deployed solutions/projects.\\nA deep understanding of applied statistical analysis and predictive modeling is desired.\\nThe candidate must have a thorough grasp of the theory and application of broad ML algorithms namely, but not limited to regression, SVM, Tree, Random Forests, Boosting, Neural Network, clustering, forecasting, deep learning, text analysis, etc.\\nIt is not expected that the candidate has actually worked on all these modules.\\nStrong proficiency in Python or R is necessary\\n\\nRoleData Analyst\\nIndustry TypeIT Services & Consulting\\nFunctional AreaAnalytics & Business Intelligence\\nEmployment TypePart Time, Freelance/Homebased\\nRole CategoryAnalytics & BI\\nEducation\\nUG :Any Graduate\\nKey Skills\\nPredictive ModelingRAlgorithmsSVMClusteringMachine LearningStatistical AnalysisStatisticsDeep LearningPython\",\n",
       " 'Job description\\nRoles and Responsibilities\\nWe are looking for someone who would be responsible for analyzing data and providing business insights. As a Data Scientist your responsibilities will include understanding the business problem and experimenting with different modelling architectures to create the best possible setup from model performance as well as computational performance. To do this job successfully, you need exceptional skills in Machine Learning and Programming. Your ultimate goal will be to find the best data-based solution for the problem at hand.\\nMoreover, you are expected to learn fast and deliver quickly in a fast-paced startup environment. If you thrive on ambiguity and are a problem solver and yet deliver value to clients, feel free to reach out to us.\\nWe are looking ONLY FOR SELF DRIVEN INDIVIDUALS with a desire to excel in Data Science Domain.\\nUnderstanding business objectives and developing models that help to achieve them, along with metrics to track their progress\\nDevelop and maintain robust data processing pipelines and reproducible modeling pipelines\\nBuild mathematical models to solve various problems ranging from Time Series forecasting to Neural Networks and ensure seamless deployment in production pipelines.\\nAnalyze experimental results, iterate and refine models to create significant business impact\\nFollow strict coding standards and other software engineering best practices\\n\\n\\nDesired Candidate Profile\\nProven experience as a Data Scientist or similar role\\nStrong SQL, R/Python Skills\\nShould have familiarity with Machine Learning Models and fundamentals in Forecasting and Optimization Techniques\\nShould have strong mathematical background & analytical bent of mind\\nStrong Problem-Solving Ability\\nAbility to communicate well in a highly collaborative team environment, consisting of both technical and non-technical personnel\\nReliable self-starter that is capable of working with a high degree of autonomy\\n\\n\\nPerks and Benefits\\n\\nNeenOpal is a global management consulting firm with a unique and specialized focus on Data Science.\\nWe provide services across the whole value chain of an organization - Digital Strategy, Sales & Marketing, Supply Chain & Logistics as well as Finance. Youll have a blast doing it in our fun, passionate environment.\\nRoleData scientist\\nIndustry TypeManagement Consulting\\nFunctional AreaIT Software - Other\\nEmployment TypeFull Time, Permanent\\nRole CategoryNot mentioned\\nEducation\\nUG :Any Graduate\\nPG :Any Postgraduate\\nKey Skills\\nData SciencePythonSQL\\nExcelSoftware EngineeringProblem SolvingNeural NetworksTime SeriesData AnalysisBusiness InsightsData ProcessingMachine Learning\\nSkills highlighted with ‘‘ are preferred keyskills',\n",
       " 'Job description\\nHi,\\n\\nWe at Prescience www.prescienceds.com looking for Data Scientist @ Bangalore .\\n\\nRoles and Responsibilities\\nAs a Data Scientist you will be working with senior management of clients to understand the business requirements, define right problem statement and come up with a framework for the solution. You will also work on the solution and at time guide a small team to deliver the same. Part of job role would be develop products in the area of Natural Language Processing, Conversational Interfaces, Text Mining etc.\\n\\nDesired Candidate Profile\\nWhat we are looking for:\\nGood applied statistics skills, such as distributions, statistical testing, regression, etc. Experience in Natural Language Processing, Computer Vision. Exposure to common data science business problems like clustering, classification, anomaly detection, prediction etc.\\nGood understanding of machine learning techniques and algorithms\\nExperience with common data science toolkits Python, R, SAS\\nProficiency in using query languages such as SQL, Hive, etc Experience with NoSQL database, SQL Server, PostgreSQL, MongoDB\\nGreat communication skills\\nData-oriented personality and excellent business analysis skills\\nExperience in solutioning for data science related problems, work with business stakeholders to define right problem statement and solution.\\nOpen to professionals who have data analytics / BI background and then moved to Data Scientist roles.\\n\\nPerks and Benefits\\n\\n\\nRoleOther\\nIndustry TypeIT Services & Consulting\\nFunctional AreaAnalytics & Business Intelligence\\nEmployment TypeFull Time, Permanent\\nRole CategoryOther\\nEducation\\nUG :Any Graduate\\nKey Skills\\nTensorflowPostgreSQLNatural Language ProcessingNeural NetworksMachine LearningStatisticsSQLData ScienceAnomaly DetectionPytorchRNLPMongoDBQlikViewComputer VisionData AnalyticsPython',\n",
       " 'Job description\\n\\nCRISIL (formerly Credit Rating Information Services of India Limited) is an Indian analytical company providing ratings, research, and risk and policy advisory services and is a subsidiary of American company S&P Global\\n\\nWe are looking Data Scientist for Mumbai & Bangalore location\\nCandidates who can join immediately or within 30-45 need only apply\\n\\nPlease refer below JD for your reference-\\n\\nJob Description Data scientist:\\nClient oriented approach to problem solving. Individual should be able to have a holistic view of multiple businesses and develop analytic solutions accordingly.\\nOwn and deliver multiple and complex analytic projects. This would require an understanding of business context, conversion of business problems in modeling, and implementing such solutions to create business value.\\nAlways up to date with the latest use cases of modeling community, machine learning and deep learning algorithms and share knowledge within the team.\\nProficiency in basic statistics, hypothesis testing, segmentation and predictive modeling.\\nAbility to translate and articulate technical thoughts and ideas to a larger audience including influencing skills with peers and senior management.\\nStrong project management skills.\\nAbility to coach and mentor juniors.\\nEagerness to work on new and challenging tasks on a regular basis with an ability to research new ways of doing things better/efficiently.\\nContribute to organizational initiatives in wide ranging areas including competency development, training, organizational building activities etc.\\nSkills\\n\\nBasic Qualifications\\n\\nBachelors Degree with 2+ years of experience in data analytics,\\nHands-on experience in Python / SAS or R programing along with strong experience in SQL and Excel Macros.\\nExperienced in working with large and multiple datasets, data warehouses and ability to pull data using relevant programs and coding.\\nWell versed with necessary data preprocessing and feature engineering skills.\\nAt least 2 years of experience implementing Machine learning algorithms such as Random Forest and Gradient Boosting in solving business problems such as Default classification and macroeconomic forecasting.\\nAt least 1 year of experience implementing deep learning techniques like neural networks\\nExposure to deep learning packages like Tensorflow\\nStrong background in Statistical Analysis\\nBackground in BFSI space will be preferred\\n\\nRoleData Analyst\\nIndustry TypeBanking\\nFunctional AreaAnalytics & Business Intelligence\\nEmployment TypeFull Time, Permanent\\nRole CategoryAnalytics & BI\\nEducation\\nUG :Any Graduate\\nPG :Any Postgraduate\\nKey Skills\\nrMachine LearningPython\\nTensorflowPredictive ModelingSegmentationNeural NetworksDeep LearningRandom ForestSQL\\nSkills highlighted with ‘‘ are preferred keyskills',\n",
       " 'Job description\\nRoles and Responsibilities\\nJob Description:\\nDevelop data powered insights deriving from distributed, real time streaming applications, and develop AI systems leveraging on such data powered insights.\\nLooking for candidates with passion and energy to work in a high energy team with entrepreneurial culture: Self starter attitude, quick learning aptitude, passion and willingness to deliver on time with quality.\\n\\nJob Skills Required:\\nExpert data science skills using supervised and unsupervised learning. Deep learning.\\nCompute: Spark/Storm/NiFi/Flink/Redis, or other.\\nVisualization: Banana UI, Kibana, or other,\\nTools: H2O, TensorFlow, Mlib, Scikit, Keras or other.\\nMessaging: Kafka, RabbitMQ, or other.\\n\\nStrong Analytical and Math/Statistics skills.\\n\\nQualification :\\nM.Tech/M.E./M.S. in Computer Science, Engineering or a related field, preferably with a concentration, major or minor in Data Science or Machine Learning. PhD would be added advantage.\\n\\nDesired Candidate Profile\\nDesirable s that would strengthen candidacy:\\n Proven track record from public competitions such as from Kagel, Analytics Vidya, etc. \\n\\nExpertise in one or more high level programming languages such as Java, Scala, Python, Go, Erlang, etc.\\n\\nExpertise in developing scalable applications in a distributed environment.\\n\\nStrong SQL or NoSQL skills with one or more open source DBMS such as MySql, MongoDB, Cassandra.\\n\\nExpertise in containerized environments on private or public clouds - Aws Azure, etc.\\n\\n\\nRoleSoftware Developer\\nIndustry TypeIT Services & Consulting\\nFunctional AreaIT Software - Application Programming, Maintenance\\nEmployment TypeFull Time, Temporary/Contractual\\nRole CategoryProgramming & Design\\nEducation\\nUG :Any Graduate\\nPG :Any Postgraduate\\nKey Skills\\ndeep learningKibanatensorflowdata scienceKafkakerasSparkMachine Learning',\n",
       " 'Job description\\nRoles and Responsibilities\\nJob Description:\\nDevelop data powered insights deriving from distributed, real time streaming applications, and develop AI systems leveraging on such data powered insights.\\nLooking for candidates with passion and energy to work in a high energy team with entrepreneurial culture: Self starter attitude, quick learning aptitude, passion and willingness to deliver on time with quality.\\n\\nJob Skills Required:\\nExpert data science skills using supervised and unsupervised learning. Deep learning.\\nCompute: Spark/Storm/NiFi/Flink/Redis, or other.\\nVisualization: Banana UI, Kibana, or other,\\nTools: H2O, TensorFlow, Mlib, Scikit, Keras or other.\\nMessaging: Kafka, RabbitMQ, or other.\\n\\nStrong Analytical and Math/Statistics skills.\\n\\nQualification :\\nM.Tech/M.E./M.S. in Computer Science, Engineering or a related field, preferably with a concentration, major or minor in Data Science or Machine Learning. PhD would be added advantage.\\n\\nDesired Candidate Profile\\nDesirable s that would strengthen candidacy:\\n Proven track record from public competitions such as from Kagel, Analytics Vidya, etc. \\n\\nExpertise in one or more high level programming languages such as Java, Scala, Python, Go, Erlang, etc.\\n\\nExpertise in developing scalable applications in a distributed environment.\\n\\nStrong SQL or NoSQL skills with one or more open source DBMS such as MySql, MongoDB, Cassandra.\\n\\nExpertise in containerized environments on private or public clouds - Aws Azure, etc.\\n\\n\\nRoleSoftware Developer\\nIndustry TypeIT Services & Consulting\\nFunctional AreaIT Software - Application Programming, Maintenance\\nEmployment TypeFull Time, Temporary/Contractual\\nRole CategoryProgramming & Design\\nEducation\\nUG :Any Graduate\\nPG :Any Postgraduate\\nKey Skills\\ndeep learningKibanatensorflowdata scienceKafkakerasSparkMachine Learning',\n",
       " 'Job description\\nDear Candidate,\\n\\nWarm greetings from SP Staffing Services.\\n\\nWe are hiring Data Science / ML Resources for our Client.\\n\\nRole: Sr. Data Scientist - Machine Learning\\nExp: 10 to 15 yrs\\nLocation: Pune, Bangalore, Chennai\\n\\nRequisite:\\n\\nIdeal Resource should have 10+ years of experience in Data Science Machine Learning.\\n\\nResponsibilities:\\n\\nDesign and Develop ML / NLP models for the project requirement\\nDeliver ownership to setup ML / NLP models with respect to tools, data and infrastructure as required\\nWork closely with Product Owner and Product architect right from ML based solution conceptualization till implementation in response to a client requirement\\nThought leadership on building ML/NLP based solution based on client requirements\\nLead the ML / NLP dialogue during the customer visits and other partner events\\n\\nRequired Skills:\\n\\nStrong knowledge of Machine Learning / NLP algorithms Information extraction, named entity recognition, text clustering, Knowledge Graph, text summarization, intent classification, word embeddings, vector space models\\nStrong experience in NLP using Python\\nExperience in developing Microservices and web services\\nUnderstanding of data and data analysis, manage Large Data Sets\\nSound exposure on Pandas, Scikit and Numpy\\nMin 4+ years of experience implementing and deploying machine learning and deep learning frameworks (Spark, TensorFlow, Keras, Caffe, etc.)\\nApplication programming in cloud platforms including Azure, IBM, AWS and GCP\\nHands on experience Data Science / Big Data technology and architecture\\n\\n\\nRoleSoftware Developer\\nIndustry TypeIT Services & Consulting\\nFunctional AreaIT Software - Application Programming, Maintenance\\nEmployment TypeFull Time, Permanent\\nRole CategoryProgramming & Design\\nEducation\\nUG :B.Tech/B.E. in Computers\\nKey Skills\\nMachine LearningData SciencePython\\nTensorflowDeep LearningNumpyMicroservicesNLPGCPPandasInformation ExtractionData AnalysisKerasCaffeScikit\\nSkills highlighted with ‘‘ are preferred keyskills',\n",
       " '--',\n",
       " '--',\n",
       " '--',\n",
       " '--',\n",
       " 'Job description\\nThe Challenge\\nBe a thought leader, partner with your cross-functional partners to foster a data driven payments organization.\\nWith a focus on Payments compliance and keeping our platform safe, anticipate and detect new fraud trends and regulatory requirements.\\nDefine and evaluate key metrics. Build the data foundation you need, in partnership with the data engineering team.\\nDeliver actionable user-insights to build the best products and models\\nDesign experiments to measure the impact of new payments features\\nEmpower the product and engineering teams to make data-driven decisions\\nWhat you need to succeed\\n4+ years industry experience in a quantitative analysis role. Experience in Payments a strong plus\\nFluent in SQL and proficiency in analytical tools such as Python, R, etc.\\nBackground in statistics and experience with experimentation\\nSolid understanding of product analytics\\nExperience or willingness to learn tools to create data pipelines using Airflow/Minerva\\nAbility to communicate clearly and effectively to cross functional partners of varying technical levels\\nRoleData Analyst\\nIndustry TypeTravel & Tourism\\nFunctional AreaAnalytics & Business Intelligence\\nEmployment TypeFull Time, Permanent\\nRole CategoryAnalytics & BI\\nEducation\\nUG :Any Graduate\\nPG :Any Postgraduate\\nKey Skills\\nQuantitative AnalysisRData EngineeringData ScientistStatisticsAnalyticsPythonSQL']"
      ]
     },
     "execution_count": 128,
     "metadata": {},
     "output_type": "execute_result"
    }
   ],
   "source": [
    "job_description=[]\n",
    "for i in Desc_url:\n",
    "    driver.get(i)\n",
    "    \n",
    "    try:\n",
    "        job_desc=driver.find_element_by_xpath(\"//section[@class='job-desc']\")\n",
    "        job_description.append(job_desc.text)\n",
    "    except:\n",
    "        job_description.append(\"--\")\n",
    "job_description"
   ]
  },
  {
   "cell_type": "code",
   "execution_count": 130,
   "id": "e4fbafc8",
   "metadata": {},
   "outputs": [
    {
     "data": {
      "text/plain": [
       "20"
      ]
     },
     "execution_count": 130,
     "metadata": {},
     "output_type": "execute_result"
    }
   ],
   "source": [
    "len(job_description)"
   ]
  },
  {
   "cell_type": "code",
   "execution_count": 132,
   "id": "fe06c014",
   "metadata": {},
   "outputs": [
    {
     "data": {
      "text/html": [
       "<div>\n",
       "<style scoped>\n",
       "    .dataframe tbody tr th:only-of-type {\n",
       "        vertical-align: middle;\n",
       "    }\n",
       "\n",
       "    .dataframe tbody tr th {\n",
       "        vertical-align: top;\n",
       "    }\n",
       "\n",
       "    .dataframe thead th {\n",
       "        text-align: right;\n",
       "    }\n",
       "</style>\n",
       "<table border=\"1\" class=\"dataframe\">\n",
       "  <thead>\n",
       "    <tr style=\"text-align: right;\">\n",
       "      <th></th>\n",
       "      <th>Job_title</th>\n",
       "      <th>Company_name</th>\n",
       "      <th>Location</th>\n",
       "      <th>Job_desc</th>\n",
       "    </tr>\n",
       "  </thead>\n",
       "  <tbody>\n",
       "    <tr>\n",
       "      <th>0</th>\n",
       "      <td>Lead Data Scientist BFSI</td>\n",
       "      <td>IBM India Pvt. Limited</td>\n",
       "      <td>Bengaluru/Bangalore</td>\n",
       "      <td>--</td>\n",
       "    </tr>\n",
       "    <tr>\n",
       "      <th>1</th>\n",
       "      <td>Associate Data Scientist</td>\n",
       "      <td>Philips India Limited</td>\n",
       "      <td>Bangalore/Bengaluru</td>\n",
       "      <td>Job description\\nUse predictive modeling to in...</td>\n",
       "    </tr>\n",
       "    <tr>\n",
       "      <th>2</th>\n",
       "      <td>Data Scientist: Advanced Analytics</td>\n",
       "      <td>IBM India Pvt. Limited</td>\n",
       "      <td>Bengaluru/Bangalore</td>\n",
       "      <td>--</td>\n",
       "    </tr>\n",
       "    <tr>\n",
       "      <th>3</th>\n",
       "      <td>SENIOR DATA SCIENTIST</td>\n",
       "      <td>Happiest Minds Technologies Pvt.Ltd</td>\n",
       "      <td>Bangalore/Bengaluru</td>\n",
       "      <td>Job description\\n  Skills\\nRequired Skills: Da...</td>\n",
       "    </tr>\n",
       "    <tr>\n",
       "      <th>4</th>\n",
       "      <td>Data Scientist (Python &amp; SQL)</td>\n",
       "      <td>AVE-Promagne</td>\n",
       "      <td>Hyderabad/Secunderabad, Chennai, Bangalore/Ben...</td>\n",
       "      <td>Job description\\nRequired Technical and Profes...</td>\n",
       "    </tr>\n",
       "    <tr>\n",
       "      <th>5</th>\n",
       "      <td>Sr Data Scientist</td>\n",
       "      <td>IBM India Pvt. Limited</td>\n",
       "      <td>Bengaluru/Bangalore</td>\n",
       "      <td>--</td>\n",
       "    </tr>\n",
       "    <tr>\n",
       "      <th>6</th>\n",
       "      <td>Sr Data Scientist</td>\n",
       "      <td>IBM India Pvt. Limited</td>\n",
       "      <td>Bangalore/Bengaluru</td>\n",
       "      <td>--</td>\n",
       "    </tr>\n",
       "    <tr>\n",
       "      <th>7</th>\n",
       "      <td>Lead Data Scientist - Machine Learning/ Data M...</td>\n",
       "      <td>Wrackle Technologies Pvt Ltd</td>\n",
       "      <td>Bangalore/Bengaluru</td>\n",
       "      <td>Job description\\nRoles and Responsibilities\\nR...</td>\n",
       "    </tr>\n",
       "    <tr>\n",
       "      <th>8</th>\n",
       "      <td>Freelance Data Scientist Project Based</td>\n",
       "      <td>Shikvix</td>\n",
       "      <td>Remote</td>\n",
       "      <td>Job description\\n\\nJob description:\\n\\nSeeking...</td>\n",
       "    </tr>\n",
       "    <tr>\n",
       "      <th>9</th>\n",
       "      <td>Data Scientist</td>\n",
       "      <td>NeenOpal Intelligent Solutions Private Limited</td>\n",
       "      <td>Bangalore/Bengaluru</td>\n",
       "      <td>Job description\\nRoles and Responsibilities\\nW...</td>\n",
       "    </tr>\n",
       "  </tbody>\n",
       "</table>\n",
       "</div>"
      ],
      "text/plain": [
       "                                           Job_title  \\\n",
       "0                           Lead Data Scientist BFSI   \n",
       "1                           Associate Data Scientist   \n",
       "2                 Data Scientist: Advanced Analytics   \n",
       "3                              SENIOR DATA SCIENTIST   \n",
       "4                      Data Scientist (Python & SQL)   \n",
       "5                                  Sr Data Scientist   \n",
       "6                                  Sr Data Scientist   \n",
       "7  Lead Data Scientist - Machine Learning/ Data M...   \n",
       "8             Freelance Data Scientist Project Based   \n",
       "9                                     Data Scientist   \n",
       "\n",
       "                                     Company_name  \\\n",
       "0                          IBM India Pvt. Limited   \n",
       "1                           Philips India Limited   \n",
       "2                          IBM India Pvt. Limited   \n",
       "3             Happiest Minds Technologies Pvt.Ltd   \n",
       "4                                    AVE-Promagne   \n",
       "5                          IBM India Pvt. Limited   \n",
       "6                          IBM India Pvt. Limited   \n",
       "7                    Wrackle Technologies Pvt Ltd   \n",
       "8                                         Shikvix   \n",
       "9  NeenOpal Intelligent Solutions Private Limited   \n",
       "\n",
       "                                            Location  \\\n",
       "0                                Bengaluru/Bangalore   \n",
       "1                                Bangalore/Bengaluru   \n",
       "2                                Bengaluru/Bangalore   \n",
       "3                                Bangalore/Bengaluru   \n",
       "4  Hyderabad/Secunderabad, Chennai, Bangalore/Ben...   \n",
       "5                                Bengaluru/Bangalore   \n",
       "6                                Bangalore/Bengaluru   \n",
       "7                                Bangalore/Bengaluru   \n",
       "8                                             Remote   \n",
       "9                                Bangalore/Bengaluru   \n",
       "\n",
       "                                            Job_desc  \n",
       "0                                                 --  \n",
       "1  Job description\\nUse predictive modeling to in...  \n",
       "2                                                 --  \n",
       "3  Job description\\n  Skills\\nRequired Skills: Da...  \n",
       "4  Job description\\nRequired Technical and Profes...  \n",
       "5                                                 --  \n",
       "6                                                 --  \n",
       "7  Job description\\nRoles and Responsibilities\\nR...  \n",
       "8  Job description\\n\\nJob description:\\n\\nSeeking...  \n",
       "9  Job description\\nRoles and Responsibilities\\nW...  "
      ]
     },
     "execution_count": 132,
     "metadata": {},
     "output_type": "execute_result"
    }
   ],
   "source": [
    "Jobs=pd.DataFrame({})\n",
    "Jobs[\"Job_title\"]= Job_title[:10]\n",
    "Jobs[\"Company_name\"]= Company_name[:10]\n",
    "Jobs[\"Location\"]= Job_location[:10]\n",
    "Jobs[\"Job_desc\"]= job_description[:10]\n",
    "Jobs"
   ]
  },
  {
   "cell_type": "markdown",
   "id": "75fb3697",
   "metadata": {},
   "source": [
    "# Q.3"
   ]
  },
  {
   "cell_type": "code",
   "execution_count": 3,
   "id": "ac936dbe",
   "metadata": {},
   "outputs": [],
   "source": [
    "url= \"https://www.naukri.com/\"\n",
    "driver.get(url)"
   ]
  },
  {
   "cell_type": "code",
   "execution_count": 5,
   "id": "6836f9ec",
   "metadata": {},
   "outputs": [],
   "source": [
    "search_job=driver.find_element_by_id(\"qsb-keyword-sugg\")\n",
    "search_job\n",
    "search_job.send_keys(\"Data Scientist\")"
   ]
  },
  {
   "cell_type": "code",
   "execution_count": 6,
   "id": "e53af161",
   "metadata": {},
   "outputs": [],
   "source": [
    "search_btn=driver.find_element_by_xpath(\"//button[@class='btn']\")\n",
    "search_btn\n",
    "search_btn.click()"
   ]
  },
  {
   "cell_type": "code",
   "execution_count": 12,
   "id": "6dcaa4df",
   "metadata": {},
   "outputs": [],
   "source": [
    "filter_loc=driver.find_element_by_xpath(\"//span[@title='Delhi / NCR']\")\n",
    "filter_loc\n",
    "filter_loc.click()"
   ]
  },
  {
   "cell_type": "code",
   "execution_count": 14,
   "id": "32305bb3",
   "metadata": {},
   "outputs": [],
   "source": [
    "filter_salary=driver.find_element_by_xpath(\"//span[@title='3-6 Lakhs']\")\n",
    "filter_salary\n",
    "filter_salary.click() \n"
   ]
  },
  {
   "cell_type": "code",
   "execution_count": 15,
   "id": "e15a1c25",
   "metadata": {},
   "outputs": [
    {
     "data": {
      "text/plain": [
       "['Only Fresher / Data Scientist / Data Analyst / Analytics - MNC Jobs',\n",
       " 'Data Analyst/Data Scientist',\n",
       " 'Data Scientist',\n",
       " 'Data Scientist/ Machine Learning Engineer',\n",
       " 'Data Scientist / Data Analyst / Business Analytics - MNC Jobs Freshers',\n",
       " 'Data Scientist / Data Analyst',\n",
       " 'Immediate Openings For Data Scientist For Wipro C2H',\n",
       " 'Data Scientist',\n",
       " 'Data Scientist',\n",
       " 'Data Scientist-immediate Joiners',\n",
       " 'Data Scientist - WFH - MIND Infotech',\n",
       " 'Junior Data Scientists & Engineers',\n",
       " 'Data Scientist - Machine Learning/ NLP',\n",
       " 'Data Scientist Internship',\n",
       " 'Data Scientist',\n",
       " 'Senior Data Scientist',\n",
       " 'Senior Data Scientist',\n",
       " 'Hiring Data Scientist Develope || IDS Infotech LTD || (Permanent WFH)',\n",
       " 'Data Scientist',\n",
       " 'Data Scientist']"
      ]
     },
     "execution_count": 15,
     "metadata": {},
     "output_type": "execute_result"
    }
   ],
   "source": [
    "job_title=driver.find_elements_by_xpath(\"//a[@class='title fw500 ellipsis']\")\n",
    "job_title\n",
    "Job_title = []\n",
    "for i in job_title:\n",
    "    Job_title.append(i.text)\n",
    "Job_title"
   ]
  },
  {
   "cell_type": "code",
   "execution_count": 16,
   "id": "0ecb4f65",
   "metadata": {},
   "outputs": [
    {
     "data": {
      "text/plain": [
       "['GABA Consultancy services',\n",
       " 'Skillenable Fintech Private Limited',\n",
       " 'PROCESS NINE TECHNOLOGIES PVT.LTD.',\n",
       " 'Creative Hands HR Consultancy',\n",
       " 'GABA Consultancy services',\n",
       " 'CARS24',\n",
       " 'IDESLABS PRIVATE LIMITED',\n",
       " 'R Systems International Ltd.',\n",
       " 'Kusum Healthcare Pvt. Ltd.',\n",
       " 'Quikruit Consulting LLP',\n",
       " 'MOTHERSONSUMI INFOTECH & DESIGNS LIMITED',\n",
       " 'PY Consultancy',\n",
       " 'TalPro',\n",
       " 'iHackers Inc',\n",
       " 'Fractal Analytics',\n",
       " 'inVentiv International Pharma Services Pvt. Ltd.',\n",
       " 'iNICU',\n",
       " 'IDS Infotech Ltd.',\n",
       " 'Sentieo',\n",
       " 'BlackBuck']"
      ]
     },
     "execution_count": 16,
     "metadata": {},
     "output_type": "execute_result"
    }
   ],
   "source": [
    "company_name=driver.find_elements_by_xpath(\"//a[@class='subTitle ellipsis fleft']\")\n",
    "company_name\n",
    "Company_name = []\n",
    "for i in company_name:\n",
    "    Company_name.append(i.text)\n",
    "Company_name"
   ]
  },
  {
   "cell_type": "code",
   "execution_count": 19,
   "id": "8b32df98",
   "metadata": {},
   "outputs": [
    {
     "data": {
      "text/plain": [
       "20"
      ]
     },
     "execution_count": 19,
     "metadata": {},
     "output_type": "execute_result"
    }
   ],
   "source": [
    "len(Company_name)"
   ]
  },
  {
   "cell_type": "code",
   "execution_count": 20,
   "id": "f57b297d",
   "metadata": {},
   "outputs": [
    {
     "data": {
      "text/plain": [
       "['Noida, Gurgaon/Gurugram, Delhi / NCR',\n",
       " 'Bangalore/Bengaluru, Delhi / NCR, Mumbai (All Areas)',\n",
       " 'Gurgaon/Gurugram',\n",
       " 'Mohali/SAS Nagar, Hyderabad/Secunderabad, Ahmedabad, Gurgaon/Gurugram, Chennai, Bangalore/Bengaluru',\n",
       " 'Noida, New Delhi, Gurgaon/Gurugram',\n",
       " 'Gurgaon/Gurugram',\n",
       " 'Gurgaon/Gurugram',\n",
       " 'Noida',\n",
       " 'Delhi / NCR(Okhla)',\n",
       " 'Noida',\n",
       " 'Pune, Chennai, Bangalore/Bengaluru, Delhi / NCR, Mumbai (All Areas)',\n",
       " 'New Delhi, Delhi / NCR',\n",
       " 'Gurgaon/Gurugram',\n",
       " 'New Delhi',\n",
       " 'Mumbai, Gurgaon/Gurugram, Bangalore/Bengaluru',\n",
       " 'Hyderabad/Secunderabad, Gurgaon/Gurugram, Bangalore/Bengaluru',\n",
       " 'Delhi',\n",
       " 'Chandigarh, Hyderabad/Secunderabad, Chennai, Bangalore/Bengaluru, Delhi / NCR',\n",
       " 'Delhi',\n",
       " 'Gurgaon, Bengaluru']"
      ]
     },
     "execution_count": 20,
     "metadata": {},
     "output_type": "execute_result"
    }
   ],
   "source": [
    "job_location=driver.find_elements_by_xpath(\"//li[@class='fleft grey-text br2 placeHolderLi location']//span[1]\")\n",
    "job_location\n",
    "Job_location = []\n",
    "for i in job_location:\n",
    "    Job_location.append(i.text)\n",
    "Job_location"
   ]
  },
  {
   "cell_type": "code",
   "execution_count": 21,
   "id": "ea8d94c3",
   "metadata": {},
   "outputs": [
    {
     "data": {
      "text/plain": [
       "20"
      ]
     },
     "execution_count": 21,
     "metadata": {},
     "output_type": "execute_result"
    }
   ],
   "source": [
    "len(Job_location)"
   ]
  },
  {
   "cell_type": "code",
   "execution_count": 22,
   "id": "160f33aa",
   "metadata": {},
   "outputs": [
    {
     "data": {
      "text/plain": [
       "['0-0 Yrs',\n",
       " '2-5 Yrs',\n",
       " '1-3 Yrs',\n",
       " '0-0 Yrs',\n",
       " '0-0 Yrs',\n",
       " '1-5 Yrs',\n",
       " '5-10 Yrs',\n",
       " '3-6 Yrs',\n",
       " '4-6 Yrs',\n",
       " '2-5 Yrs',\n",
       " '3-7 Yrs',\n",
       " '0-3 Yrs',\n",
       " '2-6 Yrs',\n",
       " '0-1 Yrs',\n",
       " '3-7 Yrs',\n",
       " '3-6 Yrs',\n",
       " '1-5 Yrs',\n",
       " '5-10 Yrs',\n",
       " '2-7 Yrs',\n",
       " '3-7 Yrs']"
      ]
     },
     "execution_count": 22,
     "metadata": {},
     "output_type": "execute_result"
    }
   ],
   "source": [
    "exp=driver.find_elements_by_xpath(\"//li[@class='fleft grey-text br2 placeHolderLi experience']//span[1]\")\n",
    "exp\n",
    "Exp_req = []\n",
    "for i in exp:\n",
    "    Exp_req.append(i.text)\n",
    "Exp_req"
   ]
  },
  {
   "cell_type": "code",
   "execution_count": 23,
   "id": "55472ce8",
   "metadata": {},
   "outputs": [
    {
     "data": {
      "text/plain": [
       "20"
      ]
     },
     "execution_count": 23,
     "metadata": {},
     "output_type": "execute_result"
    }
   ],
   "source": [
    "len(Exp_req)"
   ]
  },
  {
   "cell_type": "code",
   "execution_count": 24,
   "id": "21c5c224",
   "metadata": {},
   "outputs": [
    {
     "data": {
      "text/html": [
       "<div>\n",
       "<style scoped>\n",
       "    .dataframe tbody tr th:only-of-type {\n",
       "        vertical-align: middle;\n",
       "    }\n",
       "\n",
       "    .dataframe tbody tr th {\n",
       "        vertical-align: top;\n",
       "    }\n",
       "\n",
       "    .dataframe thead th {\n",
       "        text-align: right;\n",
       "    }\n",
       "</style>\n",
       "<table border=\"1\" class=\"dataframe\">\n",
       "  <thead>\n",
       "    <tr style=\"text-align: right;\">\n",
       "      <th></th>\n",
       "      <th>Job_title</th>\n",
       "      <th>Company_name</th>\n",
       "      <th>Location</th>\n",
       "      <th>Experience_req</th>\n",
       "    </tr>\n",
       "  </thead>\n",
       "  <tbody>\n",
       "    <tr>\n",
       "      <th>0</th>\n",
       "      <td>Only Fresher / Data Scientist / Data Analyst /...</td>\n",
       "      <td>GABA Consultancy services</td>\n",
       "      <td>Noida, Gurgaon/Gurugram, Delhi / NCR</td>\n",
       "      <td>0-0 Yrs</td>\n",
       "    </tr>\n",
       "    <tr>\n",
       "      <th>1</th>\n",
       "      <td>Data Analyst/Data Scientist</td>\n",
       "      <td>Skillenable Fintech Private Limited</td>\n",
       "      <td>Bangalore/Bengaluru, Delhi / NCR, Mumbai (All ...</td>\n",
       "      <td>2-5 Yrs</td>\n",
       "    </tr>\n",
       "    <tr>\n",
       "      <th>2</th>\n",
       "      <td>Data Scientist</td>\n",
       "      <td>PROCESS NINE TECHNOLOGIES PVT.LTD.</td>\n",
       "      <td>Gurgaon/Gurugram</td>\n",
       "      <td>1-3 Yrs</td>\n",
       "    </tr>\n",
       "    <tr>\n",
       "      <th>3</th>\n",
       "      <td>Data Scientist/ Machine Learning Engineer</td>\n",
       "      <td>Creative Hands HR Consultancy</td>\n",
       "      <td>Mohali/SAS Nagar, Hyderabad/Secunderabad, Ahme...</td>\n",
       "      <td>0-0 Yrs</td>\n",
       "    </tr>\n",
       "    <tr>\n",
       "      <th>4</th>\n",
       "      <td>Data Scientist / Data Analyst / Business Analy...</td>\n",
       "      <td>GABA Consultancy services</td>\n",
       "      <td>Noida, New Delhi, Gurgaon/Gurugram</td>\n",
       "      <td>0-0 Yrs</td>\n",
       "    </tr>\n",
       "    <tr>\n",
       "      <th>5</th>\n",
       "      <td>Data Scientist / Data Analyst</td>\n",
       "      <td>CARS24</td>\n",
       "      <td>Gurgaon/Gurugram</td>\n",
       "      <td>1-5 Yrs</td>\n",
       "    </tr>\n",
       "    <tr>\n",
       "      <th>6</th>\n",
       "      <td>Immediate Openings For Data Scientist For Wipr...</td>\n",
       "      <td>IDESLABS PRIVATE LIMITED</td>\n",
       "      <td>Gurgaon/Gurugram</td>\n",
       "      <td>5-10 Yrs</td>\n",
       "    </tr>\n",
       "    <tr>\n",
       "      <th>7</th>\n",
       "      <td>Data Scientist</td>\n",
       "      <td>R Systems International Ltd.</td>\n",
       "      <td>Noida</td>\n",
       "      <td>3-6 Yrs</td>\n",
       "    </tr>\n",
       "    <tr>\n",
       "      <th>8</th>\n",
       "      <td>Data Scientist</td>\n",
       "      <td>Kusum Healthcare Pvt. Ltd.</td>\n",
       "      <td>Delhi / NCR(Okhla)</td>\n",
       "      <td>4-6 Yrs</td>\n",
       "    </tr>\n",
       "    <tr>\n",
       "      <th>9</th>\n",
       "      <td>Data Scientist-immediate Joiners</td>\n",
       "      <td>Quikruit Consulting LLP</td>\n",
       "      <td>Noida</td>\n",
       "      <td>2-5 Yrs</td>\n",
       "    </tr>\n",
       "  </tbody>\n",
       "</table>\n",
       "</div>"
      ],
      "text/plain": [
       "                                           Job_title  \\\n",
       "0  Only Fresher / Data Scientist / Data Analyst /...   \n",
       "1                        Data Analyst/Data Scientist   \n",
       "2                                     Data Scientist   \n",
       "3          Data Scientist/ Machine Learning Engineer   \n",
       "4  Data Scientist / Data Analyst / Business Analy...   \n",
       "5                      Data Scientist / Data Analyst   \n",
       "6  Immediate Openings For Data Scientist For Wipr...   \n",
       "7                                     Data Scientist   \n",
       "8                                     Data Scientist   \n",
       "9                   Data Scientist-immediate Joiners   \n",
       "\n",
       "                          Company_name  \\\n",
       "0            GABA Consultancy services   \n",
       "1  Skillenable Fintech Private Limited   \n",
       "2   PROCESS NINE TECHNOLOGIES PVT.LTD.   \n",
       "3        Creative Hands HR Consultancy   \n",
       "4            GABA Consultancy services   \n",
       "5                               CARS24   \n",
       "6             IDESLABS PRIVATE LIMITED   \n",
       "7         R Systems International Ltd.   \n",
       "8           Kusum Healthcare Pvt. Ltd.   \n",
       "9              Quikruit Consulting LLP   \n",
       "\n",
       "                                            Location Experience_req  \n",
       "0               Noida, Gurgaon/Gurugram, Delhi / NCR        0-0 Yrs  \n",
       "1  Bangalore/Bengaluru, Delhi / NCR, Mumbai (All ...        2-5 Yrs  \n",
       "2                                   Gurgaon/Gurugram        1-3 Yrs  \n",
       "3  Mohali/SAS Nagar, Hyderabad/Secunderabad, Ahme...        0-0 Yrs  \n",
       "4                 Noida, New Delhi, Gurgaon/Gurugram        0-0 Yrs  \n",
       "5                                   Gurgaon/Gurugram        1-5 Yrs  \n",
       "6                                   Gurgaon/Gurugram       5-10 Yrs  \n",
       "7                                              Noida        3-6 Yrs  \n",
       "8                                 Delhi / NCR(Okhla)        4-6 Yrs  \n",
       "9                                              Noida        2-5 Yrs  "
      ]
     },
     "execution_count": 24,
     "metadata": {},
     "output_type": "execute_result"
    }
   ],
   "source": [
    "Jobs_delhi=pd.DataFrame({})\n",
    "Jobs_delhi[\"Job_title\"]= Job_title[:10]\n",
    "Jobs_delhi[\"Company_name\"]= Company_name[:10]\n",
    "Jobs_delhi[\"Location\"]= Job_location[:10]\n",
    "Jobs_delhi[\"Experience_req\"]= Exp_req[:10]\n",
    "Jobs_delhi"
   ]
  },
  {
   "cell_type": "markdown",
   "id": "bb11e359",
   "metadata": {},
   "source": [
    "# Q.4"
   ]
  },
  {
   "cell_type": "code",
   "execution_count": 3,
   "id": "2a8acc3d",
   "metadata": {},
   "outputs": [],
   "source": [
    "driver=webdriver.Chrome(\"chromedriver\")"
   ]
  },
  {
   "cell_type": "code",
   "execution_count": 4,
   "id": "0ddb2a19",
   "metadata": {},
   "outputs": [],
   "source": [
    "url=\" https://www.glassdoor.co.in/index.html\"\n",
    "\n",
    "driver.get(url)"
   ]
  },
  {
   "cell_type": "code",
   "execution_count": 5,
   "id": "372352b0",
   "metadata": {},
   "outputs": [],
   "source": [
    "search_job=driver.find_element_by_id(\"scKeyword\")\n",
    "search_job\n",
    "search_job.send_keys(\"Data scientist\")\n",
    "search_location=driver.find_element_by_id(\"scLocation\")\n",
    "search_location\n",
    "search_location.send_keys(\"Noida(India)\")\n"
   ]
  },
  {
   "cell_type": "code",
   "execution_count": 6,
   "id": "3a5938b5",
   "metadata": {},
   "outputs": [],
   "source": [
    "Search_btn=driver.find_element_by_xpath(\"//button[@class='pl-0 pr-xsm search__SearchStyles__searchKeywordSubmit']\")\n",
    "Search_btn\n",
    "Search_btn.click()"
   ]
  },
  {
   "cell_type": "code",
   "execution_count": 7,
   "id": "7020c53e",
   "metadata": {},
   "outputs": [
    {
     "data": {
      "text/plain": [
       "['Liberin Technologies Private Limited',\n",
       " 'Noisy Lion',\n",
       " 'AlgoScale Technologies Private Limited',\n",
       " 'Grail Insights',\n",
       " 'Grail Insights',\n",
       " 'Techlive',\n",
       " 'Salasar New Age Technologies',\n",
       " 'IBM',\n",
       " 'Ericsson',\n",
       " 'Newgen Software',\n",
       " 'Salasar New Age Technologies',\n",
       " 'Genpact',\n",
       " 'Crowe',\n",
       " 'Monotype',\n",
       " 'SearchUrCollege',\n",
       " 'Lenskart',\n",
       " 'ING',\n",
       " 'Biz2Credit Inc',\n",
       " 'Airtel India',\n",
       " 'OneAssist Consumer Solutions Private Limited',\n",
       " 'limeroad.com',\n",
       " 'WishFin',\n",
       " 'CRMNEXT',\n",
       " 'CSTEP',\n",
       " 'Crypto Mize',\n",
       " 'Adobe',\n",
       " 'Emerging India Group',\n",
       " 'Adobe',\n",
       " 'NEC Opportunities',\n",
       " 'xtLytics']"
      ]
     },
     "execution_count": 7,
     "metadata": {},
     "output_type": "execute_result"
    }
   ],
   "source": [
    "company_name=driver.find_elements_by_xpath(\"//a[@class=' job-search-key-l2wjgv e1n63ojh0 jobLink']\")\n",
    "company_name\n",
    "Company_name = []\n",
    "for i in company_name:\n",
    "    Company_name.append(i.text)\n",
    "Company_name"
   ]
  },
  {
   "cell_type": "code",
   "execution_count": 8,
   "id": "1362c202",
   "metadata": {},
   "outputs": [
    {
     "data": {
      "text/plain": [
       "30"
      ]
     },
     "execution_count": 8,
     "metadata": {},
     "output_type": "execute_result"
    }
   ],
   "source": [
    "len(Company_name)"
   ]
  },
  {
   "cell_type": "code",
   "execution_count": 9,
   "id": "86016b39",
   "metadata": {},
   "outputs": [
    {
     "data": {
      "text/plain": [
       "['30d+',\n",
       " '1d',\n",
       " '15d',\n",
       " '1d',\n",
       " '1d',\n",
       " '30d+',\n",
       " '30d+',\n",
       " '20d',\n",
       " '8d',\n",
       " '30d+',\n",
       " '30d+',\n",
       " '3d',\n",
       " '30d+',\n",
       " '24h',\n",
       " '30d+',\n",
       " '3d',\n",
       " '6d',\n",
       " '30d+',\n",
       " '21d',\n",
       " '1d',\n",
       " '15d',\n",
       " '30d+',\n",
       " '30d',\n",
       " '30d+',\n",
       " '23d',\n",
       " '30d+',\n",
       " '30d+',\n",
       " '6d',\n",
       " '22d',\n",
       " '30d+']"
      ]
     },
     "execution_count": 9,
     "metadata": {},
     "output_type": "execute_result"
    }
   ],
   "source": [
    "days_ago=driver.find_elements_by_xpath(\"//div[@class='d-flex align-items-end pl-std css-17n8uzw']\")\n",
    "days_ago\n",
    "Days_ago = []\n",
    "for i in days_ago:\n",
    "        Days_ago.append(i.text)\n",
    "Days_ago"
   ]
  },
  {
   "cell_type": "code",
   "execution_count": 10,
   "id": "23a72046",
   "metadata": {},
   "outputs": [
    {
     "data": {
      "text/plain": [
       "30"
      ]
     },
     "execution_count": 10,
     "metadata": {},
     "output_type": "execute_result"
    }
   ],
   "source": [
    "len(Days_ago)"
   ]
  },
  {
   "cell_type": "code",
   "execution_count": 11,
   "id": "0cfbc3b2",
   "metadata": {},
   "outputs": [
    {
     "data": {
      "text/plain": [
       "['',\n",
       " '3.9',\n",
       " '',\n",
       " '3.5',\n",
       " '3.5',\n",
       " '',\n",
       " '',\n",
       " '3.9',\n",
       " '4.1',\n",
       " '3.3',\n",
       " '',\n",
       " '3.8',\n",
       " '3.8',\n",
       " '3.9',\n",
       " '',\n",
       " '3.6',\n",
       " '4.0',\n",
       " '4.2',\n",
       " '3.8',\n",
       " '3.6',\n",
       " '',\n",
       " '3.8',\n",
       " '3.7',\n",
       " '3.2',\n",
       " '5.0',\n",
       " '4.4',\n",
       " '2.4',\n",
       " '4.4',\n",
       " '',\n",
       " '3.0']"
      ]
     },
     "execution_count": 11,
     "metadata": {},
     "output_type": "execute_result"
    }
   ],
   "source": [
    "rating=driver.find_elements_by_xpath(\"//div[@class='d-flex flex-column job-search-key-1pzmdmc e1rrn5ka1']\")\n",
    "rating\n",
    "Rating = []    \n",
    "for i in rating:\n",
    "    try:\n",
    "        Rating.append(i.text)\n",
    "    except:\n",
    "        Rating.append('-')\n",
    "        \n",
    "Rating"
   ]
  },
  {
   "cell_type": "code",
   "execution_count": 12,
   "id": "45659e07",
   "metadata": {},
   "outputs": [
    {
     "name": "stdout",
     "output_type": "stream",
     "text": [
      "['-', '3.9', '-', '3.5', '3.5', '-', '-', '3.9', '4.1', '3.3', '-', '3.8', '3.8', '3.9', '-', '3.6', '4.0', '4.2', '3.8', '3.6', '-', '3.8', '3.7', '3.2', '5.0', '4.4', '2.4', '4.4', '-', '3.0']\n"
     ]
    }
   ],
   "source": [
    "for index, x in enumerate(Rating):\n",
    "    if x==\"\":\n",
    "        Rating[index]=\"-\"\n",
    "print(Rating)"
   ]
  },
  {
   "cell_type": "code",
   "execution_count": 13,
   "id": "5da48268",
   "metadata": {},
   "outputs": [
    {
     "data": {
      "text/plain": [
       "30"
      ]
     },
     "execution_count": 13,
     "metadata": {},
     "output_type": "execute_result"
    }
   ],
   "source": [
    "len(Rating)"
   ]
  },
  {
   "cell_type": "code",
   "execution_count": 14,
   "id": "8acc5c23",
   "metadata": {},
   "outputs": [
    {
     "data": {
      "text/html": [
       "<div>\n",
       "<style scoped>\n",
       "    .dataframe tbody tr th:only-of-type {\n",
       "        vertical-align: middle;\n",
       "    }\n",
       "\n",
       "    .dataframe tbody tr th {\n",
       "        vertical-align: top;\n",
       "    }\n",
       "\n",
       "    .dataframe thead th {\n",
       "        text-align: right;\n",
       "    }\n",
       "</style>\n",
       "<table border=\"1\" class=\"dataframe\">\n",
       "  <thead>\n",
       "    <tr style=\"text-align: right;\">\n",
       "      <th></th>\n",
       "      <th>Company_Name</th>\n",
       "      <th>Days_ago_the_job_was_posted</th>\n",
       "      <th>rating</th>\n",
       "    </tr>\n",
       "  </thead>\n",
       "  <tbody>\n",
       "    <tr>\n",
       "      <th>0</th>\n",
       "      <td>Liberin Technologies Private Limited</td>\n",
       "      <td>30d+</td>\n",
       "      <td>-</td>\n",
       "    </tr>\n",
       "    <tr>\n",
       "      <th>1</th>\n",
       "      <td>Noisy Lion</td>\n",
       "      <td>1d</td>\n",
       "      <td>3.9</td>\n",
       "    </tr>\n",
       "    <tr>\n",
       "      <th>2</th>\n",
       "      <td>AlgoScale Technologies Private Limited</td>\n",
       "      <td>15d</td>\n",
       "      <td>-</td>\n",
       "    </tr>\n",
       "    <tr>\n",
       "      <th>3</th>\n",
       "      <td>Grail Insights</td>\n",
       "      <td>1d</td>\n",
       "      <td>3.5</td>\n",
       "    </tr>\n",
       "    <tr>\n",
       "      <th>4</th>\n",
       "      <td>Grail Insights</td>\n",
       "      <td>1d</td>\n",
       "      <td>3.5</td>\n",
       "    </tr>\n",
       "    <tr>\n",
       "      <th>5</th>\n",
       "      <td>Techlive</td>\n",
       "      <td>30d+</td>\n",
       "      <td>-</td>\n",
       "    </tr>\n",
       "    <tr>\n",
       "      <th>6</th>\n",
       "      <td>Salasar New Age Technologies</td>\n",
       "      <td>30d+</td>\n",
       "      <td>-</td>\n",
       "    </tr>\n",
       "    <tr>\n",
       "      <th>7</th>\n",
       "      <td>IBM</td>\n",
       "      <td>20d</td>\n",
       "      <td>3.9</td>\n",
       "    </tr>\n",
       "    <tr>\n",
       "      <th>8</th>\n",
       "      <td>Ericsson</td>\n",
       "      <td>8d</td>\n",
       "      <td>4.1</td>\n",
       "    </tr>\n",
       "    <tr>\n",
       "      <th>9</th>\n",
       "      <td>Newgen Software</td>\n",
       "      <td>30d+</td>\n",
       "      <td>3.3</td>\n",
       "    </tr>\n",
       "  </tbody>\n",
       "</table>\n",
       "</div>"
      ],
      "text/plain": [
       "                             Company_Name Days_ago_the_job_was_posted rating\n",
       "0    Liberin Technologies Private Limited                        30d+      -\n",
       "1                              Noisy Lion                          1d    3.9\n",
       "2  AlgoScale Technologies Private Limited                         15d      -\n",
       "3                          Grail Insights                          1d    3.5\n",
       "4                          Grail Insights                          1d    3.5\n",
       "5                                Techlive                        30d+      -\n",
       "6            Salasar New Age Technologies                        30d+      -\n",
       "7                                     IBM                         20d    3.9\n",
       "8                                Ericsson                          8d    4.1\n",
       "9                         Newgen Software                        30d+    3.3"
      ]
     },
     "execution_count": 14,
     "metadata": {},
     "output_type": "execute_result"
    }
   ],
   "source": [
    "glassdoor=pd.DataFrame({})\n",
    "glassdoor[\"Company_Name\"]= Company_name[0:10]\n",
    "glassdoor[\"Days_ago_the_job_was_posted\"]= Days_ago[0:10]\n",
    "glassdoor[\"rating\"]=Rating[0:10]\n",
    "glassdoor"
   ]
  },
  {
   "cell_type": "markdown",
   "id": "640475cc",
   "metadata": {},
   "source": [
    "\n",
    "# Q5."
   ]
  },
  {
   "cell_type": "code",
   "execution_count": 15,
   "id": "09b5d5d2",
   "metadata": {},
   "outputs": [],
   "source": [
    "driver=webdriver.Chrome(\"chromedriver\")"
   ]
  },
  {
   "cell_type": "code",
   "execution_count": 16,
   "id": "8c0db90f",
   "metadata": {},
   "outputs": [],
   "source": [
    "url= \"https://www.glassdoor.co.in/Salaries/index.html\"\n",
    "driver.get(url)"
   ]
  },
  {
   "cell_type": "code",
   "execution_count": 17,
   "id": "4ce3bc31",
   "metadata": {},
   "outputs": [],
   "source": [
    "search_job=driver.find_element_by_id(\"KeywordSearch\")\n",
    "search_job\n",
    "search_job.send_keys(\"Data scientist\")\n",
    "search_location=driver.find_element_by_id(\"LocationSearch\")\n",
    "search_location\n",
    "search_location.send_keys(\"Noida(India)\")\n"
   ]
  },
  {
   "cell_type": "code",
   "execution_count": 18,
   "id": "5444a004",
   "metadata": {},
   "outputs": [],
   "source": [
    "Search_btn=driver.find_element_by_xpath(\"//button[@class='gd-btn-mkt']\")\n",
    "Search_btn\n",
    "Search_btn.click()"
   ]
  },
  {
   "cell_type": "code",
   "execution_count": 23,
   "id": "6d2858c9",
   "metadata": {},
   "outputs": [
    {
     "data": {
      "text/plain": [
       "['Tata Consultancy Services',\n",
       " 'IBM',\n",
       " 'Accenture',\n",
       " 'Delhivery',\n",
       " 'Ericsson-Worldwide',\n",
       " 'UnitedHealth Group',\n",
       " 'Optum',\n",
       " 'Optum Global Solutions',\n",
       " 'Valiance Solutions',\n",
       " 'EXL Service',\n",
       " 'Cognizant Technology Solutions',\n",
       " 'ZS Associates',\n",
       " 'Nagarro',\n",
       " 'Innovaccer',\n",
       " 'OYO',\n",
       " 'dunnhumby',\n",
       " 'Amazon',\n",
       " 'CARS24.com',\n",
       " 'Vidooly Media Tech',\n",
       " 'ParallelDots']"
      ]
     },
     "execution_count": 23,
     "metadata": {},
     "output_type": "execute_result"
    }
   ],
   "source": [
    "company_name=driver.find_elements_by_xpath(\"//a[@class='css-f3vw95 e1aj7ssy3']\")\n",
    "company_name\n",
    "\n",
    "Company_name=[]\n",
    "for i in company_name:\n",
    "    Company_name.append(i.text)\n",
    "Company_name"
   ]
  },
  {
   "cell_type": "code",
   "execution_count": 24,
   "id": "be305a76",
   "metadata": {},
   "outputs": [
    {
     "data": {
      "text/plain": [
       "20"
      ]
     },
     "execution_count": 24,
     "metadata": {},
     "output_type": "execute_result"
    }
   ],
   "source": [
    "len(Company_name)"
   ]
  },
  {
   "cell_type": "code",
   "execution_count": 25,
   "id": "0fd8993b",
   "metadata": {},
   "outputs": [
    {
     "data": {
      "text/plain": [
       "['21 salaries',\n",
       " '20 salaries',\n",
       " '15 salaries',\n",
       " '15 salaries',\n",
       " '14 salaries',\n",
       " '14 salaries',\n",
       " '10 salaries',\n",
       " '10 salaries',\n",
       " '10 salaries',\n",
       " '9 salaries',\n",
       " '8 salaries',\n",
       " '8 salaries',\n",
       " '8 salaries',\n",
       " '8 salaries',\n",
       " '7 salaries',\n",
       " '7 salaries',\n",
       " '6 salaries',\n",
       " '6 salaries',\n",
       " '6 salaries',\n",
       " '6 salaries']"
      ]
     },
     "execution_count": 25,
     "metadata": {},
     "output_type": "execute_result"
    }
   ],
   "source": [
    "no_of_salaries=driver.find_elements_by_xpath(\"//div[@class='col-12 col-lg-auto']//span[1]\")\n",
    "no_of_salaries\n",
    "\n",
    "No_of_salaries=[]\n",
    "for i in no_of_salaries:\n",
    "    No_of_salaries.append(i.text)\n",
    "No_of_salaries"
   ]
  },
  {
   "cell_type": "code",
   "execution_count": 21,
   "id": "bedd9ab5",
   "metadata": {},
   "outputs": [
    {
     "data": {
      "text/plain": [
       "20"
      ]
     },
     "execution_count": 21,
     "metadata": {},
     "output_type": "execute_result"
    }
   ],
   "source": [
    "len(No_of_salaries)"
   ]
  },
  {
   "cell_type": "code",
   "execution_count": 26,
   "id": "155a5910",
   "metadata": {},
   "outputs": [
    {
     "data": {
      "text/plain": [
       "['₹6,31,184',\n",
       " '₹9,08,246',\n",
       " '₹11,93,390',\n",
       " '₹12,49,716',\n",
       " '₹7,58,335',\n",
       " '₹12,80,000',\n",
       " '₹13,55,086',\n",
       " '₹14,55,430',\n",
       " '₹8,86,064',\n",
       " '₹11,10,000',\n",
       " '₹9,62,227',\n",
       " '₹11,71,868',\n",
       " '₹11,01,815',\n",
       " '₹12,40,275',\n",
       " '₹14,51,902',\n",
       " '₹11,30,374',\n",
       " '₹20,63,782',\n",
       " '₹10,80,727',\n",
       " '₹35,040',\n",
       " '₹8,48,220']"
      ]
     },
     "execution_count": 26,
     "metadata": {},
     "output_type": "execute_result"
    }
   ],
   "source": [
    "avg_salaries=driver.find_elements_by_xpath(\"//div[@class='col-12 col-lg-4 px-lg-0 d-flex align-items-baseline']//h3\")\n",
    "avg_salaries\n",
    "\n",
    "Avg_salaries=[]\n",
    "for i in avg_salaries:\n",
    "    Avg_salaries.append(i.text)\n",
    "Avg_salaries"
   ]
  },
  {
   "cell_type": "code",
   "execution_count": 29,
   "id": "969846a1",
   "metadata": {},
   "outputs": [
    {
     "data": {
      "text/plain": [
       "['Range: ₹4L - ₹13L',\n",
       " 'Range: ₹1L - ₹28L',\n",
       " 'Range: ₹6L - ₹23L',\n",
       " 'Range: ₹5L - ₹1Cr',\n",
       " 'Range: ₹4L - ₹17L',\n",
       " 'Range: ₹8L - ₹16L',\n",
       " 'Range: ₹8L - ₹20L',\n",
       " 'Range: ₹10L - ₹18L',\n",
       " 'Range: ₹5L - ₹15L',\n",
       " 'Range: ₹6L - ₹16L',\n",
       " 'Range: ₹4L - ₹13L',\n",
       " 'Range: ₹2L - ₹19L',\n",
       " 'Range: ₹4L - ₹21L',\n",
       " 'Range: ₹6L - ₹17L',\n",
       " 'Range: ₹10L - ₹21L',\n",
       " 'Range: ₹8L - ₹21L',\n",
       " 'Range: ₹10L - ₹30L',\n",
       " 'Range: ₹9L - ₹15L',\n",
       " 'Range: ₹12T - ₹64T',\n",
       " 'Range: ₹5L - ₹73L']"
      ]
     },
     "execution_count": 29,
     "metadata": {},
     "output_type": "execute_result"
    }
   ],
   "source": [
    "range_salaries=driver.find_elements_by_xpath(\"//span[@class='d-block d-lg-none m-0 css-1b6bxoo']\")\n",
    "range_salaries\n",
    "\n",
    "Range_salaries=[]\n",
    "for i in range_salaries:\n",
    "    Range_salaries.append(i.text)\n",
    "Range_salaries"
   ]
  },
  {
   "cell_type": "code",
   "execution_count": 30,
   "id": "ced7adc1",
   "metadata": {},
   "outputs": [
    {
     "name": "stdout",
     "output_type": "stream",
     "text": [
      "['₹4L', '₹1L', '₹6L', '₹5L', '₹4L', '₹8L', '₹8L', '₹10L', '₹5L', '₹6L', '₹4L', '₹2L', '₹4L', '₹6L', '₹10L', '₹8L', '₹10L', '₹9L', '₹12T', '₹5L']\n",
      "['₹13L', '₹28L', '₹23L', '₹1Cr', '₹17L', '₹16L', '₹20L', '₹18L', '₹15L', '₹16L', '₹13L', '₹19L', '₹21L', '₹17L', '₹21L', '₹21L', '₹30L', '₹15L', '₹64T', '₹73L']\n"
     ]
    }
   ],
   "source": [
    "min_salaries=[]\n",
    "max_salaries=[]\n",
    "for x in Range_salaries:\n",
    "    temp=x.replace('Range: ','').strip()\n",
    "    salaries=[]\n",
    "    salaries=temp.split('-')\n",
    "    min_salaries.append(salaries[0].strip())\n",
    "    max_salaries.append(salaries[1].strip())\n",
    "print(min_salaries)\n",
    "print(max_salaries)"
   ]
  },
  {
   "cell_type": "code",
   "execution_count": 31,
   "id": "e266d8a7",
   "metadata": {},
   "outputs": [
    {
     "data": {
      "text/plain": [
       "20"
      ]
     },
     "execution_count": 31,
     "metadata": {},
     "output_type": "execute_result"
    }
   ],
   "source": [
    "len(max_salaries)"
   ]
  },
  {
   "cell_type": "code",
   "execution_count": 32,
   "id": "8cbbbaeb",
   "metadata": {},
   "outputs": [
    {
     "data": {
      "text/plain": [
       "20"
      ]
     },
     "execution_count": 32,
     "metadata": {},
     "output_type": "execute_result"
    }
   ],
   "source": [
    "len(min_salaries)"
   ]
  },
  {
   "cell_type": "code",
   "execution_count": 33,
   "id": "021ace6d",
   "metadata": {},
   "outputs": [
    {
     "data": {
      "text/html": [
       "<div>\n",
       "<style scoped>\n",
       "    .dataframe tbody tr th:only-of-type {\n",
       "        vertical-align: middle;\n",
       "    }\n",
       "\n",
       "    .dataframe tbody tr th {\n",
       "        vertical-align: top;\n",
       "    }\n",
       "\n",
       "    .dataframe thead th {\n",
       "        text-align: right;\n",
       "    }\n",
       "</style>\n",
       "<table border=\"1\" class=\"dataframe\">\n",
       "  <thead>\n",
       "    <tr style=\"text-align: right;\">\n",
       "      <th></th>\n",
       "      <th>company_name</th>\n",
       "      <th>no_of_salaries</th>\n",
       "      <th>Avg salary</th>\n",
       "      <th>Min salary</th>\n",
       "      <th>Max salary</th>\n",
       "    </tr>\n",
       "  </thead>\n",
       "  <tbody>\n",
       "    <tr>\n",
       "      <th>0</th>\n",
       "      <td>Tata Consultancy Services</td>\n",
       "      <td>21 salaries</td>\n",
       "      <td>₹6,31,184</td>\n",
       "      <td>₹4L</td>\n",
       "      <td>₹13L</td>\n",
       "    </tr>\n",
       "    <tr>\n",
       "      <th>1</th>\n",
       "      <td>IBM</td>\n",
       "      <td>20 salaries</td>\n",
       "      <td>₹9,08,246</td>\n",
       "      <td>₹1L</td>\n",
       "      <td>₹28L</td>\n",
       "    </tr>\n",
       "    <tr>\n",
       "      <th>2</th>\n",
       "      <td>Accenture</td>\n",
       "      <td>15 salaries</td>\n",
       "      <td>₹11,93,390</td>\n",
       "      <td>₹6L</td>\n",
       "      <td>₹23L</td>\n",
       "    </tr>\n",
       "    <tr>\n",
       "      <th>3</th>\n",
       "      <td>Delhivery</td>\n",
       "      <td>15 salaries</td>\n",
       "      <td>₹12,49,716</td>\n",
       "      <td>₹5L</td>\n",
       "      <td>₹1Cr</td>\n",
       "    </tr>\n",
       "    <tr>\n",
       "      <th>4</th>\n",
       "      <td>Ericsson-Worldwide</td>\n",
       "      <td>14 salaries</td>\n",
       "      <td>₹7,58,335</td>\n",
       "      <td>₹4L</td>\n",
       "      <td>₹17L</td>\n",
       "    </tr>\n",
       "    <tr>\n",
       "      <th>5</th>\n",
       "      <td>UnitedHealth Group</td>\n",
       "      <td>14 salaries</td>\n",
       "      <td>₹12,80,000</td>\n",
       "      <td>₹8L</td>\n",
       "      <td>₹16L</td>\n",
       "    </tr>\n",
       "    <tr>\n",
       "      <th>6</th>\n",
       "      <td>Optum</td>\n",
       "      <td>10 salaries</td>\n",
       "      <td>₹13,55,086</td>\n",
       "      <td>₹8L</td>\n",
       "      <td>₹20L</td>\n",
       "    </tr>\n",
       "    <tr>\n",
       "      <th>7</th>\n",
       "      <td>Optum Global Solutions</td>\n",
       "      <td>10 salaries</td>\n",
       "      <td>₹14,55,430</td>\n",
       "      <td>₹10L</td>\n",
       "      <td>₹18L</td>\n",
       "    </tr>\n",
       "    <tr>\n",
       "      <th>8</th>\n",
       "      <td>Valiance Solutions</td>\n",
       "      <td>10 salaries</td>\n",
       "      <td>₹8,86,064</td>\n",
       "      <td>₹5L</td>\n",
       "      <td>₹15L</td>\n",
       "    </tr>\n",
       "    <tr>\n",
       "      <th>9</th>\n",
       "      <td>EXL Service</td>\n",
       "      <td>9 salaries</td>\n",
       "      <td>₹11,10,000</td>\n",
       "      <td>₹6L</td>\n",
       "      <td>₹16L</td>\n",
       "    </tr>\n",
       "  </tbody>\n",
       "</table>\n",
       "</div>"
      ],
      "text/plain": [
       "                company_name no_of_salaries  Avg salary Min salary Max salary\n",
       "0  Tata Consultancy Services    21 salaries   ₹6,31,184        ₹4L       ₹13L\n",
       "1                        IBM    20 salaries   ₹9,08,246        ₹1L       ₹28L\n",
       "2                  Accenture    15 salaries  ₹11,93,390        ₹6L       ₹23L\n",
       "3                  Delhivery    15 salaries  ₹12,49,716        ₹5L       ₹1Cr\n",
       "4         Ericsson-Worldwide    14 salaries   ₹7,58,335        ₹4L       ₹17L\n",
       "5         UnitedHealth Group    14 salaries  ₹12,80,000        ₹8L       ₹16L\n",
       "6                      Optum    10 salaries  ₹13,55,086        ₹8L       ₹20L\n",
       "7     Optum Global Solutions    10 salaries  ₹14,55,430       ₹10L       ₹18L\n",
       "8         Valiance Solutions    10 salaries   ₹8,86,064        ₹5L       ₹15L\n",
       "9                EXL Service     9 salaries  ₹11,10,000        ₹6L       ₹16L"
      ]
     },
     "execution_count": 33,
     "metadata": {},
     "output_type": "execute_result"
    }
   ],
   "source": [
    "glassdoor_salaries=pd.DataFrame({})\n",
    "glassdoor_salaries[\"company_name\"]=Company_name[0:10]\n",
    "glassdoor_salaries[\"no_of_salaries\"]=No_of_salaries[0:10]\n",
    "glassdoor_salaries[\"Avg salary\"]=Avg_salaries[0:10]\n",
    "glassdoor_salaries[\"Min salary\"]=min_salaries[0:10]\n",
    "glassdoor_salaries[\"Max salary\"]=max_salaries[0:10]\n",
    "glassdoor_salaries"
   ]
  },
  {
   "cell_type": "markdown",
   "id": "36c33a1d",
   "metadata": {},
   "source": [
    "# Q6."
   ]
  },
  {
   "cell_type": "code",
   "execution_count": 34,
   "id": "c9f13f13",
   "metadata": {},
   "outputs": [
    {
     "data": {
      "text/plain": [
       "<selenium.webdriver.chrome.webdriver.WebDriver (session=\"5cb4426f5795036bfe71860eda623ada\")>"
      ]
     },
     "execution_count": 34,
     "metadata": {},
     "output_type": "execute_result"
    }
   ],
   "source": [
    "driver=webdriver.Chrome(\"chromedriver\")\n",
    "driver"
   ]
  },
  {
   "cell_type": "code",
   "execution_count": 73,
   "id": "d8b7f06b",
   "metadata": {},
   "outputs": [],
   "source": [
    "url=\" https://www.flipkart.com/\"\n",
    "driver.get(url)\n",
    "driver.maximize_window()"
   ]
  },
  {
   "cell_type": "code",
   "execution_count": 74,
   "id": "dc8644c4",
   "metadata": {},
   "outputs": [],
   "source": [
    "search_bar=driver.find_element_by_xpath(\"//input[@class='_3704LK']\")\n",
    "search_bar\n",
    "search_bar.send_keys(\"sunglasses\")\n"
   ]
  },
  {
   "cell_type": "code",
   "execution_count": 75,
   "id": "31d9441f",
   "metadata": {},
   "outputs": [],
   "source": [
    "search_btn=driver.find_element_by_xpath(\"//button[@class='L0Z3Pu']\")\n",
    "search_btn\n",
    "search_btn.click()"
   ]
  },
  {
   "cell_type": "code",
   "execution_count": 80,
   "id": "61f24a2b",
   "metadata": {},
   "outputs": [],
   "source": [
    "Brand=[]\n",
    "for i in range(0,3):\n",
    "    try:\n",
    "        brand=driver.find_elements_by_xpath(\"//div[@class='_2WkVRV']\")\n",
    "        for i in brand:\n",
    "            Brand.append(i.text)\n",
    "    except:\n",
    "        Brand.append(\"-\")\n",
    "next_button=driver.find_element_by_xpath(\"//a[@class='_1LKTO3']//span\")\n",
    "if next_button.text==\"NEXT\":\n",
    "    next_button.click() \n"
   ]
  },
  {
   "cell_type": "code",
   "execution_count": 81,
   "id": "3691fab3",
   "metadata": {},
   "outputs": [
    {
     "data": {
      "text/plain": [
       "['PIRASO',\n",
       " 'PIRASO',\n",
       " 'SHAAH COLLECTIONS',\n",
       " 'Elligator',\n",
       " 'PIRASO',\n",
       " 'kingsunglasses',\n",
       " 'Fastrack',\n",
       " 'AISLIN',\n",
       " 'ROZZETTA CRAFT',\n",
       " 'ROYAL SON',\n",
       " 'NuVew',\n",
       " 'NuVew',\n",
       " 'SUNBEE',\n",
       " 'DEIXELS',\n",
       " 'PHENOMENAL',\n",
       " 'NuVew',\n",
       " 'Rich Club',\n",
       " 'HIPPON',\n",
       " 'GANSTA',\n",
       " 'PIRASO',\n",
       " 'OCCARIO',\n",
       " 'Silver Kartz',\n",
       " 'Singco India',\n",
       " 'AISLIN',\n",
       " 'hipe',\n",
       " 'Singco',\n",
       " 'povty',\n",
       " 'AISLIN',\n",
       " 'SRPM',\n",
       " 'Cruze',\n",
       " 'Fravy',\n",
       " 'AISLIN',\n",
       " 'AISLIN',\n",
       " 'IRUS by IDEE',\n",
       " 'Badfella',\n",
       " 'AISLIN',\n",
       " 'agera',\n",
       " 'elegante',\n",
       " 'Fastrack',\n",
       " 'AISLIN',\n",
       " 'PIRASO',\n",
       " 'PIRASO',\n",
       " 'SHAAH COLLECTIONS',\n",
       " 'Elligator',\n",
       " 'PIRASO',\n",
       " 'kingsunglasses',\n",
       " 'Fastrack',\n",
       " 'AISLIN',\n",
       " 'ROZZETTA CRAFT',\n",
       " 'ROYAL SON',\n",
       " 'NuVew',\n",
       " 'NuVew',\n",
       " 'SUNBEE',\n",
       " 'DEIXELS',\n",
       " 'PHENOMENAL',\n",
       " 'NuVew',\n",
       " 'Rich Club',\n",
       " 'HIPPON',\n",
       " 'GANSTA',\n",
       " 'PIRASO',\n",
       " 'OCCARIO',\n",
       " 'Silver Kartz',\n",
       " 'Singco India',\n",
       " 'AISLIN',\n",
       " 'hipe',\n",
       " 'Singco',\n",
       " 'povty',\n",
       " 'AISLIN',\n",
       " 'SRPM',\n",
       " 'Cruze',\n",
       " 'Fravy',\n",
       " 'AISLIN',\n",
       " 'AISLIN',\n",
       " 'IRUS by IDEE',\n",
       " 'Badfella',\n",
       " 'AISLIN',\n",
       " 'agera',\n",
       " 'elegante',\n",
       " 'Fastrack',\n",
       " 'AISLIN',\n",
       " 'PIRASO',\n",
       " 'PIRASO',\n",
       " 'SHAAH COLLECTIONS',\n",
       " 'Elligator',\n",
       " 'PIRASO',\n",
       " 'kingsunglasses',\n",
       " 'Fastrack',\n",
       " 'AISLIN',\n",
       " 'ROZZETTA CRAFT',\n",
       " 'ROYAL SON',\n",
       " 'NuVew',\n",
       " 'NuVew',\n",
       " 'SUNBEE',\n",
       " 'DEIXELS',\n",
       " 'PHENOMENAL',\n",
       " 'NuVew',\n",
       " 'Rich Club',\n",
       " 'HIPPON',\n",
       " 'GANSTA',\n",
       " 'PIRASO',\n",
       " 'OCCARIO',\n",
       " 'Silver Kartz',\n",
       " 'Singco India',\n",
       " 'AISLIN',\n",
       " 'hipe',\n",
       " 'Singco',\n",
       " 'povty',\n",
       " 'AISLIN',\n",
       " 'SRPM',\n",
       " 'Cruze',\n",
       " 'Fravy',\n",
       " 'AISLIN',\n",
       " 'AISLIN',\n",
       " 'IRUS by IDEE',\n",
       " 'Badfella',\n",
       " 'AISLIN',\n",
       " 'agera',\n",
       " 'elegante',\n",
       " 'Fastrack',\n",
       " 'AISLIN']"
      ]
     },
     "execution_count": 81,
     "metadata": {},
     "output_type": "execute_result"
    }
   ],
   "source": [
    "Brand"
   ]
  },
  {
   "cell_type": "code",
   "execution_count": 82,
   "id": "d341e8b5",
   "metadata": {},
   "outputs": [
    {
     "data": {
      "text/plain": [
       "120"
      ]
     },
     "execution_count": 82,
     "metadata": {},
     "output_type": "execute_result"
    }
   ],
   "source": [
    "len(Brand)"
   ]
  },
  {
   "cell_type": "code",
   "execution_count": 83,
   "id": "85c555f3",
   "metadata": {},
   "outputs": [],
   "source": [
    "Price=[]\n",
    "for i in range(0,3):\n",
    "    try:\n",
    "        price=driver.find_elements_by_xpath(\"//div[@class='_30jeq3']\")\n",
    "        for i in price:\n",
    "            Price.append(i.text)\n",
    "    except:\n",
    "        Price.append(\"-\")\n",
    "next_button=driver.find_element_by_xpath(\"//a[@class='_1LKTO3']//span\")\n",
    "if next_button.text==\"NEXT\":\n",
    "    next_button.click() \n"
   ]
  },
  {
   "cell_type": "code",
   "execution_count": 47,
   "id": "49c70861",
   "metadata": {},
   "outputs": [
    {
     "data": {
      "text/plain": [
       "['₹213',\n",
       " '₹331',\n",
       " '₹237',\n",
       " '₹398',\n",
       " '₹449',\n",
       " '₹474',\n",
       " '₹202',\n",
       " '₹1,087',\n",
       " '₹355',\n",
       " '₹284',\n",
       " '₹284',\n",
       " '₹525',\n",
       " '₹399',\n",
       " '₹236',\n",
       " '₹210',\n",
       " '₹845',\n",
       " '₹293',\n",
       " '₹299',\n",
       " '₹284',\n",
       " '₹1,025',\n",
       " '₹625',\n",
       " '₹520',\n",
       " '₹215',\n",
       " '₹1,145',\n",
       " '₹284',\n",
       " '₹499',\n",
       " '₹237',\n",
       " '₹495',\n",
       " '₹379',\n",
       " '₹443',\n",
       " '₹295',\n",
       " '₹404',\n",
       " '₹289',\n",
       " '₹210',\n",
       " '₹314',\n",
       " '₹975',\n",
       " '₹225',\n",
       " '₹186',\n",
       " '₹598',\n",
       " '₹625',\n",
       " '₹213',\n",
       " '₹331',\n",
       " '₹237',\n",
       " '₹398',\n",
       " '₹449',\n",
       " '₹474',\n",
       " '₹202',\n",
       " '₹1,087',\n",
       " '₹355',\n",
       " '₹284',\n",
       " '₹284',\n",
       " '₹525',\n",
       " '₹399',\n",
       " '₹236',\n",
       " '₹210',\n",
       " '₹845',\n",
       " '₹293',\n",
       " '₹299',\n",
       " '₹284',\n",
       " '₹1,025',\n",
       " '₹625',\n",
       " '₹520',\n",
       " '₹215',\n",
       " '₹1,145',\n",
       " '₹284',\n",
       " '₹499',\n",
       " '₹237',\n",
       " '₹495',\n",
       " '₹379',\n",
       " '₹443',\n",
       " '₹295',\n",
       " '₹404',\n",
       " '₹289',\n",
       " '₹210',\n",
       " '₹314',\n",
       " '₹975',\n",
       " '₹225',\n",
       " '₹186',\n",
       " '₹598',\n",
       " '₹625',\n",
       " '₹213',\n",
       " '₹331',\n",
       " '₹237',\n",
       " '₹398',\n",
       " '₹449',\n",
       " '₹474',\n",
       " '₹202',\n",
       " '₹1,087',\n",
       " '₹355',\n",
       " '₹284',\n",
       " '₹284',\n",
       " '₹525',\n",
       " '₹399',\n",
       " '₹236',\n",
       " '₹210',\n",
       " '₹845',\n",
       " '₹293',\n",
       " '₹299',\n",
       " '₹284',\n",
       " '₹1,025',\n",
       " '₹625',\n",
       " '₹520',\n",
       " '₹215',\n",
       " '₹1,145',\n",
       " '₹284',\n",
       " '₹499',\n",
       " '₹237',\n",
       " '₹495',\n",
       " '₹379',\n",
       " '₹443',\n",
       " '₹295',\n",
       " '₹404',\n",
       " '₹289',\n",
       " '₹210',\n",
       " '₹314',\n",
       " '₹975',\n",
       " '₹225',\n",
       " '₹186',\n",
       " '₹598',\n",
       " '₹625']"
      ]
     },
     "execution_count": 47,
     "metadata": {},
     "output_type": "execute_result"
    }
   ],
   "source": [
    "Price"
   ]
  },
  {
   "cell_type": "code",
   "execution_count": 84,
   "id": "f00e2321",
   "metadata": {},
   "outputs": [
    {
     "data": {
      "text/plain": [
       "120"
      ]
     },
     "execution_count": 84,
     "metadata": {},
     "output_type": "execute_result"
    }
   ],
   "source": [
    "len(Price)"
   ]
  },
  {
   "cell_type": "code",
   "execution_count": 85,
   "id": "e2b4e608",
   "metadata": {},
   "outputs": [],
   "source": [
    "Discount=[]\n",
    "for i in range(0,3):\n",
    "    try:\n",
    "        discount=driver.find_elements_by_xpath(\"//div[@class='_3Ay6Sb']\")\n",
    "        for i in discount:\n",
    "            Discount.append(i.text)\n",
    "    except:\n",
    "        Discount.append(\"-\")\n",
    "next_button=driver.find_element_by_xpath(\"//a[@class='_1LKTO3']//span\")\n",
    "if next_button.text==\"NEXT\":\n",
    "    next_button.click() \n"
   ]
  },
  {
   "cell_type": "code",
   "execution_count": 86,
   "id": "0eef5a35",
   "metadata": {},
   "outputs": [
    {
     "data": {
      "text/plain": [
       "['80% off',\n",
       " '78% off',\n",
       " '85% off',\n",
       " '85% off',\n",
       " '79% off',\n",
       " '68% off',\n",
       " '74% off',\n",
       " '40% off',\n",
       " '85% off',\n",
       " '85% off',\n",
       " '71% off',\n",
       " '85% off',\n",
       " '80% off',\n",
       " '60% off',\n",
       " '78% off',\n",
       " '54% off',\n",
       " '82% off',\n",
       " '62% off',\n",
       " '76% off',\n",
       " '79% off',\n",
       " '72% off',\n",
       " '34% off',\n",
       " '80% off',\n",
       " '64% off',\n",
       " '89% off',\n",
       " '77% off',\n",
       " '85% off',\n",
       " '79% off',\n",
       " '74% off',\n",
       " '70% off',\n",
       " '87% off',\n",
       " '79% off',\n",
       " '83% off',\n",
       " '75% off',\n",
       " '85% off',\n",
       " '68% off',\n",
       " '67% off',\n",
       " '72% off',\n",
       " '70% off',\n",
       " '70% off',\n",
       " '80% off',\n",
       " '78% off',\n",
       " '85% off',\n",
       " '85% off',\n",
       " '79% off',\n",
       " '68% off',\n",
       " '74% off',\n",
       " '40% off',\n",
       " '85% off',\n",
       " '85% off',\n",
       " '71% off',\n",
       " '85% off',\n",
       " '80% off',\n",
       " '60% off',\n",
       " '78% off',\n",
       " '54% off',\n",
       " '82% off',\n",
       " '62% off',\n",
       " '76% off',\n",
       " '79% off',\n",
       " '72% off',\n",
       " '34% off',\n",
       " '80% off',\n",
       " '64% off',\n",
       " '89% off',\n",
       " '77% off',\n",
       " '85% off',\n",
       " '79% off',\n",
       " '74% off',\n",
       " '70% off',\n",
       " '87% off',\n",
       " '79% off',\n",
       " '83% off',\n",
       " '75% off',\n",
       " '85% off',\n",
       " '68% off',\n",
       " '67% off',\n",
       " '72% off',\n",
       " '70% off',\n",
       " '70% off',\n",
       " '80% off',\n",
       " '78% off',\n",
       " '85% off',\n",
       " '85% off',\n",
       " '79% off',\n",
       " '68% off',\n",
       " '74% off',\n",
       " '40% off',\n",
       " '85% off',\n",
       " '85% off',\n",
       " '71% off',\n",
       " '85% off',\n",
       " '80% off',\n",
       " '60% off',\n",
       " '78% off',\n",
       " '54% off',\n",
       " '82% off',\n",
       " '62% off',\n",
       " '76% off',\n",
       " '79% off',\n",
       " '72% off',\n",
       " '34% off',\n",
       " '80% off',\n",
       " '64% off',\n",
       " '89% off',\n",
       " '77% off',\n",
       " '85% off',\n",
       " '79% off',\n",
       " '74% off',\n",
       " '70% off',\n",
       " '87% off',\n",
       " '79% off',\n",
       " '83% off',\n",
       " '75% off',\n",
       " '85% off',\n",
       " '68% off',\n",
       " '67% off',\n",
       " '72% off',\n",
       " '70% off',\n",
       " '70% off']"
      ]
     },
     "execution_count": 86,
     "metadata": {},
     "output_type": "execute_result"
    }
   ],
   "source": [
    "Discount\n"
   ]
  },
  {
   "cell_type": "code",
   "execution_count": 87,
   "id": "f4dfe9f1",
   "metadata": {},
   "outputs": [
    {
     "data": {
      "text/plain": [
       "120"
      ]
     },
     "execution_count": 87,
     "metadata": {},
     "output_type": "execute_result"
    }
   ],
   "source": [
    "len(Discount)"
   ]
  },
  {
   "cell_type": "code",
   "execution_count": 88,
   "id": "e1767cf0",
   "metadata": {},
   "outputs": [],
   "source": [
    "Product_des=[]\n",
    "for i in range(0,3):\n",
    "    try:\n",
    "        product_des=driver.find_elements_by_xpath(\"//a[@class='IRpwTa']\")\n",
    "        for i in product_des:\n",
    "            Product_des.append(i.text)\n",
    "    except:\n",
    "        Product_des.append(\"-\")\n",
    "next_button=driver.find_element_by_xpath(\"//a[@class='_1LKTO3']//span\")\n",
    "if next_button.text==\"NEXT\":\n",
    "    next_button.click() \n"
   ]
  },
  {
   "cell_type": "code",
   "execution_count": 89,
   "id": "ff9877ee",
   "metadata": {},
   "outputs": [
    {
     "data": {
      "text/plain": [
       "['UV Protection Round Sunglasses (54)',\n",
       " 'UV Protection, Polarized, Mirrored Rectangular Sunglass...',\n",
       " 'UV Protection Aviator Sunglasses (54)',\n",
       " 'UV Protection Wayfarer Sunglasses (32)',\n",
       " 'UV Protection, Riding Glasses Rectangular Sunglasses (F...',\n",
       " 'UV Protection Retro Square Sunglasses (58)',\n",
       " 'UV Protection Aviator Sunglasses (58)',\n",
       " 'Others Wayfarer Sunglasses (Free Size)',\n",
       " 'UV Protection Aviator Sunglasses (57)',\n",
       " 'Mirrored Round Sunglasses (53)',\n",
       " 'UV Protection, Polarized, Mirrored Wayfarer Sunglasses ...',\n",
       " 'UV Protection Aviator Sunglasses (54)',\n",
       " 'UV Protection, Mirrored Retro Square Sunglasses (53)',\n",
       " 'Polarized, UV Protection, Riding Glasses Wayfarer Sungl...',\n",
       " 'UV Protection, Night Vision, Gradient, Mirrored Round, ...',\n",
       " 'UV Protection Aviator Sunglasses (60)',\n",
       " 'Riding Glasses, Others, UV Protection Wrap-around Sungl...',\n",
       " 'UV Protection, Others Round Sunglasses (48)',\n",
       " 'UV Protection Oval Sunglasses (56)',\n",
       " 'UV Protection Aviator Sunglasses (50)',\n",
       " 'UV Protection, Gradient Butterfly, Over-sized Sunglasse...',\n",
       " 'UV Protection Aviator Sunglasses (Free Size)',\n",
       " 'UV Protection Round Sunglasses (Free Size)',\n",
       " 'Polarized, UV Protection Aviator Sunglasses (58)',\n",
       " 'Mirrored, UV Protection Wayfarer Sunglasses (Free Size)',\n",
       " 'UV Protection Retro Square Sunglasses (Free Size)',\n",
       " 'UV Protection Aviator Sunglasses (54)',\n",
       " 'UV Protection, Gradient Retro Square Sunglasses (Free S...',\n",
       " 'Mirrored Aviator Sunglasses (55)',\n",
       " 'UV Protection, Riding Glasses Rectangular, Retro Square...',\n",
       " 'UV Protection Round Sunglasses (53)',\n",
       " 'UV Protection Aviator Sunglasses (50)',\n",
       " 'UV Protection, Night Vision, Riding Glasses, Gradient, ...',\n",
       " 'UV Protection, Polarized, Mirrored Wayfarer Sunglasses ...',\n",
       " 'UV Protection, Gradient Aviator Sunglasses (55)',\n",
       " 'UV Protection Aviator Sunglasses (Free Size)',\n",
       " 'UV Protection, Riding Glasses, Others Aviator, Wayfarer...',\n",
       " 'UV Protection Wayfarer Sunglasses (56)',\n",
       " 'UV Protection, Gradient Wayfarer, Over-sized Sunglasses...',\n",
       " 'UV Protection, Gradient Round, Cat-eye Sunglasses (60)',\n",
       " 'UV Protection Round Sunglasses (54)',\n",
       " 'UV Protection, Polarized, Mirrored Rectangular Sunglass...',\n",
       " 'UV Protection Aviator Sunglasses (54)',\n",
       " 'UV Protection Wayfarer Sunglasses (32)',\n",
       " 'UV Protection, Riding Glasses Rectangular Sunglasses (F...',\n",
       " 'UV Protection Retro Square Sunglasses (58)',\n",
       " 'UV Protection Aviator Sunglasses (58)',\n",
       " 'Others Wayfarer Sunglasses (Free Size)',\n",
       " 'UV Protection Aviator Sunglasses (57)',\n",
       " 'Mirrored Round Sunglasses (53)',\n",
       " 'UV Protection, Polarized, Mirrored Wayfarer Sunglasses ...',\n",
       " 'UV Protection Aviator Sunglasses (54)',\n",
       " 'UV Protection, Mirrored Retro Square Sunglasses (53)',\n",
       " 'Polarized, UV Protection, Riding Glasses Wayfarer Sungl...',\n",
       " 'UV Protection, Night Vision, Gradient, Mirrored Round, ...',\n",
       " 'UV Protection Aviator Sunglasses (60)',\n",
       " 'Riding Glasses, Others, UV Protection Wrap-around Sungl...',\n",
       " 'UV Protection, Others Round Sunglasses (48)',\n",
       " 'UV Protection Oval Sunglasses (56)',\n",
       " 'UV Protection Aviator Sunglasses (50)',\n",
       " 'UV Protection, Gradient Butterfly, Over-sized Sunglasse...',\n",
       " 'UV Protection Aviator Sunglasses (Free Size)',\n",
       " 'UV Protection Round Sunglasses (Free Size)',\n",
       " 'Polarized, UV Protection Aviator Sunglasses (58)',\n",
       " 'Mirrored, UV Protection Wayfarer Sunglasses (Free Size)',\n",
       " 'UV Protection Retro Square Sunglasses (Free Size)',\n",
       " 'UV Protection Aviator Sunglasses (54)',\n",
       " 'UV Protection, Gradient Retro Square Sunglasses (Free S...',\n",
       " 'Mirrored Aviator Sunglasses (55)',\n",
       " 'UV Protection, Riding Glasses Rectangular, Retro Square...',\n",
       " 'UV Protection Round Sunglasses (53)',\n",
       " 'UV Protection Aviator Sunglasses (50)',\n",
       " 'UV Protection, Night Vision, Riding Glasses, Gradient, ...',\n",
       " 'UV Protection, Polarized, Mirrored Wayfarer Sunglasses ...',\n",
       " 'UV Protection, Gradient Aviator Sunglasses (55)',\n",
       " 'UV Protection Aviator Sunglasses (Free Size)',\n",
       " 'UV Protection, Riding Glasses, Others Aviator, Wayfarer...',\n",
       " 'UV Protection Wayfarer Sunglasses (56)',\n",
       " 'UV Protection, Gradient Wayfarer, Over-sized Sunglasses...',\n",
       " 'UV Protection, Gradient Round, Cat-eye Sunglasses (60)',\n",
       " 'UV Protection Round Sunglasses (54)',\n",
       " 'UV Protection, Polarized, Mirrored Rectangular Sunglass...',\n",
       " 'UV Protection Aviator Sunglasses (54)',\n",
       " 'UV Protection Wayfarer Sunglasses (32)',\n",
       " 'UV Protection, Riding Glasses Rectangular Sunglasses (F...',\n",
       " 'UV Protection Retro Square Sunglasses (58)',\n",
       " 'UV Protection Aviator Sunglasses (58)',\n",
       " 'Others Wayfarer Sunglasses (Free Size)',\n",
       " 'UV Protection Aviator Sunglasses (57)',\n",
       " 'Mirrored Round Sunglasses (53)',\n",
       " 'UV Protection, Polarized, Mirrored Wayfarer Sunglasses ...',\n",
       " 'UV Protection Aviator Sunglasses (54)',\n",
       " 'UV Protection, Mirrored Retro Square Sunglasses (53)',\n",
       " 'Polarized, UV Protection, Riding Glasses Wayfarer Sungl...',\n",
       " 'UV Protection, Night Vision, Gradient, Mirrored Round, ...',\n",
       " 'UV Protection Aviator Sunglasses (60)',\n",
       " 'Riding Glasses, Others, UV Protection Wrap-around Sungl...',\n",
       " 'UV Protection, Others Round Sunglasses (48)',\n",
       " 'UV Protection Oval Sunglasses (56)',\n",
       " 'UV Protection Aviator Sunglasses (50)',\n",
       " 'UV Protection, Gradient Butterfly, Over-sized Sunglasse...',\n",
       " 'UV Protection Aviator Sunglasses (Free Size)',\n",
       " 'UV Protection Round Sunglasses (Free Size)',\n",
       " 'Polarized, UV Protection Aviator Sunglasses (58)',\n",
       " 'Mirrored, UV Protection Wayfarer Sunglasses (Free Size)',\n",
       " 'UV Protection Retro Square Sunglasses (Free Size)',\n",
       " 'UV Protection Aviator Sunglasses (54)',\n",
       " 'UV Protection, Gradient Retro Square Sunglasses (Free S...',\n",
       " 'Mirrored Aviator Sunglasses (55)',\n",
       " 'UV Protection, Riding Glasses Rectangular, Retro Square...',\n",
       " 'UV Protection Round Sunglasses (53)',\n",
       " 'UV Protection Aviator Sunglasses (50)',\n",
       " 'UV Protection, Night Vision, Riding Glasses, Gradient, ...',\n",
       " 'UV Protection, Polarized, Mirrored Wayfarer Sunglasses ...',\n",
       " 'UV Protection, Gradient Aviator Sunglasses (55)',\n",
       " 'UV Protection Aviator Sunglasses (Free Size)',\n",
       " 'UV Protection, Riding Glasses, Others Aviator, Wayfarer...',\n",
       " 'UV Protection Wayfarer Sunglasses (56)',\n",
       " 'UV Protection, Gradient Wayfarer, Over-sized Sunglasses...',\n",
       " 'UV Protection, Gradient Round, Cat-eye Sunglasses (60)']"
      ]
     },
     "execution_count": 89,
     "metadata": {},
     "output_type": "execute_result"
    }
   ],
   "source": [
    "Product_des"
   ]
  },
  {
   "cell_type": "code",
   "execution_count": 90,
   "id": "0b707d64",
   "metadata": {},
   "outputs": [
    {
     "data": {
      "text/plain": [
       "120"
      ]
     },
     "execution_count": 90,
     "metadata": {},
     "output_type": "execute_result"
    }
   ],
   "source": [
    "len(Product_des)"
   ]
  },
  {
   "cell_type": "code",
   "execution_count": 91,
   "id": "a57415dc",
   "metadata": {},
   "outputs": [
    {
     "data": {
      "text/html": [
       "<div>\n",
       "<style scoped>\n",
       "    .dataframe tbody tr th:only-of-type {\n",
       "        vertical-align: middle;\n",
       "    }\n",
       "\n",
       "    .dataframe tbody tr th {\n",
       "        vertical-align: top;\n",
       "    }\n",
       "\n",
       "    .dataframe thead th {\n",
       "        text-align: right;\n",
       "    }\n",
       "</style>\n",
       "<table border=\"1\" class=\"dataframe\">\n",
       "  <thead>\n",
       "    <tr style=\"text-align: right;\">\n",
       "      <th></th>\n",
       "      <th>Brand_name</th>\n",
       "      <th>Price</th>\n",
       "      <th>Discount</th>\n",
       "      <th>Product_des</th>\n",
       "    </tr>\n",
       "  </thead>\n",
       "  <tbody>\n",
       "    <tr>\n",
       "      <th>0</th>\n",
       "      <td>PIRASO</td>\n",
       "      <td>₹213</td>\n",
       "      <td>80% off</td>\n",
       "      <td>UV Protection Round Sunglasses (54)</td>\n",
       "    </tr>\n",
       "    <tr>\n",
       "      <th>1</th>\n",
       "      <td>PIRASO</td>\n",
       "      <td>₹215</td>\n",
       "      <td>78% off</td>\n",
       "      <td>UV Protection, Polarized, Mirrored Rectangular...</td>\n",
       "    </tr>\n",
       "    <tr>\n",
       "      <th>2</th>\n",
       "      <td>SHAAH COLLECTIONS</td>\n",
       "      <td>₹237</td>\n",
       "      <td>85% off</td>\n",
       "      <td>UV Protection Aviator Sunglasses (54)</td>\n",
       "    </tr>\n",
       "    <tr>\n",
       "      <th>3</th>\n",
       "      <td>Elligator</td>\n",
       "      <td>₹237</td>\n",
       "      <td>85% off</td>\n",
       "      <td>UV Protection Wayfarer Sunglasses (32)</td>\n",
       "    </tr>\n",
       "    <tr>\n",
       "      <th>4</th>\n",
       "      <td>PIRASO</td>\n",
       "      <td>₹449</td>\n",
       "      <td>79% off</td>\n",
       "      <td>UV Protection, Riding Glasses Rectangular Sung...</td>\n",
       "    </tr>\n",
       "    <tr>\n",
       "      <th>...</th>\n",
       "      <td>...</td>\n",
       "      <td>...</td>\n",
       "      <td>...</td>\n",
       "      <td>...</td>\n",
       "    </tr>\n",
       "    <tr>\n",
       "      <th>95</th>\n",
       "      <td>NuVew</td>\n",
       "      <td>₹1,489</td>\n",
       "      <td>54% off</td>\n",
       "      <td>UV Protection Aviator Sunglasses (60)</td>\n",
       "    </tr>\n",
       "    <tr>\n",
       "      <th>96</th>\n",
       "      <td>Rich Club</td>\n",
       "      <td>₹293</td>\n",
       "      <td>82% off</td>\n",
       "      <td>Riding Glasses, Others, UV Protection Wrap-aro...</td>\n",
       "    </tr>\n",
       "    <tr>\n",
       "      <th>97</th>\n",
       "      <td>HIPPON</td>\n",
       "      <td>₹299</td>\n",
       "      <td>62% off</td>\n",
       "      <td>UV Protection, Others Round Sunglasses (48)</td>\n",
       "    </tr>\n",
       "    <tr>\n",
       "      <th>98</th>\n",
       "      <td>GANSTA</td>\n",
       "      <td>₹284</td>\n",
       "      <td>76% off</td>\n",
       "      <td>UV Protection Oval Sunglasses (56)</td>\n",
       "    </tr>\n",
       "    <tr>\n",
       "      <th>99</th>\n",
       "      <td>PIRASO</td>\n",
       "      <td>₹331</td>\n",
       "      <td>79% off</td>\n",
       "      <td>UV Protection Aviator Sunglasses (50)</td>\n",
       "    </tr>\n",
       "  </tbody>\n",
       "</table>\n",
       "<p>100 rows × 4 columns</p>\n",
       "</div>"
      ],
      "text/plain": [
       "           Brand_name   Price Discount  \\\n",
       "0              PIRASO    ₹213  80% off   \n",
       "1              PIRASO    ₹215  78% off   \n",
       "2   SHAAH COLLECTIONS    ₹237  85% off   \n",
       "3           Elligator    ₹237  85% off   \n",
       "4              PIRASO    ₹449  79% off   \n",
       "..                ...     ...      ...   \n",
       "95              NuVew  ₹1,489  54% off   \n",
       "96          Rich Club    ₹293  82% off   \n",
       "97             HIPPON    ₹299  62% off   \n",
       "98             GANSTA    ₹284  76% off   \n",
       "99             PIRASO    ₹331  79% off   \n",
       "\n",
       "                                          Product_des  \n",
       "0                 UV Protection Round Sunglasses (54)  \n",
       "1   UV Protection, Polarized, Mirrored Rectangular...  \n",
       "2               UV Protection Aviator Sunglasses (54)  \n",
       "3              UV Protection Wayfarer Sunglasses (32)  \n",
       "4   UV Protection, Riding Glasses Rectangular Sung...  \n",
       "..                                                ...  \n",
       "95              UV Protection Aviator Sunglasses (60)  \n",
       "96  Riding Glasses, Others, UV Protection Wrap-aro...  \n",
       "97        UV Protection, Others Round Sunglasses (48)  \n",
       "98                 UV Protection Oval Sunglasses (56)  \n",
       "99              UV Protection Aviator Sunglasses (50)  \n",
       "\n",
       "[100 rows x 4 columns]"
      ]
     },
     "execution_count": 91,
     "metadata": {},
     "output_type": "execute_result"
    }
   ],
   "source": [
    "flipkart=pd.DataFrame({})\n",
    "flipkart[\"Brand_name\"]=Brand[0:100]\n",
    "flipkart[\"Price\"]=Price[0:100]\n",
    "flipkart[\"Discount\"]=Discount[0:100]\n",
    "flipkart[\"Product_des\"]=Product_des[0:100]\n",
    "flipkart"
   ]
  },
  {
   "cell_type": "markdown",
   "id": "59f4560e",
   "metadata": {},
   "source": [
    "# Q7."
   ]
  },
  {
   "cell_type": "code",
   "execution_count": 92,
   "id": "419704c2",
   "metadata": {},
   "outputs": [],
   "source": [
    "driver=webdriver.Chrome(\"chromedriver\")\n"
   ]
  },
  {
   "cell_type": "code",
   "execution_count": 93,
   "id": "d8f94742",
   "metadata": {},
   "outputs": [],
   "source": [
    "url=\"https://www.flipkart.com/apple-iphone-11-black-64-gb-includes-earpods-power-adapter/p/itm0f37c2240b217?pid=MOBFKCTSVZAXUHGR&lid=LSTMOBFKCTSVZAXUHGREPBFGI&marketplace\"\n",
    "driver.get(url)"
   ]
  },
  {
   "cell_type": "code",
   "execution_count": 94,
   "id": "8c05c701",
   "metadata": {},
   "outputs": [],
   "source": [
    "Rating=[]\n",
    "for i in range(0,10):\n",
    "    try:\n",
    "        rating=driver.find_elements_by_xpath(\"//div[@class='_3LWZlK _1BLPMq']\")\n",
    "        for i in rating:\n",
    "            Rating.append(i.text)\n",
    "    except:\n",
    "        Rating.append(\"-\")\n",
    "next_button=driver.find_element_by_xpath(\"//a[@class='_1LKTO3']//span\")\n",
    "if next_button.text==\"NEXT\":\n",
    "    next_button.click() \n"
   ]
  },
  {
   "cell_type": "code",
   "execution_count": 95,
   "id": "3dd52195",
   "metadata": {},
   "outputs": [
    {
     "data": {
      "text/plain": [
       "['5',\n",
       " '5',\n",
       " '5',\n",
       " '5',\n",
       " '5',\n",
       " '5',\n",
       " '5',\n",
       " '4',\n",
       " '5',\n",
       " '5',\n",
       " '5',\n",
       " '5',\n",
       " '5',\n",
       " '5',\n",
       " '5',\n",
       " '5',\n",
       " '5',\n",
       " '4',\n",
       " '5',\n",
       " '5',\n",
       " '5',\n",
       " '5',\n",
       " '5',\n",
       " '5',\n",
       " '5',\n",
       " '5',\n",
       " '5',\n",
       " '4',\n",
       " '5',\n",
       " '5',\n",
       " '5',\n",
       " '5',\n",
       " '5',\n",
       " '5',\n",
       " '5',\n",
       " '5',\n",
       " '5',\n",
       " '4',\n",
       " '5',\n",
       " '5',\n",
       " '5',\n",
       " '5',\n",
       " '5',\n",
       " '5',\n",
       " '5',\n",
       " '5',\n",
       " '5',\n",
       " '4',\n",
       " '5',\n",
       " '5',\n",
       " '5',\n",
       " '5',\n",
       " '5',\n",
       " '5',\n",
       " '5',\n",
       " '5',\n",
       " '5',\n",
       " '4',\n",
       " '5',\n",
       " '5',\n",
       " '5',\n",
       " '5',\n",
       " '5',\n",
       " '5',\n",
       " '5',\n",
       " '5',\n",
       " '5',\n",
       " '4',\n",
       " '5',\n",
       " '5',\n",
       " '5',\n",
       " '5',\n",
       " '5',\n",
       " '5',\n",
       " '5',\n",
       " '5',\n",
       " '5',\n",
       " '4',\n",
       " '5',\n",
       " '5',\n",
       " '5',\n",
       " '5',\n",
       " '5',\n",
       " '5',\n",
       " '5',\n",
       " '5',\n",
       " '5',\n",
       " '4',\n",
       " '5',\n",
       " '5',\n",
       " '5',\n",
       " '5',\n",
       " '5',\n",
       " '5',\n",
       " '5',\n",
       " '5',\n",
       " '5',\n",
       " '4',\n",
       " '5',\n",
       " '5']"
      ]
     },
     "execution_count": 95,
     "metadata": {},
     "output_type": "execute_result"
    }
   ],
   "source": [
    "Rating"
   ]
  },
  {
   "cell_type": "code",
   "execution_count": 96,
   "id": "328ff256",
   "metadata": {},
   "outputs": [
    {
     "data": {
      "text/plain": [
       "100"
      ]
     },
     "execution_count": 96,
     "metadata": {},
     "output_type": "execute_result"
    }
   ],
   "source": [
    "len(Rating)"
   ]
  },
  {
   "cell_type": "code",
   "execution_count": 99,
   "id": "20ee055b",
   "metadata": {},
   "outputs": [],
   "source": [
    "Review=[]\n",
    "for i in range(0,10):\n",
    "    try:\n",
    "        review=driver.find_elements_by_xpath(\"//p[@class='_2-N8zT']\")\n",
    "        for i in review:\n",
    "            Review.append(i.text)\n",
    "    except:\n",
    "        Review.append(\"-\")\n",
    "next_button=driver.find_element_by_xpath(\"//a[@class='_1LKTO3']//span\")\n",
    "if next_button.text==\"NEXT\":\n",
    "    next_button.click() \n"
   ]
  },
  {
   "cell_type": "code",
   "execution_count": 100,
   "id": "86a6d6fc",
   "metadata": {},
   "outputs": [
    {
     "data": {
      "text/plain": [
       "['Highly recommended',\n",
       " 'Perfect product!',\n",
       " 'Perfect product!',\n",
       " 'Classy product',\n",
       " 'Highly recommended',\n",
       " 'Worth every penny',\n",
       " 'Perfect product!',\n",
       " 'Simply awesome',\n",
       " 'Worth every penny',\n",
       " 'Terrific',\n",
       " 'Highly recommended',\n",
       " 'Perfect product!',\n",
       " 'Perfect product!',\n",
       " 'Classy product',\n",
       " 'Highly recommended',\n",
       " 'Worth every penny',\n",
       " 'Perfect product!',\n",
       " 'Simply awesome',\n",
       " 'Worth every penny',\n",
       " 'Terrific',\n",
       " 'Highly recommended',\n",
       " 'Perfect product!',\n",
       " 'Perfect product!',\n",
       " 'Classy product',\n",
       " 'Highly recommended',\n",
       " 'Worth every penny',\n",
       " 'Perfect product!',\n",
       " 'Simply awesome',\n",
       " 'Worth every penny',\n",
       " 'Terrific',\n",
       " 'Highly recommended',\n",
       " 'Perfect product!',\n",
       " 'Perfect product!',\n",
       " 'Classy product',\n",
       " 'Highly recommended',\n",
       " 'Worth every penny',\n",
       " 'Perfect product!',\n",
       " 'Simply awesome',\n",
       " 'Worth every penny',\n",
       " 'Terrific',\n",
       " 'Highly recommended',\n",
       " 'Perfect product!',\n",
       " 'Perfect product!',\n",
       " 'Classy product',\n",
       " 'Highly recommended',\n",
       " 'Worth every penny',\n",
       " 'Perfect product!',\n",
       " 'Simply awesome',\n",
       " 'Worth every penny',\n",
       " 'Terrific',\n",
       " 'Highly recommended',\n",
       " 'Perfect product!',\n",
       " 'Perfect product!',\n",
       " 'Classy product',\n",
       " 'Highly recommended',\n",
       " 'Worth every penny',\n",
       " 'Perfect product!',\n",
       " 'Simply awesome',\n",
       " 'Worth every penny',\n",
       " 'Terrific',\n",
       " 'Highly recommended',\n",
       " 'Perfect product!',\n",
       " 'Perfect product!',\n",
       " 'Classy product',\n",
       " 'Highly recommended',\n",
       " 'Worth every penny',\n",
       " 'Perfect product!',\n",
       " 'Simply awesome',\n",
       " 'Worth every penny',\n",
       " 'Terrific',\n",
       " 'Highly recommended',\n",
       " 'Perfect product!',\n",
       " 'Perfect product!',\n",
       " 'Classy product',\n",
       " 'Highly recommended',\n",
       " 'Worth every penny',\n",
       " 'Perfect product!',\n",
       " 'Simply awesome',\n",
       " 'Worth every penny',\n",
       " 'Terrific',\n",
       " 'Highly recommended',\n",
       " 'Perfect product!',\n",
       " 'Perfect product!',\n",
       " 'Classy product',\n",
       " 'Highly recommended',\n",
       " 'Worth every penny',\n",
       " 'Perfect product!',\n",
       " 'Simply awesome',\n",
       " 'Worth every penny',\n",
       " 'Terrific',\n",
       " 'Highly recommended',\n",
       " 'Perfect product!',\n",
       " 'Perfect product!',\n",
       " 'Classy product',\n",
       " 'Highly recommended',\n",
       " 'Worth every penny',\n",
       " 'Perfect product!',\n",
       " 'Simply awesome',\n",
       " 'Worth every penny',\n",
       " 'Terrific']"
      ]
     },
     "execution_count": 100,
     "metadata": {},
     "output_type": "execute_result"
    }
   ],
   "source": [
    "Review"
   ]
  },
  {
   "cell_type": "code",
   "execution_count": 101,
   "id": "76b493d6",
   "metadata": {},
   "outputs": [
    {
     "data": {
      "text/plain": [
       "100"
      ]
     },
     "execution_count": 101,
     "metadata": {},
     "output_type": "execute_result"
    }
   ],
   "source": [
    "len(Review)"
   ]
  },
  {
   "cell_type": "code",
   "execution_count": 103,
   "id": "3bc78913",
   "metadata": {},
   "outputs": [],
   "source": [
    "Full_Review=[]\n",
    "for i in range(0,10):\n",
    "    try:\n",
    "        full_Review=driver.find_elements_by_xpath(\"//div[@class='t-ZTKy']\")\n",
    "        for i in full_Review:\n",
    "            Full_Review.append(i.text)\n",
    "    except:\n",
    "        Full_Review.append(\"-\")\n",
    "next_button=driver.find_element_by_xpath(\"//a[@class='_1LKTO3']//span\")\n",
    "if next_button.text==\"NEXT\":\n",
    "    next_button.click() \n"
   ]
  },
  {
   "cell_type": "code",
   "execution_count": 104,
   "id": "efbc5e12",
   "metadata": {},
   "outputs": [
    {
     "data": {
      "text/plain": [
       "['iphone 11 is a very good phone to buy only if you can compromise for the display. The display on this is device is pretty good but you can get other options with better displays in this price segment.\\nIf you can survive with an HD+ LCD panel with thicker bezels and a notch up top then this is a very good phone for you.\\nCameras are awesome, battery backup excellent, great performance and a decent premium look. Good job Apple !',\n",
       " 'It’s a must buy who is looking for an upgrade from previous generation of iPhones. If you are using XR then still you can hold on for sometime and upgrade to 2020 model else this phone is a must buy . Camera quality is amazing and wide angle is something to count upon. Performance wise it’s amazing and feels premium while holding in hand. So a big YES for this device. Go for 128 GB variant as the 4K videos will occupy lots of space and the storage can get over very quickly. Try to buy it with...\\nREAD MORE',\n",
       " 'Value for money❤️❤️\\nIts awesome mobile phone in the world ...\\nDisplay was very good and bright ..\\nTrust me freinds you r never regret after Buying..\\nJust go for it....\\nI love this phone and i switch to iphone x to 11',\n",
       " 'Totally in love with this ❤ the camera quality is amazing just love it 😘😘😘 itsss dammnnnnnn amazing... Must buy iPhone 11 this is my best experience ever ☀👌👌🧡🧡🧡🧡🧡 thanku apple ❤',\n",
       " \"It's my first time to use iOS phone and I am loving my upgradation 😍😍 I love the color, I love the assebility of the phone....I need to learn more about its functionality, but as far as I have seen, it's quite easy and it has a lot of functions to work on, specially if you are a content writer or a blogger you get a lot of content creation platforms and they are really amazing.\\n\\nThis phone not only for good quality photography but a lot of other task too.😍💯\",\n",
       " 'Best budget Iphone till date ❤️ go for it guys without second thought. Let me explain you guys about Camera, Display, battery, and performance.\\n\\nCamera: at this price range there is no comparison of camera, you’ll love the picture quality as well as video quality. I am a Vlogger I wanted an iPhone with 4k video by front camera and I got this phone and I am more than happy 😃\\n\\nBattery: I use this phone roughly as I am active social media person and I have a youtube channel. so the battery ba...\\nREAD MORE',\n",
       " \"Iphone is just awesome.. battery backup is very very nice.. continuously for 10 hours we can use it.camera is just awesome.. display is just fab.i love it alot..i had to wait 15 days for it as i pre ordered it..overalll it's worth the price..these all images are clicked by my iPhone..and i love it.\",\n",
       " 'Excellent camera, good performance, no lag. The lcd display is also good.. but difference come when we watch movie in prime and Netflix, the colours are not vibrant.. as we see in amoled display.. and the charger in box is of 5 watts.. takes more than 3 hours to charge from 0 to 100.. so guys be prepare to buy 18 watts charger . Finally I am an android user, it was my first Iapple phone, I promise u guys the iOS is so smooth.. overall the phone is damn good.... close eyes to buy it.. thanks t...\\nREAD MORE',\n",
       " 'It’s been almost a month since I have been using this phone. I upgraded from an iPhone 8. The main issue with my 8 was battery and this phone is just awesome when it comes to battery. It lasts a day and a half for me with my regular use , internet connected always with 4g\\nCan’t move forward without saying this. Battery of this phone is a life saver when I am traveling or at work when I don’t get the option to charge\\nCamera is superb. Front cam selfies and back cam photos are just awesome.\\n...\\nREAD MORE',\n",
       " 'Really worth of money. i just love it. It is the best phone ever.',\n",
       " 'iphone 11 is a very good phone to buy only if you can compromise for the display. The display on this is device is pretty good but you can get other options with better displays in this price segment.\\nIf you can survive with an HD+ LCD panel with thicker bezels and a notch up top then this is a very good phone for you.\\nCameras are awesome, battery backup excellent, great performance and a decent premium look. Good job Apple !',\n",
       " 'It’s a must buy who is looking for an upgrade from previous generation of iPhones. If you are using XR then still you can hold on for sometime and upgrade to 2020 model else this phone is a must buy . Camera quality is amazing and wide angle is something to count upon. Performance wise it’s amazing and feels premium while holding in hand. So a big YES for this device. Go for 128 GB variant as the 4K videos will occupy lots of space and the storage can get over very quickly. Try to buy it with...\\nREAD MORE',\n",
       " 'Value for money❤️❤️\\nIts awesome mobile phone in the world ...\\nDisplay was very good and bright ..\\nTrust me freinds you r never regret after Buying..\\nJust go for it....\\nI love this phone and i switch to iphone x to 11',\n",
       " 'Totally in love with this ❤ the camera quality is amazing just love it 😘😘😘 itsss dammnnnnnn amazing... Must buy iPhone 11 this is my best experience ever ☀👌👌🧡🧡🧡🧡🧡 thanku apple ❤',\n",
       " \"It's my first time to use iOS phone and I am loving my upgradation 😍😍 I love the color, I love the assebility of the phone....I need to learn more about its functionality, but as far as I have seen, it's quite easy and it has a lot of functions to work on, specially if you are a content writer or a blogger you get a lot of content creation platforms and they are really amazing.\\n\\nThis phone not only for good quality photography but a lot of other task too.😍💯\",\n",
       " 'Best budget Iphone till date ❤️ go for it guys without second thought. Let me explain you guys about Camera, Display, battery, and performance.\\n\\nCamera: at this price range there is no comparison of camera, you’ll love the picture quality as well as video quality. I am a Vlogger I wanted an iPhone with 4k video by front camera and I got this phone and I am more than happy 😃\\n\\nBattery: I use this phone roughly as I am active social media person and I have a youtube channel. so the battery ba...\\nREAD MORE',\n",
       " \"Iphone is just awesome.. battery backup is very very nice.. continuously for 10 hours we can use it.camera is just awesome.. display is just fab.i love it alot..i had to wait 15 days for it as i pre ordered it..overalll it's worth the price..these all images are clicked by my iPhone..and i love it.\",\n",
       " 'Excellent camera, good performance, no lag. The lcd display is also good.. but difference come when we watch movie in prime and Netflix, the colours are not vibrant.. as we see in amoled display.. and the charger in box is of 5 watts.. takes more than 3 hours to charge from 0 to 100.. so guys be prepare to buy 18 watts charger . Finally I am an android user, it was my first Iapple phone, I promise u guys the iOS is so smooth.. overall the phone is damn good.... close eyes to buy it.. thanks t...\\nREAD MORE',\n",
       " 'It’s been almost a month since I have been using this phone. I upgraded from an iPhone 8. The main issue with my 8 was battery and this phone is just awesome when it comes to battery. It lasts a day and a half for me with my regular use , internet connected always with 4g\\nCan’t move forward without saying this. Battery of this phone is a life saver when I am traveling or at work when I don’t get the option to charge\\nCamera is superb. Front cam selfies and back cam photos are just awesome.\\n...\\nREAD MORE',\n",
       " 'Really worth of money. i just love it. It is the best phone ever.',\n",
       " 'iphone 11 is a very good phone to buy only if you can compromise for the display. The display on this is device is pretty good but you can get other options with better displays in this price segment.\\nIf you can survive with an HD+ LCD panel with thicker bezels and a notch up top then this is a very good phone for you.\\nCameras are awesome, battery backup excellent, great performance and a decent premium look. Good job Apple !',\n",
       " 'It’s a must buy who is looking for an upgrade from previous generation of iPhones. If you are using XR then still you can hold on for sometime and upgrade to 2020 model else this phone is a must buy . Camera quality is amazing and wide angle is something to count upon. Performance wise it’s amazing and feels premium while holding in hand. So a big YES for this device. Go for 128 GB variant as the 4K videos will occupy lots of space and the storage can get over very quickly. Try to buy it with...\\nREAD MORE',\n",
       " 'Value for money❤️❤️\\nIts awesome mobile phone in the world ...\\nDisplay was very good and bright ..\\nTrust me freinds you r never regret after Buying..\\nJust go for it....\\nI love this phone and i switch to iphone x to 11',\n",
       " 'Totally in love with this ❤ the camera quality is amazing just love it 😘😘😘 itsss dammnnnnnn amazing... Must buy iPhone 11 this is my best experience ever ☀👌👌🧡🧡🧡🧡🧡 thanku apple ❤',\n",
       " \"It's my first time to use iOS phone and I am loving my upgradation 😍😍 I love the color, I love the assebility of the phone....I need to learn more about its functionality, but as far as I have seen, it's quite easy and it has a lot of functions to work on, specially if you are a content writer or a blogger you get a lot of content creation platforms and they are really amazing.\\n\\nThis phone not only for good quality photography but a lot of other task too.😍💯\",\n",
       " 'Best budget Iphone till date ❤️ go for it guys without second thought. Let me explain you guys about Camera, Display, battery, and performance.\\n\\nCamera: at this price range there is no comparison of camera, you’ll love the picture quality as well as video quality. I am a Vlogger I wanted an iPhone with 4k video by front camera and I got this phone and I am more than happy 😃\\n\\nBattery: I use this phone roughly as I am active social media person and I have a youtube channel. so the battery ba...\\nREAD MORE',\n",
       " \"Iphone is just awesome.. battery backup is very very nice.. continuously for 10 hours we can use it.camera is just awesome.. display is just fab.i love it alot..i had to wait 15 days for it as i pre ordered it..overalll it's worth the price..these all images are clicked by my iPhone..and i love it.\",\n",
       " 'Excellent camera, good performance, no lag. The lcd display is also good.. but difference come when we watch movie in prime and Netflix, the colours are not vibrant.. as we see in amoled display.. and the charger in box is of 5 watts.. takes more than 3 hours to charge from 0 to 100.. so guys be prepare to buy 18 watts charger . Finally I am an android user, it was my first Iapple phone, I promise u guys the iOS is so smooth.. overall the phone is damn good.... close eyes to buy it.. thanks t...\\nREAD MORE',\n",
       " 'It’s been almost a month since I have been using this phone. I upgraded from an iPhone 8. The main issue with my 8 was battery and this phone is just awesome when it comes to battery. It lasts a day and a half for me with my regular use , internet connected always with 4g\\nCan’t move forward without saying this. Battery of this phone is a life saver when I am traveling or at work when I don’t get the option to charge\\nCamera is superb. Front cam selfies and back cam photos are just awesome.\\n...\\nREAD MORE',\n",
       " 'Really worth of money. i just love it. It is the best phone ever.',\n",
       " 'iphone 11 is a very good phone to buy only if you can compromise for the display. The display on this is device is pretty good but you can get other options with better displays in this price segment.\\nIf you can survive with an HD+ LCD panel with thicker bezels and a notch up top then this is a very good phone for you.\\nCameras are awesome, battery backup excellent, great performance and a decent premium look. Good job Apple !',\n",
       " 'It’s a must buy who is looking for an upgrade from previous generation of iPhones. If you are using XR then still you can hold on for sometime and upgrade to 2020 model else this phone is a must buy . Camera quality is amazing and wide angle is something to count upon. Performance wise it’s amazing and feels premium while holding in hand. So a big YES for this device. Go for 128 GB variant as the 4K videos will occupy lots of space and the storage can get over very quickly. Try to buy it with...\\nREAD MORE',\n",
       " 'Value for money❤️❤️\\nIts awesome mobile phone in the world ...\\nDisplay was very good and bright ..\\nTrust me freinds you r never regret after Buying..\\nJust go for it....\\nI love this phone and i switch to iphone x to 11',\n",
       " 'Totally in love with this ❤ the camera quality is amazing just love it 😘😘😘 itsss dammnnnnnn amazing... Must buy iPhone 11 this is my best experience ever ☀👌👌🧡🧡🧡🧡🧡 thanku apple ❤',\n",
       " \"It's my first time to use iOS phone and I am loving my upgradation 😍😍 I love the color, I love the assebility of the phone....I need to learn more about its functionality, but as far as I have seen, it's quite easy and it has a lot of functions to work on, specially if you are a content writer or a blogger you get a lot of content creation platforms and they are really amazing.\\n\\nThis phone not only for good quality photography but a lot of other task too.😍💯\",\n",
       " 'Best budget Iphone till date ❤️ go for it guys without second thought. Let me explain you guys about Camera, Display, battery, and performance.\\n\\nCamera: at this price range there is no comparison of camera, you’ll love the picture quality as well as video quality. I am a Vlogger I wanted an iPhone with 4k video by front camera and I got this phone and I am more than happy 😃\\n\\nBattery: I use this phone roughly as I am active social media person and I have a youtube channel. so the battery ba...\\nREAD MORE',\n",
       " \"Iphone is just awesome.. battery backup is very very nice.. continuously for 10 hours we can use it.camera is just awesome.. display is just fab.i love it alot..i had to wait 15 days for it as i pre ordered it..overalll it's worth the price..these all images are clicked by my iPhone..and i love it.\",\n",
       " 'Excellent camera, good performance, no lag. The lcd display is also good.. but difference come when we watch movie in prime and Netflix, the colours are not vibrant.. as we see in amoled display.. and the charger in box is of 5 watts.. takes more than 3 hours to charge from 0 to 100.. so guys be prepare to buy 18 watts charger . Finally I am an android user, it was my first Iapple phone, I promise u guys the iOS is so smooth.. overall the phone is damn good.... close eyes to buy it.. thanks t...\\nREAD MORE',\n",
       " 'It’s been almost a month since I have been using this phone. I upgraded from an iPhone 8. The main issue with my 8 was battery and this phone is just awesome when it comes to battery. It lasts a day and a half for me with my regular use , internet connected always with 4g\\nCan’t move forward without saying this. Battery of this phone is a life saver when I am traveling or at work when I don’t get the option to charge\\nCamera is superb. Front cam selfies and back cam photos are just awesome.\\n...\\nREAD MORE',\n",
       " 'Really worth of money. i just love it. It is the best phone ever.',\n",
       " 'iphone 11 is a very good phone to buy only if you can compromise for the display. The display on this is device is pretty good but you can get other options with better displays in this price segment.\\nIf you can survive with an HD+ LCD panel with thicker bezels and a notch up top then this is a very good phone for you.\\nCameras are awesome, battery backup excellent, great performance and a decent premium look. Good job Apple !',\n",
       " 'It’s a must buy who is looking for an upgrade from previous generation of iPhones. If you are using XR then still you can hold on for sometime and upgrade to 2020 model else this phone is a must buy . Camera quality is amazing and wide angle is something to count upon. Performance wise it’s amazing and feels premium while holding in hand. So a big YES for this device. Go for 128 GB variant as the 4K videos will occupy lots of space and the storage can get over very quickly. Try to buy it with...\\nREAD MORE',\n",
       " 'Value for money❤️❤️\\nIts awesome mobile phone in the world ...\\nDisplay was very good and bright ..\\nTrust me freinds you r never regret after Buying..\\nJust go for it....\\nI love this phone and i switch to iphone x to 11',\n",
       " 'Totally in love with this ❤ the camera quality is amazing just love it 😘😘😘 itsss dammnnnnnn amazing... Must buy iPhone 11 this is my best experience ever ☀👌👌🧡🧡🧡🧡🧡 thanku apple ❤',\n",
       " \"It's my first time to use iOS phone and I am loving my upgradation 😍😍 I love the color, I love the assebility of the phone....I need to learn more about its functionality, but as far as I have seen, it's quite easy and it has a lot of functions to work on, specially if you are a content writer or a blogger you get a lot of content creation platforms and they are really amazing.\\n\\nThis phone not only for good quality photography but a lot of other task too.😍💯\",\n",
       " 'Best budget Iphone till date ❤️ go for it guys without second thought. Let me explain you guys about Camera, Display, battery, and performance.\\n\\nCamera: at this price range there is no comparison of camera, you’ll love the picture quality as well as video quality. I am a Vlogger I wanted an iPhone with 4k video by front camera and I got this phone and I am more than happy 😃\\n\\nBattery: I use this phone roughly as I am active social media person and I have a youtube channel. so the battery ba...\\nREAD MORE',\n",
       " \"Iphone is just awesome.. battery backup is very very nice.. continuously for 10 hours we can use it.camera is just awesome.. display is just fab.i love it alot..i had to wait 15 days for it as i pre ordered it..overalll it's worth the price..these all images are clicked by my iPhone..and i love it.\",\n",
       " 'Excellent camera, good performance, no lag. The lcd display is also good.. but difference come when we watch movie in prime and Netflix, the colours are not vibrant.. as we see in amoled display.. and the charger in box is of 5 watts.. takes more than 3 hours to charge from 0 to 100.. so guys be prepare to buy 18 watts charger . Finally I am an android user, it was my first Iapple phone, I promise u guys the iOS is so smooth.. overall the phone is damn good.... close eyes to buy it.. thanks t...\\nREAD MORE',\n",
       " 'It’s been almost a month since I have been using this phone. I upgraded from an iPhone 8. The main issue with my 8 was battery and this phone is just awesome when it comes to battery. It lasts a day and a half for me with my regular use , internet connected always with 4g\\nCan’t move forward without saying this. Battery of this phone is a life saver when I am traveling or at work when I don’t get the option to charge\\nCamera is superb. Front cam selfies and back cam photos are just awesome.\\n...\\nREAD MORE',\n",
       " 'Really worth of money. i just love it. It is the best phone ever.',\n",
       " 'iphone 11 is a very good phone to buy only if you can compromise for the display. The display on this is device is pretty good but you can get other options with better displays in this price segment.\\nIf you can survive with an HD+ LCD panel with thicker bezels and a notch up top then this is a very good phone for you.\\nCameras are awesome, battery backup excellent, great performance and a decent premium look. Good job Apple !',\n",
       " 'It’s a must buy who is looking for an upgrade from previous generation of iPhones. If you are using XR then still you can hold on for sometime and upgrade to 2020 model else this phone is a must buy . Camera quality is amazing and wide angle is something to count upon. Performance wise it’s amazing and feels premium while holding in hand. So a big YES for this device. Go for 128 GB variant as the 4K videos will occupy lots of space and the storage can get over very quickly. Try to buy it with...\\nREAD MORE',\n",
       " 'Value for money❤️❤️\\nIts awesome mobile phone in the world ...\\nDisplay was very good and bright ..\\nTrust me freinds you r never regret after Buying..\\nJust go for it....\\nI love this phone and i switch to iphone x to 11',\n",
       " 'Totally in love with this ❤ the camera quality is amazing just love it 😘😘😘 itsss dammnnnnnn amazing... Must buy iPhone 11 this is my best experience ever ☀👌👌🧡🧡🧡🧡🧡 thanku apple ❤',\n",
       " \"It's my first time to use iOS phone and I am loving my upgradation 😍😍 I love the color, I love the assebility of the phone....I need to learn more about its functionality, but as far as I have seen, it's quite easy and it has a lot of functions to work on, specially if you are a content writer or a blogger you get a lot of content creation platforms and they are really amazing.\\n\\nThis phone not only for good quality photography but a lot of other task too.😍💯\",\n",
       " 'Best budget Iphone till date ❤️ go for it guys without second thought. Let me explain you guys about Camera, Display, battery, and performance.\\n\\nCamera: at this price range there is no comparison of camera, you’ll love the picture quality as well as video quality. I am a Vlogger I wanted an iPhone with 4k video by front camera and I got this phone and I am more than happy 😃\\n\\nBattery: I use this phone roughly as I am active social media person and I have a youtube channel. so the battery ba...\\nREAD MORE',\n",
       " \"Iphone is just awesome.. battery backup is very very nice.. continuously for 10 hours we can use it.camera is just awesome.. display is just fab.i love it alot..i had to wait 15 days for it as i pre ordered it..overalll it's worth the price..these all images are clicked by my iPhone..and i love it.\",\n",
       " 'Excellent camera, good performance, no lag. The lcd display is also good.. but difference come when we watch movie in prime and Netflix, the colours are not vibrant.. as we see in amoled display.. and the charger in box is of 5 watts.. takes more than 3 hours to charge from 0 to 100.. so guys be prepare to buy 18 watts charger . Finally I am an android user, it was my first Iapple phone, I promise u guys the iOS is so smooth.. overall the phone is damn good.... close eyes to buy it.. thanks t...\\nREAD MORE',\n",
       " 'It’s been almost a month since I have been using this phone. I upgraded from an iPhone 8. The main issue with my 8 was battery and this phone is just awesome when it comes to battery. It lasts a day and a half for me with my regular use , internet connected always with 4g\\nCan’t move forward without saying this. Battery of this phone is a life saver when I am traveling or at work when I don’t get the option to charge\\nCamera is superb. Front cam selfies and back cam photos are just awesome.\\n...\\nREAD MORE',\n",
       " 'Really worth of money. i just love it. It is the best phone ever.',\n",
       " 'iphone 11 is a very good phone to buy only if you can compromise for the display. The display on this is device is pretty good but you can get other options with better displays in this price segment.\\nIf you can survive with an HD+ LCD panel with thicker bezels and a notch up top then this is a very good phone for you.\\nCameras are awesome, battery backup excellent, great performance and a decent premium look. Good job Apple !',\n",
       " 'It’s a must buy who is looking for an upgrade from previous generation of iPhones. If you are using XR then still you can hold on for sometime and upgrade to 2020 model else this phone is a must buy . Camera quality is amazing and wide angle is something to count upon. Performance wise it’s amazing and feels premium while holding in hand. So a big YES for this device. Go for 128 GB variant as the 4K videos will occupy lots of space and the storage can get over very quickly. Try to buy it with...\\nREAD MORE',\n",
       " 'Value for money❤️❤️\\nIts awesome mobile phone in the world ...\\nDisplay was very good and bright ..\\nTrust me freinds you r never regret after Buying..\\nJust go for it....\\nI love this phone and i switch to iphone x to 11',\n",
       " 'Totally in love with this ❤ the camera quality is amazing just love it 😘😘😘 itsss dammnnnnnn amazing... Must buy iPhone 11 this is my best experience ever ☀👌👌🧡🧡🧡🧡🧡 thanku apple ❤',\n",
       " \"It's my first time to use iOS phone and I am loving my upgradation 😍😍 I love the color, I love the assebility of the phone....I need to learn more about its functionality, but as far as I have seen, it's quite easy and it has a lot of functions to work on, specially if you are a content writer or a blogger you get a lot of content creation platforms and they are really amazing.\\n\\nThis phone not only for good quality photography but a lot of other task too.😍💯\",\n",
       " 'Best budget Iphone till date ❤️ go for it guys without second thought. Let me explain you guys about Camera, Display, battery, and performance.\\n\\nCamera: at this price range there is no comparison of camera, you’ll love the picture quality as well as video quality. I am a Vlogger I wanted an iPhone with 4k video by front camera and I got this phone and I am more than happy 😃\\n\\nBattery: I use this phone roughly as I am active social media person and I have a youtube channel. so the battery ba...\\nREAD MORE',\n",
       " \"Iphone is just awesome.. battery backup is very very nice.. continuously for 10 hours we can use it.camera is just awesome.. display is just fab.i love it alot..i had to wait 15 days for it as i pre ordered it..overalll it's worth the price..these all images are clicked by my iPhone..and i love it.\",\n",
       " 'Excellent camera, good performance, no lag. The lcd display is also good.. but difference come when we watch movie in prime and Netflix, the colours are not vibrant.. as we see in amoled display.. and the charger in box is of 5 watts.. takes more than 3 hours to charge from 0 to 100.. so guys be prepare to buy 18 watts charger . Finally I am an android user, it was my first Iapple phone, I promise u guys the iOS is so smooth.. overall the phone is damn good.... close eyes to buy it.. thanks t...\\nREAD MORE',\n",
       " 'It’s been almost a month since I have been using this phone. I upgraded from an iPhone 8. The main issue with my 8 was battery and this phone is just awesome when it comes to battery. It lasts a day and a half for me with my regular use , internet connected always with 4g\\nCan’t move forward without saying this. Battery of this phone is a life saver when I am traveling or at work when I don’t get the option to charge\\nCamera is superb. Front cam selfies and back cam photos are just awesome.\\n...\\nREAD MORE',\n",
       " 'Really worth of money. i just love it. It is the best phone ever.',\n",
       " 'iphone 11 is a very good phone to buy only if you can compromise for the display. The display on this is device is pretty good but you can get other options with better displays in this price segment.\\nIf you can survive with an HD+ LCD panel with thicker bezels and a notch up top then this is a very good phone for you.\\nCameras are awesome, battery backup excellent, great performance and a decent premium look. Good job Apple !',\n",
       " 'It’s a must buy who is looking for an upgrade from previous generation of iPhones. If you are using XR then still you can hold on for sometime and upgrade to 2020 model else this phone is a must buy . Camera quality is amazing and wide angle is something to count upon. Performance wise it’s amazing and feels premium while holding in hand. So a big YES for this device. Go for 128 GB variant as the 4K videos will occupy lots of space and the storage can get over very quickly. Try to buy it with...\\nREAD MORE',\n",
       " 'Value for money❤️❤️\\nIts awesome mobile phone in the world ...\\nDisplay was very good and bright ..\\nTrust me freinds you r never regret after Buying..\\nJust go for it....\\nI love this phone and i switch to iphone x to 11',\n",
       " 'Totally in love with this ❤ the camera quality is amazing just love it 😘😘😘 itsss dammnnnnnn amazing... Must buy iPhone 11 this is my best experience ever ☀👌👌🧡🧡🧡🧡🧡 thanku apple ❤',\n",
       " \"It's my first time to use iOS phone and I am loving my upgradation 😍😍 I love the color, I love the assebility of the phone....I need to learn more about its functionality, but as far as I have seen, it's quite easy and it has a lot of functions to work on, specially if you are a content writer or a blogger you get a lot of content creation platforms and they are really amazing.\\n\\nThis phone not only for good quality photography but a lot of other task too.😍💯\",\n",
       " 'Best budget Iphone till date ❤️ go for it guys without second thought. Let me explain you guys about Camera, Display, battery, and performance.\\n\\nCamera: at this price range there is no comparison of camera, you’ll love the picture quality as well as video quality. I am a Vlogger I wanted an iPhone with 4k video by front camera and I got this phone and I am more than happy 😃\\n\\nBattery: I use this phone roughly as I am active social media person and I have a youtube channel. so the battery ba...\\nREAD MORE',\n",
       " \"Iphone is just awesome.. battery backup is very very nice.. continuously for 10 hours we can use it.camera is just awesome.. display is just fab.i love it alot..i had to wait 15 days for it as i pre ordered it..overalll it's worth the price..these all images are clicked by my iPhone..and i love it.\",\n",
       " 'Excellent camera, good performance, no lag. The lcd display is also good.. but difference come when we watch movie in prime and Netflix, the colours are not vibrant.. as we see in amoled display.. and the charger in box is of 5 watts.. takes more than 3 hours to charge from 0 to 100.. so guys be prepare to buy 18 watts charger . Finally I am an android user, it was my first Iapple phone, I promise u guys the iOS is so smooth.. overall the phone is damn good.... close eyes to buy it.. thanks t...\\nREAD MORE',\n",
       " 'It’s been almost a month since I have been using this phone. I upgraded from an iPhone 8. The main issue with my 8 was battery and this phone is just awesome when it comes to battery. It lasts a day and a half for me with my regular use , internet connected always with 4g\\nCan’t move forward without saying this. Battery of this phone is a life saver when I am traveling or at work when I don’t get the option to charge\\nCamera is superb. Front cam selfies and back cam photos are just awesome.\\n...\\nREAD MORE',\n",
       " 'Really worth of money. i just love it. It is the best phone ever.',\n",
       " 'iphone 11 is a very good phone to buy only if you can compromise for the display. The display on this is device is pretty good but you can get other options with better displays in this price segment.\\nIf you can survive with an HD+ LCD panel with thicker bezels and a notch up top then this is a very good phone for you.\\nCameras are awesome, battery backup excellent, great performance and a decent premium look. Good job Apple !',\n",
       " 'It’s a must buy who is looking for an upgrade from previous generation of iPhones. If you are using XR then still you can hold on for sometime and upgrade to 2020 model else this phone is a must buy . Camera quality is amazing and wide angle is something to count upon. Performance wise it’s amazing and feels premium while holding in hand. So a big YES for this device. Go for 128 GB variant as the 4K videos will occupy lots of space and the storage can get over very quickly. Try to buy it with...\\nREAD MORE',\n",
       " 'Value for money❤️❤️\\nIts awesome mobile phone in the world ...\\nDisplay was very good and bright ..\\nTrust me freinds you r never regret after Buying..\\nJust go for it....\\nI love this phone and i switch to iphone x to 11',\n",
       " 'Totally in love with this ❤ the camera quality is amazing just love it 😘😘😘 itsss dammnnnnnn amazing... Must buy iPhone 11 this is my best experience ever ☀👌👌🧡🧡🧡🧡🧡 thanku apple ❤',\n",
       " \"It's my first time to use iOS phone and I am loving my upgradation 😍😍 I love the color, I love the assebility of the phone....I need to learn more about its functionality, but as far as I have seen, it's quite easy and it has a lot of functions to work on, specially if you are a content writer or a blogger you get a lot of content creation platforms and they are really amazing.\\n\\nThis phone not only for good quality photography but a lot of other task too.😍💯\",\n",
       " 'Best budget Iphone till date ❤️ go for it guys without second thought. Let me explain you guys about Camera, Display, battery, and performance.\\n\\nCamera: at this price range there is no comparison of camera, you’ll love the picture quality as well as video quality. I am a Vlogger I wanted an iPhone with 4k video by front camera and I got this phone and I am more than happy 😃\\n\\nBattery: I use this phone roughly as I am active social media person and I have a youtube channel. so the battery ba...\\nREAD MORE',\n",
       " \"Iphone is just awesome.. battery backup is very very nice.. continuously for 10 hours we can use it.camera is just awesome.. display is just fab.i love it alot..i had to wait 15 days for it as i pre ordered it..overalll it's worth the price..these all images are clicked by my iPhone..and i love it.\",\n",
       " 'Excellent camera, good performance, no lag. The lcd display is also good.. but difference come when we watch movie in prime and Netflix, the colours are not vibrant.. as we see in amoled display.. and the charger in box is of 5 watts.. takes more than 3 hours to charge from 0 to 100.. so guys be prepare to buy 18 watts charger . Finally I am an android user, it was my first Iapple phone, I promise u guys the iOS is so smooth.. overall the phone is damn good.... close eyes to buy it.. thanks t...\\nREAD MORE',\n",
       " 'It’s been almost a month since I have been using this phone. I upgraded from an iPhone 8. The main issue with my 8 was battery and this phone is just awesome when it comes to battery. It lasts a day and a half for me with my regular use , internet connected always with 4g\\nCan’t move forward without saying this. Battery of this phone is a life saver when I am traveling or at work when I don’t get the option to charge\\nCamera is superb. Front cam selfies and back cam photos are just awesome.\\n...\\nREAD MORE',\n",
       " 'Really worth of money. i just love it. It is the best phone ever.',\n",
       " 'iphone 11 is a very good phone to buy only if you can compromise for the display. The display on this is device is pretty good but you can get other options with better displays in this price segment.\\nIf you can survive with an HD+ LCD panel with thicker bezels and a notch up top then this is a very good phone for you.\\nCameras are awesome, battery backup excellent, great performance and a decent premium look. Good job Apple !',\n",
       " 'It’s a must buy who is looking for an upgrade from previous generation of iPhones. If you are using XR then still you can hold on for sometime and upgrade to 2020 model else this phone is a must buy . Camera quality is amazing and wide angle is something to count upon. Performance wise it’s amazing and feels premium while holding in hand. So a big YES for this device. Go for 128 GB variant as the 4K videos will occupy lots of space and the storage can get over very quickly. Try to buy it with...\\nREAD MORE',\n",
       " 'Value for money❤️❤️\\nIts awesome mobile phone in the world ...\\nDisplay was very good and bright ..\\nTrust me freinds you r never regret after Buying..\\nJust go for it....\\nI love this phone and i switch to iphone x to 11',\n",
       " 'Totally in love with this ❤ the camera quality is amazing just love it 😘😘😘 itsss dammnnnnnn amazing... Must buy iPhone 11 this is my best experience ever ☀👌👌🧡🧡🧡🧡🧡 thanku apple ❤',\n",
       " \"It's my first time to use iOS phone and I am loving my upgradation 😍😍 I love the color, I love the assebility of the phone....I need to learn more about its functionality, but as far as I have seen, it's quite easy and it has a lot of functions to work on, specially if you are a content writer or a blogger you get a lot of content creation platforms and they are really amazing.\\n\\nThis phone not only for good quality photography but a lot of other task too.😍💯\",\n",
       " 'Best budget Iphone till date ❤️ go for it guys without second thought. Let me explain you guys about Camera, Display, battery, and performance.\\n\\nCamera: at this price range there is no comparison of camera, you’ll love the picture quality as well as video quality. I am a Vlogger I wanted an iPhone with 4k video by front camera and I got this phone and I am more than happy 😃\\n\\nBattery: I use this phone roughly as I am active social media person and I have a youtube channel. so the battery ba...\\nREAD MORE',\n",
       " \"Iphone is just awesome.. battery backup is very very nice.. continuously for 10 hours we can use it.camera is just awesome.. display is just fab.i love it alot..i had to wait 15 days for it as i pre ordered it..overalll it's worth the price..these all images are clicked by my iPhone..and i love it.\",\n",
       " 'Excellent camera, good performance, no lag. The lcd display is also good.. but difference come when we watch movie in prime and Netflix, the colours are not vibrant.. as we see in amoled display.. and the charger in box is of 5 watts.. takes more than 3 hours to charge from 0 to 100.. so guys be prepare to buy 18 watts charger . Finally I am an android user, it was my first Iapple phone, I promise u guys the iOS is so smooth.. overall the phone is damn good.... close eyes to buy it.. thanks t...\\nREAD MORE',\n",
       " 'It’s been almost a month since I have been using this phone. I upgraded from an iPhone 8. The main issue with my 8 was battery and this phone is just awesome when it comes to battery. It lasts a day and a half for me with my regular use , internet connected always with 4g\\nCan’t move forward without saying this. Battery of this phone is a life saver when I am traveling or at work when I don’t get the option to charge\\nCamera is superb. Front cam selfies and back cam photos are just awesome.\\n...\\nREAD MORE',\n",
       " 'Really worth of money. i just love it. It is the best phone ever.']"
      ]
     },
     "execution_count": 104,
     "metadata": {},
     "output_type": "execute_result"
    }
   ],
   "source": [
    "Full_Review"
   ]
  },
  {
   "cell_type": "code",
   "execution_count": 105,
   "id": "4373509b",
   "metadata": {},
   "outputs": [
    {
     "data": {
      "text/plain": [
       "100"
      ]
     },
     "execution_count": 105,
     "metadata": {},
     "output_type": "execute_result"
    }
   ],
   "source": [
    "len(Full_Review)"
   ]
  },
  {
   "cell_type": "code",
   "execution_count": 106,
   "id": "0ff9c0ee",
   "metadata": {},
   "outputs": [
    {
     "data": {
      "text/html": [
       "<div>\n",
       "<style scoped>\n",
       "    .dataframe tbody tr th:only-of-type {\n",
       "        vertical-align: middle;\n",
       "    }\n",
       "\n",
       "    .dataframe tbody tr th {\n",
       "        vertical-align: top;\n",
       "    }\n",
       "\n",
       "    .dataframe thead th {\n",
       "        text-align: right;\n",
       "    }\n",
       "</style>\n",
       "<table border=\"1\" class=\"dataframe\">\n",
       "  <thead>\n",
       "    <tr style=\"text-align: right;\">\n",
       "      <th></th>\n",
       "      <th>rating</th>\n",
       "      <th>Review</th>\n",
       "      <th>Full_Review</th>\n",
       "    </tr>\n",
       "  </thead>\n",
       "  <tbody>\n",
       "    <tr>\n",
       "      <th>0</th>\n",
       "      <td>5</td>\n",
       "      <td>Highly recommended</td>\n",
       "      <td>iphone 11 is a very good phone to buy only if ...</td>\n",
       "    </tr>\n",
       "    <tr>\n",
       "      <th>1</th>\n",
       "      <td>5</td>\n",
       "      <td>Perfect product!</td>\n",
       "      <td>It’s a must buy who is looking for an upgrade ...</td>\n",
       "    </tr>\n",
       "    <tr>\n",
       "      <th>2</th>\n",
       "      <td>5</td>\n",
       "      <td>Perfect product!</td>\n",
       "      <td>Value for money❤️❤️\\nIts awesome mobile phone ...</td>\n",
       "    </tr>\n",
       "    <tr>\n",
       "      <th>3</th>\n",
       "      <td>5</td>\n",
       "      <td>Classy product</td>\n",
       "      <td>Totally in love with this ❤ the camera quality...</td>\n",
       "    </tr>\n",
       "    <tr>\n",
       "      <th>4</th>\n",
       "      <td>5</td>\n",
       "      <td>Highly recommended</td>\n",
       "      <td>It's my first time to use iOS phone and I am l...</td>\n",
       "    </tr>\n",
       "    <tr>\n",
       "      <th>...</th>\n",
       "      <td>...</td>\n",
       "      <td>...</td>\n",
       "      <td>...</td>\n",
       "    </tr>\n",
       "    <tr>\n",
       "      <th>95</th>\n",
       "      <td>5</td>\n",
       "      <td>Worth every penny</td>\n",
       "      <td>Best budget Iphone till date ❤️ go for it guys...</td>\n",
       "    </tr>\n",
       "    <tr>\n",
       "      <th>96</th>\n",
       "      <td>5</td>\n",
       "      <td>Perfect product!</td>\n",
       "      <td>Iphone is just awesome.. battery backup is ver...</td>\n",
       "    </tr>\n",
       "    <tr>\n",
       "      <th>97</th>\n",
       "      <td>4</td>\n",
       "      <td>Simply awesome</td>\n",
       "      <td>Excellent camera, good performance, no lag. Th...</td>\n",
       "    </tr>\n",
       "    <tr>\n",
       "      <th>98</th>\n",
       "      <td>5</td>\n",
       "      <td>Worth every penny</td>\n",
       "      <td>It’s been almost a month since I have been usi...</td>\n",
       "    </tr>\n",
       "    <tr>\n",
       "      <th>99</th>\n",
       "      <td>5</td>\n",
       "      <td>Terrific</td>\n",
       "      <td>Really worth of money. i just love it. It is t...</td>\n",
       "    </tr>\n",
       "  </tbody>\n",
       "</table>\n",
       "<p>100 rows × 3 columns</p>\n",
       "</div>"
      ],
      "text/plain": [
       "   rating              Review  \\\n",
       "0       5  Highly recommended   \n",
       "1       5    Perfect product!   \n",
       "2       5    Perfect product!   \n",
       "3       5      Classy product   \n",
       "4       5  Highly recommended   \n",
       "..    ...                 ...   \n",
       "95      5   Worth every penny   \n",
       "96      5    Perfect product!   \n",
       "97      4      Simply awesome   \n",
       "98      5   Worth every penny   \n",
       "99      5            Terrific   \n",
       "\n",
       "                                          Full_Review  \n",
       "0   iphone 11 is a very good phone to buy only if ...  \n",
       "1   It’s a must buy who is looking for an upgrade ...  \n",
       "2   Value for money❤️❤️\\nIts awesome mobile phone ...  \n",
       "3   Totally in love with this ❤ the camera quality...  \n",
       "4   It's my first time to use iOS phone and I am l...  \n",
       "..                                                ...  \n",
       "95  Best budget Iphone till date ❤️ go for it guys...  \n",
       "96  Iphone is just awesome.. battery backup is ver...  \n",
       "97  Excellent camera, good performance, no lag. Th...  \n",
       "98  It’s been almost a month since I have been usi...  \n",
       "99  Really worth of money. i just love it. It is t...  \n",
       "\n",
       "[100 rows x 3 columns]"
      ]
     },
     "execution_count": 106,
     "metadata": {},
     "output_type": "execute_result"
    }
   ],
   "source": [
    "iphone=pd.DataFrame({})\n",
    "iphone[\"rating\"]=Rating\n",
    "iphone[\"Review\"]=Review\n",
    "iphone[\"Full_Review\"]=Full_Review\n",
    "iphone"
   ]
  },
  {
   "cell_type": "markdown",
   "id": "90a6a16a",
   "metadata": {},
   "source": [
    "# Q8."
   ]
  },
  {
   "cell_type": "code",
   "execution_count": 109,
   "id": "865e5afa",
   "metadata": {},
   "outputs": [
    {
     "data": {
      "text/plain": [
       "<selenium.webdriver.chrome.webdriver.WebDriver (session=\"9bb0f5eb548faccae896cc312c57b34a\")>"
      ]
     },
     "execution_count": 109,
     "metadata": {},
     "output_type": "execute_result"
    }
   ],
   "source": [
    "driver=webdriver.Chrome(\"chromedriver\")\n",
    "driver"
   ]
  },
  {
   "cell_type": "code",
   "execution_count": 110,
   "id": "bc951bbf",
   "metadata": {},
   "outputs": [],
   "source": [
    "url=\" https://www.flipkart.com/\"\n",
    "driver.get(url)\n",
    "driver.maximize_window()"
   ]
  },
  {
   "cell_type": "code",
   "execution_count": 111,
   "id": "ed9adf91",
   "metadata": {},
   "outputs": [],
   "source": [
    "search_bar=driver.find_element_by_xpath(\"//input[@class='_3704LK']\")\n",
    "search_bar\n",
    "search_bar.send_keys(\"sneakers\")\n"
   ]
  },
  {
   "cell_type": "code",
   "execution_count": 112,
   "id": "93cef85b",
   "metadata": {},
   "outputs": [],
   "source": [
    "search_btn=driver.find_element_by_xpath(\"//button[@class='L0Z3Pu']\")\n",
    "search_btn\n",
    "search_btn.click()"
   ]
  },
  {
   "cell_type": "code",
   "execution_count": 137,
   "id": "fa0249ff",
   "metadata": {},
   "outputs": [],
   "source": [
    "Brand=[]\n",
    "for i in range(0,3):\n",
    "    try:\n",
    "        brand=driver.find_elements_by_xpath(\"//div[starts-with(@class,'_2WkVRV')]\")\n",
    "        for i in brand:\n",
    "            Brand.append(i.text)\n",
    "    except:\n",
    "        Brand.append(\"-\")\n",
    "next_button=driver.find_element_by_xpath(\"//a[@class='_1LKTO3']//span\")\n",
    "if next_button.text==\"NEXT\":\n",
    "    next_button.click() \n"
   ]
  },
  {
   "cell_type": "code",
   "execution_count": 138,
   "id": "0d497ce8",
   "metadata": {},
   "outputs": [
    {
     "data": {
      "text/plain": [
       "['BRUTON',\n",
       " 'tigonis',\n",
       " 'Chevit',\n",
       " 'BRUTON',\n",
       " 'ASTEROID',\n",
       " 'Chevit',\n",
       " 'Longwalk',\n",
       " 'PROVOGUE',\n",
       " 'luxury fashion',\n",
       " 'Magnolia',\n",
       " 'PEHANOSA',\n",
       " 'DUCATI',\n",
       " 'Creer',\n",
       " 'SCATCHITE',\n",
       " 'BIRDE',\n",
       " 'KNIGHT WALKERS',\n",
       " 'Numenzo',\n",
       " 'ASTEROID',\n",
       " 'Numenzo',\n",
       " 'PROVOGUE',\n",
       " 'RODDICK SHOES',\n",
       " 'Shoes Bank',\n",
       " 'VIPSJAZZY',\n",
       " 'PROVOGUE',\n",
       " 'Arohi',\n",
       " 'Kreverse',\n",
       " 'World Wear Footwear',\n",
       " 'PROVOGUE',\n",
       " 'Numenzo',\n",
       " 'Absolute comfort',\n",
       " 'Kraasa',\n",
       " 'French Connection',\n",
       " 'SPARX',\n",
       " 'believe',\n",
       " 'Jack Diamond',\n",
       " 'BRUTON',\n",
       " 'Airland',\n",
       " 'SHOEFLY',\n",
       " 'Zsyto',\n",
       " 'sixXplus',\n",
       " 'BRUTON',\n",
       " 'tigonis',\n",
       " 'Chevit',\n",
       " 'BRUTON',\n",
       " 'ASTEROID',\n",
       " 'Chevit',\n",
       " 'Longwalk',\n",
       " 'PROVOGUE',\n",
       " 'luxury fashion',\n",
       " 'Magnolia',\n",
       " 'PEHANOSA',\n",
       " 'DUCATI',\n",
       " 'Creer',\n",
       " 'SCATCHITE',\n",
       " 'BIRDE',\n",
       " 'KNIGHT WALKERS',\n",
       " 'Numenzo',\n",
       " 'ASTEROID',\n",
       " 'Numenzo',\n",
       " 'PROVOGUE',\n",
       " 'RODDICK SHOES',\n",
       " 'Shoes Bank',\n",
       " 'VIPSJAZZY',\n",
       " 'PROVOGUE',\n",
       " 'Arohi',\n",
       " 'Kreverse',\n",
       " 'World Wear Footwear',\n",
       " 'PROVOGUE',\n",
       " 'Numenzo',\n",
       " 'Absolute comfort',\n",
       " 'Kraasa',\n",
       " 'French Connection',\n",
       " 'SPARX',\n",
       " 'believe',\n",
       " 'Jack Diamond',\n",
       " 'BRUTON',\n",
       " 'Airland',\n",
       " 'SHOEFLY',\n",
       " 'Zsyto',\n",
       " 'sixXplus',\n",
       " 'BRUTON',\n",
       " 'tigonis',\n",
       " 'Chevit',\n",
       " 'BRUTON',\n",
       " 'ASTEROID',\n",
       " 'Chevit',\n",
       " 'Longwalk',\n",
       " 'PROVOGUE',\n",
       " 'luxury fashion',\n",
       " 'Magnolia',\n",
       " 'PEHANOSA',\n",
       " 'DUCATI',\n",
       " 'Creer',\n",
       " 'SCATCHITE',\n",
       " 'BIRDE',\n",
       " 'KNIGHT WALKERS',\n",
       " 'Numenzo',\n",
       " 'ASTEROID',\n",
       " 'Numenzo',\n",
       " 'PROVOGUE',\n",
       " 'RODDICK SHOES',\n",
       " 'Shoes Bank',\n",
       " 'VIPSJAZZY',\n",
       " 'PROVOGUE',\n",
       " 'Arohi',\n",
       " 'Kreverse',\n",
       " 'World Wear Footwear',\n",
       " 'PROVOGUE',\n",
       " 'Numenzo',\n",
       " 'Absolute comfort',\n",
       " 'Kraasa',\n",
       " 'French Connection',\n",
       " 'SPARX',\n",
       " 'believe',\n",
       " 'Jack Diamond',\n",
       " 'BRUTON',\n",
       " 'Airland',\n",
       " 'SHOEFLY',\n",
       " 'Zsyto',\n",
       " 'sixXplus']"
      ]
     },
     "execution_count": 138,
     "metadata": {},
     "output_type": "execute_result"
    }
   ],
   "source": [
    "Brand"
   ]
  },
  {
   "cell_type": "code",
   "execution_count": 117,
   "id": "d5c356f2",
   "metadata": {},
   "outputs": [
    {
     "data": {
      "text/plain": [
       "120"
      ]
     },
     "execution_count": 117,
     "metadata": {},
     "output_type": "execute_result"
    }
   ],
   "source": [
    "len(Brand)"
   ]
  },
  {
   "cell_type": "code",
   "execution_count": 140,
   "id": "23c36884",
   "metadata": {},
   "outputs": [],
   "source": [
    "Price=[]\n",
    "for i in range(0,3):\n",
    "    try:\n",
    "        price=driver.find_elements_by_xpath(\"//div[starts-with(@class,'_30jeq3')]\")\n",
    "        for i in price:\n",
    "            Price.append(i.text)\n",
    "    except:\n",
    "        Price.append(\"-\")\n",
    "next_button=driver.find_element_by_xpath(\"//a[@class='_1LKTO3']//span\")\n",
    "if next_button.text==\"NEXT\":\n",
    "    next_button.click() \n"
   ]
  },
  {
   "cell_type": "code",
   "execution_count": 141,
   "id": "f0fabf8d",
   "metadata": {},
   "outputs": [
    {
     "data": {
      "text/plain": [
       "['₹444',\n",
       " '₹399',\n",
       " '₹536',\n",
       " '₹474',\n",
       " '₹499',\n",
       " '₹447',\n",
       " '₹236',\n",
       " '₹789',\n",
       " '₹449',\n",
       " '₹356',\n",
       " '₹371',\n",
       " '₹1,289',\n",
       " '₹398',\n",
       " '₹398',\n",
       " '₹359',\n",
       " '₹599',\n",
       " '₹429',\n",
       " '₹499',\n",
       " '₹449',\n",
       " '₹789',\n",
       " '₹474',\n",
       " '₹349',\n",
       " '₹399',\n",
       " '₹789',\n",
       " '₹460',\n",
       " '₹266',\n",
       " '₹240',\n",
       " '₹789',\n",
       " '₹398',\n",
       " '₹198',\n",
       " '₹444',\n",
       " '₹969',\n",
       " '₹649',\n",
       " '₹449',\n",
       " '₹630',\n",
       " '₹420',\n",
       " '₹250',\n",
       " '₹362',\n",
       " '₹398',\n",
       " '₹499',\n",
       " '₹447',\n",
       " '₹236',\n",
       " '₹474',\n",
       " '₹399',\n",
       " '₹449',\n",
       " '₹444',\n",
       " '₹399',\n",
       " '₹536',\n",
       " '₹474',\n",
       " '₹499',\n",
       " '₹447',\n",
       " '₹236',\n",
       " '₹789',\n",
       " '₹449',\n",
       " '₹356',\n",
       " '₹371',\n",
       " '₹1,289',\n",
       " '₹398',\n",
       " '₹398',\n",
       " '₹359',\n",
       " '₹599',\n",
       " '₹429',\n",
       " '₹499',\n",
       " '₹449',\n",
       " '₹789',\n",
       " '₹474',\n",
       " '₹349',\n",
       " '₹399',\n",
       " '₹789',\n",
       " '₹460',\n",
       " '₹266',\n",
       " '₹240',\n",
       " '₹789',\n",
       " '₹398',\n",
       " '₹198',\n",
       " '₹444',\n",
       " '₹969',\n",
       " '₹649',\n",
       " '₹449',\n",
       " '₹630',\n",
       " '₹420',\n",
       " '₹250',\n",
       " '₹362',\n",
       " '₹398',\n",
       " '₹499',\n",
       " '₹447',\n",
       " '₹236',\n",
       " '₹474',\n",
       " '₹399',\n",
       " '₹449',\n",
       " '₹444',\n",
       " '₹399',\n",
       " '₹536',\n",
       " '₹474',\n",
       " '₹499',\n",
       " '₹447',\n",
       " '₹236',\n",
       " '₹789',\n",
       " '₹449',\n",
       " '₹356',\n",
       " '₹371',\n",
       " '₹1,289',\n",
       " '₹398',\n",
       " '₹398',\n",
       " '₹359',\n",
       " '₹599',\n",
       " '₹429',\n",
       " '₹499',\n",
       " '₹449',\n",
       " '₹789',\n",
       " '₹474',\n",
       " '₹349',\n",
       " '₹399',\n",
       " '₹789',\n",
       " '₹460',\n",
       " '₹266',\n",
       " '₹240',\n",
       " '₹789',\n",
       " '₹398',\n",
       " '₹198',\n",
       " '₹444',\n",
       " '₹969',\n",
       " '₹649',\n",
       " '₹449',\n",
       " '₹630',\n",
       " '₹420',\n",
       " '₹250',\n",
       " '₹362',\n",
       " '₹398',\n",
       " '₹499',\n",
       " '₹447',\n",
       " '₹236',\n",
       " '₹474',\n",
       " '₹399',\n",
       " '₹449']"
      ]
     },
     "execution_count": 141,
     "metadata": {},
     "output_type": "execute_result"
    }
   ],
   "source": [
    "Price"
   ]
  },
  {
   "cell_type": "code",
   "execution_count": 120,
   "id": "ae14b882",
   "metadata": {},
   "outputs": [
    {
     "data": {
      "text/plain": [
       "120"
      ]
     },
     "execution_count": 120,
     "metadata": {},
     "output_type": "execute_result"
    }
   ],
   "source": [
    "len(Price)"
   ]
  },
  {
   "cell_type": "code",
   "execution_count": 142,
   "id": "451f92fb",
   "metadata": {},
   "outputs": [],
   "source": [
    "Discount=[]\n",
    "for i in range(0,3):\n",
    "    try:\n",
    "        discount=driver.find_elements_by_xpath(\"//div[starts-with(@class,'_3Ay6Sb')]\")\n",
    "        for i in discount:\n",
    "            Discount.append(i.text)\n",
    "    except:\n",
    "        Discount.append(\"-\")\n",
    "next_button=driver.find_element_by_xpath(\"//a[@class='_1LKTO3']//span\")\n",
    "if next_button.text==\"NEXT\":\n",
    "    next_button.click() \n"
   ]
  },
  {
   "cell_type": "code",
   "execution_count": 143,
   "id": "a0d41277",
   "metadata": {},
   "outputs": [
    {
     "data": {
      "text/plain": [
       "['82% off',\n",
       " '60% off',\n",
       " '66% off',\n",
       " '86% off',\n",
       " '75% off',\n",
       " '75% off',\n",
       " '52% off',\n",
       " '64% off',\n",
       " '65% off',\n",
       " '64% off',\n",
       " '62% off',\n",
       " '55% off',\n",
       " '60% off',\n",
       " '60% off',\n",
       " '28% off',\n",
       " '55% off',\n",
       " '66% off',\n",
       " '50% off',\n",
       " '77% off',\n",
       " '65% off',\n",
       " '52% off',\n",
       " '65% off',\n",
       " '60% off',\n",
       " '80% off',\n",
       " '53% off',\n",
       " '73% off',\n",
       " '51% off',\n",
       " '80% off',\n",
       " '60% off',\n",
       " '60% off',\n",
       " '55% off',\n",
       " '60% off',\n",
       " '7% off',\n",
       " '55% off',\n",
       " '36% off',\n",
       " '64% off',\n",
       " '49% off',\n",
       " '72% off',\n",
       " '69% off',\n",
       " '64% off',\n",
       " '75% off',\n",
       " '52% off',\n",
       " '86% off',\n",
       " '60% off',\n",
       " '55% off',\n",
       " '82% off',\n",
       " '60% off',\n",
       " '66% off',\n",
       " '86% off',\n",
       " '75% off',\n",
       " '75% off',\n",
       " '52% off',\n",
       " '64% off',\n",
       " '65% off',\n",
       " '64% off',\n",
       " '62% off',\n",
       " '55% off',\n",
       " '60% off',\n",
       " '60% off',\n",
       " '28% off',\n",
       " '55% off',\n",
       " '66% off',\n",
       " '50% off',\n",
       " '77% off',\n",
       " '65% off',\n",
       " '52% off',\n",
       " '65% off',\n",
       " '60% off',\n",
       " '80% off',\n",
       " '53% off',\n",
       " '73% off',\n",
       " '51% off',\n",
       " '80% off',\n",
       " '60% off',\n",
       " '60% off',\n",
       " '55% off',\n",
       " '60% off',\n",
       " '7% off',\n",
       " '55% off',\n",
       " '36% off',\n",
       " '64% off',\n",
       " '49% off',\n",
       " '72% off',\n",
       " '69% off',\n",
       " '64% off',\n",
       " '75% off',\n",
       " '52% off',\n",
       " '86% off',\n",
       " '60% off',\n",
       " '55% off',\n",
       " '82% off',\n",
       " '60% off',\n",
       " '66% off',\n",
       " '86% off',\n",
       " '75% off',\n",
       " '75% off',\n",
       " '52% off',\n",
       " '64% off',\n",
       " '65% off',\n",
       " '64% off',\n",
       " '62% off',\n",
       " '55% off',\n",
       " '60% off',\n",
       " '60% off',\n",
       " '28% off',\n",
       " '55% off',\n",
       " '66% off',\n",
       " '50% off',\n",
       " '77% off',\n",
       " '65% off',\n",
       " '52% off',\n",
       " '65% off',\n",
       " '60% off',\n",
       " '80% off',\n",
       " '53% off',\n",
       " '73% off',\n",
       " '51% off',\n",
       " '80% off',\n",
       " '60% off',\n",
       " '60% off',\n",
       " '55% off',\n",
       " '60% off',\n",
       " '7% off',\n",
       " '55% off',\n",
       " '36% off',\n",
       " '64% off',\n",
       " '49% off',\n",
       " '72% off',\n",
       " '69% off',\n",
       " '64% off',\n",
       " '75% off',\n",
       " '52% off',\n",
       " '86% off',\n",
       " '60% off',\n",
       " '55% off']"
      ]
     },
     "execution_count": 143,
     "metadata": {},
     "output_type": "execute_result"
    }
   ],
   "source": [
    "Discount"
   ]
  },
  {
   "cell_type": "code",
   "execution_count": 123,
   "id": "a763e4c0",
   "metadata": {},
   "outputs": [
    {
     "data": {
      "text/plain": [
       "120"
      ]
     },
     "execution_count": 123,
     "metadata": {},
     "output_type": "execute_result"
    }
   ],
   "source": [
    "len(Discount)"
   ]
  },
  {
   "cell_type": "code",
   "execution_count": 144,
   "id": "e3c53fe9",
   "metadata": {},
   "outputs": [],
   "source": [
    "Product_des=[]\n",
    "for i in range(0,3):\n",
    "    try:\n",
    "        product_des=driver.find_elements_by_xpath(\"//a[starts-with(@class,'IRpwTa')]\")\n",
    "        for i in product_des:\n",
    "            Product_des.append(i.text)\n",
    "    except:\n",
    "        Product_des.append(\"-\")\n",
    "next_button=driver.find_element_by_xpath(\"//a[@class='_1LKTO3']//span\")\n",
    "if next_button.text==\"NEXT\":\n",
    "    next_button.click() \n"
   ]
  },
  {
   "cell_type": "code",
   "execution_count": 145,
   "id": "92c46d2a",
   "metadata": {},
   "outputs": [
    {
     "data": {
      "text/plain": [
       "['Modern & Trendy Collection Combo Pack of 02 Shoes for M...',\n",
       " \"Luxury Branded Fashionable Men's Casual Walking Partywe...\",\n",
       " 'Super Stylish & Trendy Combo Pack of 02 Pairs Sneakers ...',\n",
       " 'Combo Pack Of 4 Casual Shoes Loafer Shoes Sneakers For ...',\n",
       " \"Original Luxury Branded Fashionable Men's Casual Walkin...\",\n",
       " 'Perfect & Affordable Combo Pack of 02 Pairs Sneakers Ou...',\n",
       " 'Men Boxer Sneakers For Men',\n",
       " 'Sneakers For Men',\n",
       " 'New Collection Pair of Stylish Shoe Sneakers For Men',\n",
       " 'Sneakers For Men',\n",
       " 'Sneakers For Men',\n",
       " 'Sneakers For Men',\n",
       " 'Sneakers For Men',\n",
       " 'Sneakers Sneakers For Men',\n",
       " 'Birde Trendy Casual Shoes Sneakers For Men',\n",
       " 'Sneakers For Men',\n",
       " 'Sneakers For Men',\n",
       " \"Original Luxury Branded Fashionable Men's Casual Walkin...\",\n",
       " 'Sneakers For Men',\n",
       " 'Sneakers For Men',\n",
       " 'Fashion Outdoor Canvas Casual Light Weight Lace-up Even...',\n",
       " \"White Sneaker For Men's/Boy's Sneakers For Men\",\n",
       " 'Sneakers For Men',\n",
       " 'Sneakers For Men',\n",
       " 'Sneakers For Men',\n",
       " 'Sneakers For Men',\n",
       " '5011-Latest Collection Stylish Casual Loafer Sneakers S...',\n",
       " 'Sneakers For Men',\n",
       " 'Sneakers For Men',\n",
       " 'SOFT Sneakers For Men',\n",
       " 'Series 7 Sneakers For Men',\n",
       " 'Sneakers For Men',\n",
       " 'SM439G Sneakers For Men',\n",
       " 'Sneakers for men(black_6) Sneakers For Men',\n",
       " 'Canvas Sneaker Sneakers For Men',\n",
       " 'Men Combo Pack of 2 Sports Shoes & Casual Sneakers For ...',\n",
       " 'shoe Sneakers For Men',\n",
       " 'Combo Men Pack of 2 Loafers Shoes Sneakers For Men',\n",
       " 'Sneakers For Men',\n",
       " 'Sneakers For Men',\n",
       " 'Modern & Trendy Collection Combo Pack of 02 Shoes for M...',\n",
       " \"Luxury Branded Fashionable Men's Casual Walking Partywe...\",\n",
       " 'Super Stylish & Trendy Combo Pack of 02 Pairs Sneakers ...',\n",
       " 'Combo Pack Of 4 Casual Shoes Loafer Shoes Sneakers For ...',\n",
       " \"Original Luxury Branded Fashionable Men's Casual Walkin...\",\n",
       " 'Perfect & Affordable Combo Pack of 02 Pairs Sneakers Ou...',\n",
       " 'Men Boxer Sneakers For Men',\n",
       " 'Sneakers For Men',\n",
       " 'New Collection Pair of Stylish Shoe Sneakers For Men',\n",
       " 'Sneakers For Men',\n",
       " 'Sneakers For Men',\n",
       " 'Sneakers For Men',\n",
       " 'Sneakers For Men',\n",
       " 'Sneakers Sneakers For Men',\n",
       " 'Birde Trendy Casual Shoes Sneakers For Men',\n",
       " 'Sneakers For Men',\n",
       " 'Sneakers For Men',\n",
       " \"Original Luxury Branded Fashionable Men's Casual Walkin...\",\n",
       " 'Sneakers For Men',\n",
       " 'Sneakers For Men',\n",
       " 'Fashion Outdoor Canvas Casual Light Weight Lace-up Even...',\n",
       " \"White Sneaker For Men's/Boy's Sneakers For Men\",\n",
       " 'Sneakers For Men',\n",
       " 'Sneakers For Men',\n",
       " 'Sneakers For Men',\n",
       " 'Sneakers For Men',\n",
       " '5011-Latest Collection Stylish Casual Loafer Sneakers S...',\n",
       " 'Sneakers For Men',\n",
       " 'Sneakers For Men',\n",
       " 'SOFT Sneakers For Men',\n",
       " 'Series 7 Sneakers For Men',\n",
       " 'Sneakers For Men',\n",
       " 'SM439G Sneakers For Men',\n",
       " 'Sneakers for men(black_6) Sneakers For Men',\n",
       " 'Canvas Sneaker Sneakers For Men',\n",
       " 'Men Combo Pack of 2 Sports Shoes & Casual Sneakers For ...',\n",
       " 'shoe Sneakers For Men',\n",
       " 'Combo Men Pack of 2 Loafers Shoes Sneakers For Men',\n",
       " 'Sneakers For Men',\n",
       " 'Sneakers For Men',\n",
       " 'Modern & Trendy Collection Combo Pack of 02 Shoes for M...',\n",
       " \"Luxury Branded Fashionable Men's Casual Walking Partywe...\",\n",
       " 'Super Stylish & Trendy Combo Pack of 02 Pairs Sneakers ...',\n",
       " 'Combo Pack Of 4 Casual Shoes Loafer Shoes Sneakers For ...',\n",
       " \"Original Luxury Branded Fashionable Men's Casual Walkin...\",\n",
       " 'Perfect & Affordable Combo Pack of 02 Pairs Sneakers Ou...',\n",
       " 'Men Boxer Sneakers For Men',\n",
       " 'Sneakers For Men',\n",
       " 'New Collection Pair of Stylish Shoe Sneakers For Men',\n",
       " 'Sneakers For Men',\n",
       " 'Sneakers For Men',\n",
       " 'Sneakers For Men',\n",
       " 'Sneakers For Men',\n",
       " 'Sneakers Sneakers For Men',\n",
       " 'Birde Trendy Casual Shoes Sneakers For Men',\n",
       " 'Sneakers For Men',\n",
       " 'Sneakers For Men',\n",
       " \"Original Luxury Branded Fashionable Men's Casual Walkin...\",\n",
       " 'Sneakers For Men',\n",
       " 'Sneakers For Men',\n",
       " 'Fashion Outdoor Canvas Casual Light Weight Lace-up Even...',\n",
       " \"White Sneaker For Men's/Boy's Sneakers For Men\",\n",
       " 'Sneakers For Men',\n",
       " 'Sneakers For Men',\n",
       " 'Sneakers For Men',\n",
       " 'Sneakers For Men',\n",
       " '5011-Latest Collection Stylish Casual Loafer Sneakers S...',\n",
       " 'Sneakers For Men',\n",
       " 'Sneakers For Men',\n",
       " 'SOFT Sneakers For Men',\n",
       " 'Series 7 Sneakers For Men',\n",
       " 'Sneakers For Men',\n",
       " 'SM439G Sneakers For Men',\n",
       " 'Sneakers for men(black_6) Sneakers For Men',\n",
       " 'Canvas Sneaker Sneakers For Men',\n",
       " 'Men Combo Pack of 2 Sports Shoes & Casual Sneakers For ...',\n",
       " 'shoe Sneakers For Men',\n",
       " 'Combo Men Pack of 2 Loafers Shoes Sneakers For Men',\n",
       " 'Sneakers For Men',\n",
       " 'Sneakers For Men']"
      ]
     },
     "execution_count": 145,
     "metadata": {},
     "output_type": "execute_result"
    }
   ],
   "source": [
    "Product_des"
   ]
  },
  {
   "cell_type": "code",
   "execution_count": 146,
   "id": "ac7a1b32",
   "metadata": {},
   "outputs": [
    {
     "data": {
      "text/plain": [
       "120"
      ]
     },
     "execution_count": 146,
     "metadata": {},
     "output_type": "execute_result"
    }
   ],
   "source": [
    "len(Product_des)"
   ]
  },
  {
   "cell_type": "code",
   "execution_count": 147,
   "id": "4d35513a",
   "metadata": {},
   "outputs": [
    {
     "data": {
      "text/html": [
       "<div>\n",
       "<style scoped>\n",
       "    .dataframe tbody tr th:only-of-type {\n",
       "        vertical-align: middle;\n",
       "    }\n",
       "\n",
       "    .dataframe tbody tr th {\n",
       "        vertical-align: top;\n",
       "    }\n",
       "\n",
       "    .dataframe thead th {\n",
       "        text-align: right;\n",
       "    }\n",
       "</style>\n",
       "<table border=\"1\" class=\"dataframe\">\n",
       "  <thead>\n",
       "    <tr style=\"text-align: right;\">\n",
       "      <th></th>\n",
       "      <th>Brand</th>\n",
       "      <th>Price</th>\n",
       "      <th>Discount</th>\n",
       "      <th>Product_des</th>\n",
       "    </tr>\n",
       "  </thead>\n",
       "  <tbody>\n",
       "    <tr>\n",
       "      <th>0</th>\n",
       "      <td>BRUTON</td>\n",
       "      <td>₹444</td>\n",
       "      <td>82% off</td>\n",
       "      <td>Modern &amp; Trendy Collection Combo Pack of 02 Sh...</td>\n",
       "    </tr>\n",
       "    <tr>\n",
       "      <th>1</th>\n",
       "      <td>tigonis</td>\n",
       "      <td>₹399</td>\n",
       "      <td>60% off</td>\n",
       "      <td>Luxury Branded Fashionable Men's Casual Walkin...</td>\n",
       "    </tr>\n",
       "    <tr>\n",
       "      <th>2</th>\n",
       "      <td>Chevit</td>\n",
       "      <td>₹536</td>\n",
       "      <td>66% off</td>\n",
       "      <td>Super Stylish &amp; Trendy Combo Pack of 02 Pairs ...</td>\n",
       "    </tr>\n",
       "    <tr>\n",
       "      <th>3</th>\n",
       "      <td>BRUTON</td>\n",
       "      <td>₹474</td>\n",
       "      <td>86% off</td>\n",
       "      <td>Combo Pack Of 4 Casual Shoes Loafer Shoes Snea...</td>\n",
       "    </tr>\n",
       "    <tr>\n",
       "      <th>4</th>\n",
       "      <td>ASTEROID</td>\n",
       "      <td>₹499</td>\n",
       "      <td>75% off</td>\n",
       "      <td>Original Luxury Branded Fashionable Men's Casu...</td>\n",
       "    </tr>\n",
       "    <tr>\n",
       "      <th>...</th>\n",
       "      <td>...</td>\n",
       "      <td>...</td>\n",
       "      <td>...</td>\n",
       "      <td>...</td>\n",
       "    </tr>\n",
       "    <tr>\n",
       "      <th>95</th>\n",
       "      <td>KNIGHT WALKERS</td>\n",
       "      <td>₹447</td>\n",
       "      <td>75% off</td>\n",
       "      <td>Sneakers For Men</td>\n",
       "    </tr>\n",
       "    <tr>\n",
       "      <th>96</th>\n",
       "      <td>Numenzo</td>\n",
       "      <td>₹236</td>\n",
       "      <td>52% off</td>\n",
       "      <td>Sneakers For Men</td>\n",
       "    </tr>\n",
       "    <tr>\n",
       "      <th>97</th>\n",
       "      <td>ASTEROID</td>\n",
       "      <td>₹789</td>\n",
       "      <td>64% off</td>\n",
       "      <td>Original Luxury Branded Fashionable Men's Casu...</td>\n",
       "    </tr>\n",
       "    <tr>\n",
       "      <th>98</th>\n",
       "      <td>Numenzo</td>\n",
       "      <td>₹449</td>\n",
       "      <td>65% off</td>\n",
       "      <td>Sneakers For Men</td>\n",
       "    </tr>\n",
       "    <tr>\n",
       "      <th>99</th>\n",
       "      <td>PROVOGUE</td>\n",
       "      <td>₹356</td>\n",
       "      <td>64% off</td>\n",
       "      <td>Sneakers For Men</td>\n",
       "    </tr>\n",
       "  </tbody>\n",
       "</table>\n",
       "<p>100 rows × 4 columns</p>\n",
       "</div>"
      ],
      "text/plain": [
       "             Brand Price Discount  \\\n",
       "0           BRUTON  ₹444  82% off   \n",
       "1          tigonis  ₹399  60% off   \n",
       "2           Chevit  ₹536  66% off   \n",
       "3           BRUTON  ₹474  86% off   \n",
       "4         ASTEROID  ₹499  75% off   \n",
       "..             ...   ...      ...   \n",
       "95  KNIGHT WALKERS  ₹447  75% off   \n",
       "96         Numenzo  ₹236  52% off   \n",
       "97        ASTEROID  ₹789  64% off   \n",
       "98         Numenzo  ₹449  65% off   \n",
       "99        PROVOGUE  ₹356  64% off   \n",
       "\n",
       "                                          Product_des  \n",
       "0   Modern & Trendy Collection Combo Pack of 02 Sh...  \n",
       "1   Luxury Branded Fashionable Men's Casual Walkin...  \n",
       "2   Super Stylish & Trendy Combo Pack of 02 Pairs ...  \n",
       "3   Combo Pack Of 4 Casual Shoes Loafer Shoes Snea...  \n",
       "4   Original Luxury Branded Fashionable Men's Casu...  \n",
       "..                                                ...  \n",
       "95                                   Sneakers For Men  \n",
       "96                                   Sneakers For Men  \n",
       "97  Original Luxury Branded Fashionable Men's Casu...  \n",
       "98                                   Sneakers For Men  \n",
       "99                                   Sneakers For Men  \n",
       "\n",
       "[100 rows x 4 columns]"
      ]
     },
     "execution_count": 147,
     "metadata": {},
     "output_type": "execute_result"
    }
   ],
   "source": [
    "sneakers=pd.DataFrame({})\n",
    "sneakers[\"Brand\"]=Brand[0:100]\n",
    "sneakers[\"Price\"]=Price[0:100]\n",
    "sneakers[\"Discount\"]=Discount[0:100]\n",
    "sneakers[\"Product_des\"]=Product_des[0:100]\n",
    "sneakers"
   ]
  },
  {
   "cell_type": "markdown",
   "id": "97990efb",
   "metadata": {},
   "source": [
    "# Q9."
   ]
  },
  {
   "cell_type": "code",
   "execution_count": 210,
   "id": "5e5800e7",
   "metadata": {},
   "outputs": [],
   "source": [
    "import selenium\n",
    "import pandas as pd\n",
    "from selenium import webdriver"
   ]
  },
  {
   "cell_type": "code",
   "execution_count": 211,
   "id": "d5a13222",
   "metadata": {},
   "outputs": [],
   "source": [
    "driver=webdriver.Chrome(\"chromedriver\")"
   ]
  },
  {
   "cell_type": "code",
   "execution_count": 212,
   "id": "cdf4ded1",
   "metadata": {},
   "outputs": [],
   "source": [
    "url= \"https://www.myntra.com/shoes\"\n",
    "driver.get(url)"
   ]
  },
  {
   "cell_type": "code",
   "execution_count": 224,
   "id": "46335142",
   "metadata": {},
   "outputs": [
    {
     "data": {
      "text/plain": [
       "<selenium.webdriver.remote.webelement.WebElement (session=\"d32581894304e5e8dfbd65837401c260\", element=\"def66444-61bb-42fc-b205-3c221d36cb1c\")>"
      ]
     },
     "execution_count": 224,
     "metadata": {},
     "output_type": "execute_result"
    }
   ],
   "source": [
    "fil_price=driver.find_element_by_xpath(\"//ul[@class='price-list']//li[2]\")\n",
    "fil_price\n"
   ]
  },
  {
   "cell_type": "code",
   "execution_count": 225,
   "id": "d7ee3f87",
   "metadata": {},
   "outputs": [],
   "source": [
    "fil_price.click()"
   ]
  },
  {
   "cell_type": "code",
   "execution_count": 215,
   "id": "4778d823",
   "metadata": {},
   "outputs": [
    {
     "data": {
      "text/plain": [
       "<selenium.webdriver.remote.webelement.WebElement (session=\"d32581894304e5e8dfbd65837401c260\", element=\"31f7cec1-e507-45e2-b7cd-1ea44a784443\")>"
      ]
     },
     "execution_count": 215,
     "metadata": {},
     "output_type": "execute_result"
    }
   ],
   "source": [
    "fil_color=driver.find_element_by_xpath(\"//li[@class='colour-listItem']//label\")\n",
    "fil_color\n"
   ]
  },
  {
   "cell_type": "code",
   "execution_count": 216,
   "id": "8a1b80e5",
   "metadata": {},
   "outputs": [],
   "source": [
    "fil_color.click()"
   ]
  },
  {
   "cell_type": "code",
   "execution_count": 229,
   "id": "b81a88e8",
   "metadata": {},
   "outputs": [],
   "source": [
    "Brand=[]\n",
    "for i in range(0,2):\n",
    "    try:\n",
    "       \n",
    "        brand=driver.find_elements_by_xpath(\"//h3[starts-with(@class,'product-brand')]\")\n",
    "        for i in brand:\n",
    "            Brand.append(i.text)\n",
    "    except:\n",
    "        Brand.append(\"-\")\n",
    "next_button=driver.find_element_by_xpath(\"//a[@rel='next']\")\n",
    "next_button.click() \n"
   ]
  },
  {
   "cell_type": "code",
   "execution_count": 230,
   "id": "387dcb51",
   "metadata": {},
   "outputs": [
    {
     "data": {
      "text/plain": [
       "['Puma',\n",
       " 'Puma',\n",
       " 'Puma',\n",
       " 'FORCLAZ By Decathlon',\n",
       " 'Kalenji By Decathlon',\n",
       " 'Quechua By Decathlon',\n",
       " 'UNDER ARMOUR',\n",
       " 'ASICS',\n",
       " 'Saint G',\n",
       " 'Geox',\n",
       " 'Saint G',\n",
       " 'Hush Puppies',\n",
       " 'Hush Puppies',\n",
       " 'Nike',\n",
       " 'Hush Puppies',\n",
       " 'Geox',\n",
       " 'Geox',\n",
       " 'Geox',\n",
       " 'Hush Puppies',\n",
       " 'DAVINCHI',\n",
       " 'ALDO',\n",
       " 'Puma',\n",
       " 'Puma',\n",
       " 'Puma',\n",
       " 'ROSSO BRUNELLO',\n",
       " 'UNDER ARMOUR',\n",
       " 'Puma',\n",
       " 'J.FONTINI',\n",
       " 'UNDER ARMOUR',\n",
       " 'Hush Puppies',\n",
       " 'Puma',\n",
       " 'Puma',\n",
       " 'UNDER ARMOUR',\n",
       " 'UNDER ARMOUR',\n",
       " 'Calvin Klein',\n",
       " 'UNDER ARMOUR',\n",
       " 'UNDER ARMOUR',\n",
       " 'J.FONTINI',\n",
       " 'Puma',\n",
       " 'PUMA Motorsport',\n",
       " 'ASICS',\n",
       " 'Puma',\n",
       " 'ASICS',\n",
       " 'PUMA Hoops',\n",
       " 'Puma',\n",
       " 'Geox',\n",
       " 'UNDER ARMOUR',\n",
       " 'Geox',\n",
       " 'Puma',\n",
       " 'PUMA Motorsport',\n",
       " 'Puma',\n",
       " 'Puma',\n",
       " 'Puma',\n",
       " 'FORCLAZ By Decathlon',\n",
       " 'Kalenji By Decathlon',\n",
       " 'Quechua By Decathlon',\n",
       " 'UNDER ARMOUR',\n",
       " 'ASICS',\n",
       " 'Saint G',\n",
       " 'Geox',\n",
       " 'Saint G',\n",
       " 'Hush Puppies',\n",
       " 'Hush Puppies',\n",
       " 'Nike',\n",
       " 'Hush Puppies',\n",
       " 'Geox',\n",
       " 'Geox',\n",
       " 'Geox',\n",
       " 'Hush Puppies',\n",
       " 'DAVINCHI',\n",
       " 'ALDO',\n",
       " 'Puma',\n",
       " 'Puma',\n",
       " 'Puma',\n",
       " 'ROSSO BRUNELLO',\n",
       " 'UNDER ARMOUR',\n",
       " 'Puma',\n",
       " 'J.FONTINI',\n",
       " 'UNDER ARMOUR',\n",
       " 'Hush Puppies',\n",
       " 'Puma',\n",
       " 'Puma',\n",
       " 'UNDER ARMOUR',\n",
       " 'UNDER ARMOUR',\n",
       " 'Calvin Klein',\n",
       " 'UNDER ARMOUR',\n",
       " 'UNDER ARMOUR',\n",
       " 'J.FONTINI',\n",
       " 'Puma',\n",
       " 'PUMA Motorsport',\n",
       " 'ASICS',\n",
       " 'Puma',\n",
       " 'ASICS',\n",
       " 'PUMA Hoops',\n",
       " 'Puma',\n",
       " 'Geox',\n",
       " 'UNDER ARMOUR',\n",
       " 'Geox',\n",
       " 'Puma',\n",
       " 'PUMA Motorsport']"
      ]
     },
     "execution_count": 230,
     "metadata": {},
     "output_type": "execute_result"
    }
   ],
   "source": [
    "Brand"
   ]
  },
  {
   "cell_type": "code",
   "execution_count": 231,
   "id": "a4a3cfc2",
   "metadata": {},
   "outputs": [
    {
     "data": {
      "text/plain": [
       "100"
      ]
     },
     "execution_count": 231,
     "metadata": {},
     "output_type": "execute_result"
    }
   ],
   "source": [
    "len(Brand)"
   ]
  },
  {
   "cell_type": "code",
   "execution_count": 278,
   "id": "0129d01c",
   "metadata": {},
   "outputs": [],
   "source": [
    "Price=[]\n",
    "for i in range(0,2):\n",
    "    try:\n",
    "        price=driver.find_elements_by_xpath(\"//div[starts-with(@class,'product-price')]\")\n",
    "        for i in price:\n",
    "            value = i.text\n",
    "            if value.count(\"Rs\")==2 :\n",
    "                index = value.rindex(\"Rs\")\n",
    "                temp=value[:index]\n",
    "                Price.append(temp)\n",
    "            else:\n",
    "                Price.append(value)\n",
    "    except:\n",
    "        Price.append(\"-\")\n",
    "next_button=driver.find_element_by_xpath(\"//a[@rel='next']\")\n",
    "next_button.click()\n"
   ]
  },
  {
   "cell_type": "code",
   "execution_count": 279,
   "id": "675bdc23",
   "metadata": {},
   "outputs": [
    {
     "data": {
      "text/plain": [
       "['Rs. 10999',\n",
       " 'Rs. 12749',\n",
       " 'Rs. 6999',\n",
       " 'Rs. 6999',\n",
       " 'Rs. 7773',\n",
       " 'Rs. 9999',\n",
       " 'Rs. 11999',\n",
       " 'Rs. 7999',\n",
       " 'Rs. 11305',\n",
       " 'Rs. 8999',\n",
       " 'Rs. 9975',\n",
       " 'Rs. 8999',\n",
       " 'Rs. 8099',\n",
       " 'Rs. 7195',\n",
       " 'Rs. 8999',\n",
       " 'Rs. 9999',\n",
       " 'Rs. 9999',\n",
       " 'Rs. 11242',\n",
       " 'Rs. 8999',\n",
       " 'Rs. 8990',\n",
       " 'Rs. 11999',\n",
       " 'Rs. 6999',\n",
       " 'Rs. 6999',\n",
       " 'Rs. 8999',\n",
       " 'Rs. 7999',\n",
       " 'Rs. 10999',\n",
       " 'Rs. 10999',\n",
       " 'Rs. 6999',\n",
       " 'Rs. 6999',\n",
       " 'Rs. 11999',\n",
       " 'Rs. 7149',\n",
       " 'Rs. 6999',\n",
       " 'Rs. 7499',\n",
       " 'Rs. 7649',\n",
       " 'Rs. 9999',\n",
       " 'Rs. 7999',\n",
       " 'Rs. 12999',\n",
       " 'Rs. 8990',\n",
       " 'Rs. 7999',\n",
       " 'Rs. 9999',\n",
       " 'Rs. 11199',\n",
       " 'Rs. 8999',\n",
       " 'Rs. 8999',\n",
       " 'Rs. 12999',\n",
       " 'Rs. 10999',\n",
       " 'Rs. 7499',\n",
       " 'Rs. 11999',\n",
       " 'Rs. 8999',\n",
       " 'Rs. 9999',\n",
       " 'Rs. 9999',\n",
       " 'Rs. 10999',\n",
       " 'Rs. 12749',\n",
       " 'Rs. 6999',\n",
       " 'Rs. 6999',\n",
       " 'Rs. 7773',\n",
       " 'Rs. 9999',\n",
       " 'Rs. 11999',\n",
       " 'Rs. 7999',\n",
       " 'Rs. 11305',\n",
       " 'Rs. 8999',\n",
       " 'Rs. 9975',\n",
       " 'Rs. 8999',\n",
       " 'Rs. 8099',\n",
       " 'Rs. 7195',\n",
       " 'Rs. 8999',\n",
       " 'Rs. 9999',\n",
       " 'Rs. 9999',\n",
       " 'Rs. 11242',\n",
       " 'Rs. 8999',\n",
       " 'Rs. 8990',\n",
       " 'Rs. 11999',\n",
       " 'Rs. 6999',\n",
       " 'Rs. 6999',\n",
       " 'Rs. 8999',\n",
       " 'Rs. 7999',\n",
       " 'Rs. 10999',\n",
       " 'Rs. 10999',\n",
       " 'Rs. 6999',\n",
       " 'Rs. 6999',\n",
       " 'Rs. 11999',\n",
       " 'Rs. 7149',\n",
       " 'Rs. 6999',\n",
       " 'Rs. 7499',\n",
       " 'Rs. 7649',\n",
       " 'Rs. 9999',\n",
       " 'Rs. 7999',\n",
       " 'Rs. 12999',\n",
       " 'Rs. 8990',\n",
       " 'Rs. 7999',\n",
       " 'Rs. 9999',\n",
       " 'Rs. 11199',\n",
       " 'Rs. 8999',\n",
       " 'Rs. 8999',\n",
       " 'Rs. 12999',\n",
       " 'Rs. 10999',\n",
       " 'Rs. 7499',\n",
       " 'Rs. 11999',\n",
       " 'Rs. 8999',\n",
       " 'Rs. 9999',\n",
       " 'Rs. 9999']"
      ]
     },
     "execution_count": 279,
     "metadata": {},
     "output_type": "execute_result"
    }
   ],
   "source": [
    "Price"
   ]
  },
  {
   "cell_type": "code",
   "execution_count": 257,
   "id": "97f5961d",
   "metadata": {},
   "outputs": [
    {
     "data": {
      "text/plain": [
       "100"
      ]
     },
     "execution_count": 257,
     "metadata": {},
     "output_type": "execute_result"
    }
   ],
   "source": [
    "len(Price)"
   ]
  },
  {
   "cell_type": "code",
   "execution_count": 271,
   "id": "2e53ca42",
   "metadata": {},
   "outputs": [],
   "source": [
    "Product_des=[]\n",
    "for i in range(0,2):\n",
    "    try:\n",
    "        product_des=driver.find_elements_by_xpath(\"//h4[starts-with(@class,'product-product')]\")\n",
    "        for i in product_des:\n",
    "            Product_des.append(i.text)\n",
    "    except:\n",
    "        Product_des.append(\"-\")\n",
    "next_button=driver.find_element_by_xpath(\"//a[@rel='next']\")\n",
    "next_button.click() \n"
   ]
  },
  {
   "cell_type": "code",
   "execution_count": 272,
   "id": "ebf9c4d3",
   "metadata": {},
   "outputs": [
    {
     "data": {
      "text/plain": [
       "['Men Velocity Nitro Running',\n",
       " 'Men Football Shoes',\n",
       " 'Men Cell Fraction Fade Running',\n",
       " 'TREKKING 100 Boots',\n",
       " 'Men KD500 Running Shoe',\n",
       " 'Men Trekking Shoes',\n",
       " 'Men HOVR Infinite Running',\n",
       " 'Men Black Running Sports Shoes',\n",
       " 'Men Leather Chelsea Boots',\n",
       " 'Men Leather Formal Slip-Ons',\n",
       " 'Men Textured Leather Formal Loafers',\n",
       " 'Men Formal Derbys',\n",
       " 'Men Solid Leather Formal Slip-Ons',\n",
       " \"Men BlazerLow '77 Sneakers\",\n",
       " 'Men Solid Leather Formal Derbys',\n",
       " 'Men Solid Sneakers',\n",
       " 'Men Sneakers',\n",
       " 'Men Leather Formal Slip-Ons',\n",
       " 'Men Solid Leather Formal Slip-Ons',\n",
       " 'Men Textured Formal Leather Loafers',\n",
       " 'Men Driving Shoes',\n",
       " 'Men Printed Slip-On Sneakers',\n",
       " 'Men BlackTraining or Gym Shoes',\n",
       " 'Mesh Hybrid Fuego Running',\n",
       " 'Women Deviate Nitro Running',\n",
       " 'Men FUSE Training Shoes',\n",
       " 'Women HOVR Sonic 4 Running',\n",
       " 'Women HOVR Sonic 4 FnRn',\n",
       " 'Men Black Shoes',\n",
       " 'Men Leather Slip-On Sneakers',\n",
       " 'Women Eternity Nitro Running',\n",
       " 'Women Charged Assert 8 Running',\n",
       " 'Men Leather Flat Boots',\n",
       " 'Women Charged Impulse Shft',\n",
       " 'Men Loafers',\n",
       " 'Men HOVR Sonic STRT Tech Shoes',\n",
       " 'Women Charged Vantage ClrShft',\n",
       " 'Men Jamming 2.0 Running Shoes',\n",
       " 'Men Solid Loafers',\n",
       " 'Women GlideRide Running Shoes',\n",
       " 'Unisex Ferrari Drift8 Sneakers',\n",
       " 'Men Liberate NITRO Running',\n",
       " 'Women Running Shoes',\n",
       " 'Unisex Clyde Basketball Shoes',\n",
       " 'Women Provoke XT FTR Shoes',\n",
       " 'Men Leather Flat Boots',\n",
       " 'Women Charged Bandit 6 Running',\n",
       " 'Unisex Leather Trainers',\n",
       " 'Unisex FerrariRS-Fast Sneakers',\n",
       " 'Women Charged Rogue 2.5ClrSft',\n",
       " 'Men Velocity Nitro Running',\n",
       " 'Men Football Shoes',\n",
       " 'Men Cell Fraction Fade Running',\n",
       " 'TREKKING 100 Boots',\n",
       " 'Men KD500 Running Shoe',\n",
       " 'Men Trekking Shoes',\n",
       " 'Men HOVR Infinite Running',\n",
       " 'Men Black Running Sports Shoes',\n",
       " 'Men Leather Chelsea Boots',\n",
       " 'Men Leather Formal Slip-Ons',\n",
       " 'Men Textured Leather Formal Loafers',\n",
       " 'Men Formal Derbys',\n",
       " 'Men Solid Leather Formal Slip-Ons',\n",
       " \"Men BlazerLow '77 Sneakers\",\n",
       " 'Men Solid Leather Formal Derbys',\n",
       " 'Men Solid Sneakers',\n",
       " 'Men Sneakers',\n",
       " 'Men Leather Formal Slip-Ons',\n",
       " 'Men Solid Leather Formal Slip-Ons',\n",
       " 'Men Textured Formal Leather Loafers',\n",
       " 'Men Driving Shoes',\n",
       " 'Men Printed Slip-On Sneakers',\n",
       " 'Men BlackTraining or Gym Shoes',\n",
       " 'Mesh Hybrid Fuego Running',\n",
       " 'Women Deviate Nitro Running',\n",
       " 'Men FUSE Training Shoes',\n",
       " 'Women HOVR Sonic 4 Running',\n",
       " 'Women HOVR Sonic 4 FnRn',\n",
       " 'Men Black Shoes',\n",
       " 'Men Leather Slip-On Sneakers',\n",
       " 'Women Eternity Nitro Running',\n",
       " 'Women Charged Assert 8 Running',\n",
       " 'Men Leather Flat Boots',\n",
       " 'Women Charged Impulse Shft',\n",
       " 'Men Loafers',\n",
       " 'Men HOVR Sonic STRT Tech Shoes',\n",
       " 'Women Charged Vantage ClrShft',\n",
       " 'Men Jamming 2.0 Running Shoes',\n",
       " 'Men Solid Loafers',\n",
       " 'Women GlideRide Running Shoes',\n",
       " 'Unisex Ferrari Drift8 Sneakers',\n",
       " 'Men Liberate NITRO Running',\n",
       " 'Women Running Shoes',\n",
       " 'Unisex Clyde Basketball Shoes',\n",
       " 'Women Provoke XT FTR Shoes',\n",
       " 'Men Leather Flat Boots',\n",
       " 'Women Charged Bandit 6 Running',\n",
       " 'Unisex Leather Trainers',\n",
       " 'Unisex FerrariRS-Fast Sneakers',\n",
       " 'Women Charged Rogue 2.5ClrSft']"
      ]
     },
     "execution_count": 272,
     "metadata": {},
     "output_type": "execute_result"
    }
   ],
   "source": [
    "Product_des"
   ]
  },
  {
   "cell_type": "code",
   "execution_count": 273,
   "id": "8c678d46",
   "metadata": {},
   "outputs": [
    {
     "data": {
      "text/plain": [
       "100"
      ]
     },
     "execution_count": 273,
     "metadata": {},
     "output_type": "execute_result"
    }
   ],
   "source": [
    "len(Product_des)"
   ]
  },
  {
   "cell_type": "code",
   "execution_count": 274,
   "id": "08a351fc",
   "metadata": {},
   "outputs": [
    {
     "data": {
      "text/html": [
       "<div>\n",
       "<style scoped>\n",
       "    .dataframe tbody tr th:only-of-type {\n",
       "        vertical-align: middle;\n",
       "    }\n",
       "\n",
       "    .dataframe tbody tr th {\n",
       "        vertical-align: top;\n",
       "    }\n",
       "\n",
       "    .dataframe thead th {\n",
       "        text-align: right;\n",
       "    }\n",
       "</style>\n",
       "<table border=\"1\" class=\"dataframe\">\n",
       "  <thead>\n",
       "    <tr style=\"text-align: right;\">\n",
       "      <th></th>\n",
       "      <th>Brand</th>\n",
       "      <th>Price</th>\n",
       "      <th>Product_des</th>\n",
       "    </tr>\n",
       "  </thead>\n",
       "  <tbody>\n",
       "    <tr>\n",
       "      <th>0</th>\n",
       "      <td>Puma</td>\n",
       "      <td>Rs. 10999</td>\n",
       "      <td>Men Velocity Nitro Running</td>\n",
       "    </tr>\n",
       "    <tr>\n",
       "      <th>1</th>\n",
       "      <td>Puma</td>\n",
       "      <td>Rs. 12749</td>\n",
       "      <td>Men Football Shoes</td>\n",
       "    </tr>\n",
       "    <tr>\n",
       "      <th>2</th>\n",
       "      <td>Puma</td>\n",
       "      <td>Rs. 6999</td>\n",
       "      <td>Men Cell Fraction Fade Running</td>\n",
       "    </tr>\n",
       "    <tr>\n",
       "      <th>3</th>\n",
       "      <td>FORCLAZ By Decathlon</td>\n",
       "      <td>Rs. 6999</td>\n",
       "      <td>TREKKING 100 Boots</td>\n",
       "    </tr>\n",
       "    <tr>\n",
       "      <th>4</th>\n",
       "      <td>Kalenji By Decathlon</td>\n",
       "      <td>Rs. 7773</td>\n",
       "      <td>Men KD500 Running Shoe</td>\n",
       "    </tr>\n",
       "    <tr>\n",
       "      <th>...</th>\n",
       "      <td>...</td>\n",
       "      <td>...</td>\n",
       "      <td>...</td>\n",
       "    </tr>\n",
       "    <tr>\n",
       "      <th>95</th>\n",
       "      <td>Geox</td>\n",
       "      <td>Rs. 11999</td>\n",
       "      <td>Men Leather Flat Boots</td>\n",
       "    </tr>\n",
       "    <tr>\n",
       "      <th>96</th>\n",
       "      <td>UNDER ARMOUR</td>\n",
       "      <td>Rs. 8999</td>\n",
       "      <td>Women Charged Bandit 6 Running</td>\n",
       "    </tr>\n",
       "    <tr>\n",
       "      <th>97</th>\n",
       "      <td>Geox</td>\n",
       "      <td>Rs. 9999</td>\n",
       "      <td>Unisex Leather Trainers</td>\n",
       "    </tr>\n",
       "    <tr>\n",
       "      <th>98</th>\n",
       "      <td>Puma</td>\n",
       "      <td>Rs. 9999</td>\n",
       "      <td>Unisex FerrariRS-Fast Sneakers</td>\n",
       "    </tr>\n",
       "    <tr>\n",
       "      <th>99</th>\n",
       "      <td>PUMA Motorsport</td>\n",
       "      <td>Rs. 7999</td>\n",
       "      <td>Women Charged Rogue 2.5ClrSft</td>\n",
       "    </tr>\n",
       "  </tbody>\n",
       "</table>\n",
       "<p>100 rows × 3 columns</p>\n",
       "</div>"
      ],
      "text/plain": [
       "                   Brand      Price                     Product_des\n",
       "0                   Puma  Rs. 10999      Men Velocity Nitro Running\n",
       "1                   Puma  Rs. 12749              Men Football Shoes\n",
       "2                   Puma   Rs. 6999  Men Cell Fraction Fade Running\n",
       "3   FORCLAZ By Decathlon   Rs. 6999              TREKKING 100 Boots\n",
       "4   Kalenji By Decathlon   Rs. 7773          Men KD500 Running Shoe\n",
       "..                   ...        ...                             ...\n",
       "95                  Geox  Rs. 11999          Men Leather Flat Boots\n",
       "96          UNDER ARMOUR   Rs. 8999  Women Charged Bandit 6 Running\n",
       "97                  Geox   Rs. 9999         Unisex Leather Trainers\n",
       "98                  Puma   Rs. 9999  Unisex FerrariRS-Fast Sneakers\n",
       "99       PUMA Motorsport   Rs. 7999   Women Charged Rogue 2.5ClrSft\n",
       "\n",
       "[100 rows x 3 columns]"
      ]
     },
     "execution_count": 274,
     "metadata": {},
     "output_type": "execute_result"
    }
   ],
   "source": [
    "myntra=pd.DataFrame({})\n",
    "myntra[\"Brand\"]=Brand\n",
    "myntra[\"Price\"]=Price\n",
    "myntra[\"Product_des\"]=Product_des\n",
    "myntra"
   ]
  },
  {
   "cell_type": "markdown",
   "id": "951840ba",
   "metadata": {},
   "source": [
    "# Q10."
   ]
  },
  {
   "cell_type": "code",
   "execution_count": 305,
   "id": "65d49207",
   "metadata": {},
   "outputs": [],
   "source": [
    "driver=webdriver.Chrome(\"chromedriver\")"
   ]
  },
  {
   "cell_type": "code",
   "execution_count": 306,
   "id": "b24f0152",
   "metadata": {},
   "outputs": [],
   "source": [
    "url= \"https://www.amazon.in/\"\n",
    "driver.get(url)"
   ]
  },
  {
   "cell_type": "code",
   "execution_count": 307,
   "id": "f51f6c68",
   "metadata": {},
   "outputs": [],
   "source": [
    "search_product= driver.find_element_by_id(\"twotabsearchtextbox\")\n",
    "search_product\n",
    "search_product.send_keys(\"Laptop\")"
   ]
  },
  {
   "cell_type": "code",
   "execution_count": 308,
   "id": "dbb87435",
   "metadata": {},
   "outputs": [],
   "source": [
    "search_btn=driver.find_element_by_id(\"nav-search-submit-button\")\n",
    "search_btn\n",
    "search_btn.click()"
   ]
  },
  {
   "cell_type": "code",
   "execution_count": 309,
   "id": "d66878e1",
   "metadata": {},
   "outputs": [
    {
     "data": {
      "text/plain": [
       "<selenium.webdriver.remote.webelement.WebElement (session=\"9a77d9c3bad3d37bd090deb2166d3dce\", element=\"eb3b6e01-1cb6-466a-a5f9-5ef418be0454\")>"
      ]
     },
     "execution_count": 309,
     "metadata": {},
     "output_type": "execute_result"
    }
   ],
   "source": [
    "filter_cpu=driver.find_element_by_xpath(\"//li[@id='p_n_feature_thirteen_browse-bin/12598163031']//div\")\n",
    "filter_cpu\n",
    "filter_cpu.click()\n"
   ]
  },
  {
   "cell_type": "code",
   "execution_count": 311,
   "id": "fab68e78",
   "metadata": {},
   "outputs": [],
   "source": [
    "filter_cpu1=driver.find_element_by_xpath(\"//li[@id='p_n_feature_thirteen_browse-bin/16757432031']//div\")\n",
    "filter_cpu1\n",
    "filter_cpu1.click()\n",
    "\n"
   ]
  },
  {
   "cell_type": "code",
   "execution_count": 312,
   "id": "77aa1c3a",
   "metadata": {},
   "outputs": [
    {
     "data": {
      "text/plain": [
       "['HP Envy 11th Gen Core i7 Processor 13.3-inch (33.78 cms) FHD Touchscreen Laptop (16GB/1TB SSD/Win 10/NVIDIA MX450 2GB/Natural Silver/1.3 kg), 13-ba1018TX',\n",
       " 'Mi Notebook Horizon Edition 14 Intel Core i7-10510U 10th Gen Thin and Light Laptop(8GB/512GB SSD/Windows 10/Nvidia MX350 2GB Graphics/Grey/1.35Kg)(Without Webcam) XMA1904-AF',\n",
       " 'Lenovo IdeaPad S540 11th Gen Intel Core i7 13.3\" QHD IPS Thin & Light Laptop (16GB/512GB SSD/Windows 10/MS Office 2019/Intel Iris Xe Graphics/Iron Grey/1.28Kg), 82H1002CIN',\n",
       " 'Lenovo Yoga 7 11th Gen Intel Core i7 14\" Full HD IPS 2-in-1 Touchscreen Laptop (16GB/512GB SSD/Windows 10/MS Office 2019/Lenovo Digital Pen/Slate Grey/Aluminium Surface/1.43Kg), 82BH00E0IN',\n",
       " 'ASUS TUF Dash F15 (2021), 15.6-inch (39.62 cms) FHD 144Hz, Intel Core i7-11370H 11th Gen, RTX 3050 4GB Graphics Gaming Laptop (16GB RAM/512GB SSD/Windows 10/Gray/2 kg), FX516PC-HN063T',\n",
       " 'Lenovo IdeaPad Flex 5 11th Gen Intel Core i7 14\"(35.56cm) FHD IPS 2-in-1 Touchscreen Laptop(16GB/512GB SSD/Windows 10/MS Office/Lenovo Digital Pen/Fingerprint Reader/Graphite Grey/1.5Kg), 82HS0092IN',\n",
       " 'Lenovo IdeaPad Gaming 3 Intel Core i7 10th Gen 15.6\" FHD IPS 250Nits Gaming Laptop (8GB/512GB SSD/Win10/NVIDIA GTX 1650 4GB GDDR6 Graphics/120Hz/Onyx Black/2.2Kg), 81Y4019EIN',\n",
       " 'HP Pavilion 13(2021) 11th Gen Intel Core i7 Laptop, 16GB RAM, 1TB SSD, 13.3-inch(33.8 cm) FHD Screen, Win 10, MS Office, Ceramic White, 1.24 Kg (13-bb0078TU)',\n",
       " 'Fujitsu UH-X 11th Gen Intel Core i7 13.3” (33.78cm) FHD IPS 400Nits 2-in1 Touch Convertible Laptop (16GB/1TB SSD/Win10/Office/Iris Xe Graphics/Backlit Kb/Black/997gms), 4ZR1D71993',\n",
       " 'MSI GF75 Thin, Intel i7-10750H, 17.3\" (43.9 cm) FHD IPS-Level 144Hz Panel Laptop (8GB/512GB NVMe SSD/Windows 10 Home/Nvidia GTX1650 4GB GDDR6/Black/2.2Kg), 10SCXR-654IN']"
      ]
     },
     "execution_count": 312,
     "metadata": {},
     "output_type": "execute_result"
    }
   ],
   "source": [
    "product_name=driver.find_elements_by_xpath(\"//div[@class='a-section a-spacing-none']//h2\")\n",
    "product_name\n",
    "Product_name= []\n",
    "for i in product_name[0:10]:\n",
    "    \n",
    "    Product_name.append(i.text)\n",
    "Product_name"
   ]
  },
  {
   "cell_type": "code",
   "execution_count": 313,
   "id": "68b539ef",
   "metadata": {},
   "outputs": [
    {
     "data": {
      "text/plain": [
       "10"
      ]
     },
     "execution_count": 313,
     "metadata": {},
     "output_type": "execute_result"
    }
   ],
   "source": [
    "len(Product_name)"
   ]
  },
  {
   "cell_type": "code",
   "execution_count": 314,
   "id": "20e0959c",
   "metadata": {},
   "outputs": [
    {
     "data": {
      "text/plain": [
       "['1,23,350',\n",
       " '57,990',\n",
       " '77,990',\n",
       " '97,989',\n",
       " '84,990',\n",
       " '97,600',\n",
       " '73,990',\n",
       " '92,990',\n",
       " '1,07,990',\n",
       " '74,990']"
      ]
     },
     "execution_count": 314,
     "metadata": {},
     "output_type": "execute_result"
    }
   ],
   "source": [
    "price=driver.find_elements_by_xpath(\"//span[@class='a-price-whole']\")\n",
    "price\n",
    "Price= []\n",
    "for i in price[0:10]:\n",
    "    \n",
    "    Price.append(i.text)\n",
    "Price"
   ]
  },
  {
   "cell_type": "code",
   "execution_count": 315,
   "id": "946e3104",
   "metadata": {},
   "outputs": [
    {
     "data": {
      "text/plain": [
       "10"
      ]
     },
     "execution_count": 315,
     "metadata": {},
     "output_type": "execute_result"
    }
   ],
   "source": [
    "len(Price)"
   ]
  },
  {
   "cell_type": "code",
   "execution_count": 328,
   "id": "42d40221",
   "metadata": {},
   "outputs": [
    {
     "data": {
      "text/plain": [
       "['https://www.amazon.in/gp/slredirect/picassoRedirect.html/ref=pa_sp_atf_computers_sr_pg1_1?ie=UTF8&adId=A10081262K6KZOZ37JXYV&url=%2FHP-Processor-13-3-inch-Touchscreen-13-ba1018TX%2Fdp%2FB091FJ13Q5%2Fref%3Dsr_1_1_sspa%3Fdchild%3D1%26keywords%3DLaptop%26qid%3D1631459000%26refinements%3Dp_n_feature_thirteen_browse-bin%253A12598163031%257C16757432031%26rnid%3D12598141031%26s%3Dcomputers%26sr%3D1-1-spons%26psc%3D1&qualifier=1631459000&id=4713687789016769&widgetName=sp_atf',\n",
       " 'https://www.amazon.in/Notebook-Horizon-i7-10510U-Graphics-XMA1904-AF/dp/B089DFJHZ8/ref=sr_1_2?dchild=1&keywords=Laptop&qid=1631459000&refinements=p_n_feature_thirteen_browse-bin%3A12598163031%7C16757432031&rnid=12598141031&s=computers&sr=1-2',\n",
       " 'https://www.amazon.in/Lenovo-IdeaPad-Windows-Graphics-82H1002CIN/dp/B094XJPQ6N/ref=sr_1_3?dchild=1&keywords=Laptop&qid=1631459000&refinements=p_n_feature_thirteen_browse-bin%3A12598163031%7C16757432031&rnid=12598141031&s=computers&sr=1-3',\n",
       " 'https://www.amazon.in/Lenovo-Touchscreen-Windows-Aluminium-82BH00E0IN/dp/B0999929LG/ref=sr_1_4?dchild=1&keywords=Laptop&qid=1631459000&refinements=p_n_feature_thirteen_browse-bin%3A12598163031%7C16757432031&rnid=12598141031&s=computers&sr=1-4',\n",
       " 'https://www.amazon.in/ASUS-Dash-F15-15-6-inch-i7-11370H-FX516PC-HN063T/dp/B096KVJ5PC/ref=sr_1_5?dchild=1&keywords=Laptop&qid=1631459000&refinements=p_n_feature_thirteen_browse-bin%3A12598163031%7C16757432031&rnid=12598141031&s=computers&sr=1-5',\n",
       " 'https://www.amazon.in/Lenovo-Touchscreen-Fingerprint-Graphite-82HS0092IN/dp/B08WRZQBQ6/ref=sr_1_6?dchild=1&keywords=Laptop&qid=1631459000&refinements=p_n_feature_thirteen_browse-bin%3A12598163031%7C16757432031&rnid=12598141031&s=computers&sr=1-6',\n",
       " 'https://www.amazon.in/Lenovo-IdeaPad-250Nits-Graphics-81Y4019EIN/dp/B097TZMG7R/ref=sr_1_7?dchild=1&keywords=Laptop&qid=1631459000&refinements=p_n_feature_thirteen_browse-bin%3A12598163031%7C16757432031&rnid=12598141031&s=computers&sr=1-7',\n",
       " 'https://www.amazon.in/HP-Pavilion-13-3-inch-Ceramic-13-bb0078TU/dp/B09839P9XB/ref=sr_1_8?dchild=1&keywords=Laptop&qid=1631459000&refinements=p_n_feature_thirteen_browse-bin%3A12598163031%7C16757432031&rnid=12598141031&s=computers&sr=1-8',\n",
       " 'https://www.amazon.in/Fujitsu-33-78cm-Convertible-Graphics-4ZR1D71993/dp/B098P4M233/ref=sr_1_9?dchild=1&keywords=Laptop&qid=1631459000&refinements=p_n_feature_thirteen_browse-bin%3A12598163031%7C16757432031&rnid=12598141031&s=computers&sr=1-9',\n",
       " 'https://www.amazon.in/MSI-i7-10750H-IPS-Level-Windows-10SCXR-654IN/dp/B093L8QGL7/ref=sr_1_10?dchild=1&keywords=Laptop&qid=1631459000&refinements=p_n_feature_thirteen_browse-bin%3A12598163031%7C16757432031&rnid=12598141031&s=computers&sr=1-10',\n",
       " 'https://www.amazon.in/ASUS-17-3-inch-i7-11800H-GeForce-RTX-3050-Ti-FX766HE-HX022T/dp/B0987S6PG1/ref=sr_1_11?dchild=1&keywords=Laptop&qid=1631459000&refinements=p_n_feature_thirteen_browse-bin%3A12598163031%7C16757432031&rnid=12598141031&s=computers&sr=1-11',\n",
       " 'https://www.amazon.in/HP-Processor-13-3-inch-Touchscreen-13-ba1018TX/dp/B091FJ13Q5/ref=sr_1_12?dchild=1&keywords=Laptop&qid=1631459000&refinements=p_n_feature_thirteen_browse-bin%3A12598163031%7C16757432031&rnid=12598141031&s=computers&sr=1-12',\n",
       " 'https://www.amazon.in/Lenovo-Touchscreen-Fingerprint-Aluminium-82BH004HIN/dp/B08P3M22QQ/ref=sr_1_13?dchild=1&keywords=Laptop&qid=1631459000&refinements=p_n_feature_thirteen_browse-bin%3A12598163031%7C16757432031&rnid=12598141031&s=computers&sr=1-13',\n",
       " 'https://www.amazon.in/gp/slredirect/picassoRedirect.html/ref=pa_sp_mtf_computers_sr_pg1_1?ie=UTF8&adId=A00766773MSMG2AO2CGIQ&url=%2FAcer-Swift-Display-Touchscreen-Notebook%2Fdp%2FB08M41DHTV%2Fref%3Dsr_1_14_sspa%3Fdchild%3D1%26keywords%3DLaptop%26qid%3D1631459000%26refinements%3Dp_n_feature_thirteen_browse-bin%253A12598163031%257C16757432031%26rnid%3D12598141031%26s%3Dcomputers%26sr%3D1-14-spons%26psc%3D1&qualifier=1631459000&id=4713687789016769&widgetName=sp_mtf',\n",
       " 'https://www.amazon.in/Acer-39-62cms-Graphics-GeForce-AN515-57/dp/B09C8HZMW2/ref=sr_1_15?dchild=1&keywords=Laptop&qid=1631459000&refinements=p_n_feature_thirteen_browse-bin%3A12598163031%7C16757432031&rnid=12598141031&s=computers&sr=1-15',\n",
       " 'https://www.amazon.in/HP-Pavilion-Graphics-35-56cms-14-dv0058TU/dp/B08WB857GB/ref=sr_1_16?dchild=1&keywords=Laptop&qid=1631459000&refinements=p_n_feature_thirteen_browse-bin%3A12598163031%7C16757432031&rnid=12598141031&s=computers&sr=1-16',\n",
       " 'https://www.amazon.in/Dell-i7-1165G7-Inspiron-5410-D560469WIN9S/dp/B095S9NJ4S/ref=sr_1_17?dchild=1&keywords=Laptop&qid=1631459000&refinements=p_n_feature_thirteen_browse-bin%3A12598163031%7C16757432031&rnid=12598141031&s=computers&sr=1-17',\n",
       " 'https://www.amazon.in/ASUS-i7-1165G7-35-56cms-Graphics-UX325EA-KG701TS/dp/B095C55Q7P/ref=sr_1_18?dchild=1&keywords=Laptop&qid=1631459000&refinements=p_n_feature_thirteen_browse-bin%3A12598163031%7C16757432031&rnid=12598141031&s=computers&sr=1-18',\n",
       " 'https://www.amazon.in/13-3-inch-TOUCHSCREEN-Integrated-Graphics-EliteBook/dp/B09CMZLGYG/ref=sr_1_19?dchild=1&keywords=Laptop&qid=1631459000&refinements=p_n_feature_thirteen_browse-bin%3A12598163031%7C16757432031&rnid=12598141031&s=computers&sr=1-19',\n",
       " 'https://www.amazon.in/15-6-inch-HP-ZBook-15-Workstation/dp/B09DQ2ZKRS/ref=sr_1_20?dchild=1&keywords=Laptop&qid=1631459000&refinements=p_n_feature_thirteen_browse-bin%3A12598163031%7C16757432031&rnid=12598141031&s=computers&sr=1-20',\n",
       " 'https://www.amazon.in/15-6-inch-HP-ZBook-15-Workstation/dp/B09DQ4DZ5N/ref=sr_1_21?dchild=1&keywords=Laptop&qid=1631459000&refinements=p_n_feature_thirteen_browse-bin%3A12598163031%7C16757432031&rnid=12598141031&s=computers&sr=1-21',\n",
       " 'https://www.amazon.in/HP-Pavilion-Touchscreen-Convertible-14-dw1040TU/dp/B08R843NHL/ref=sr_1_22?dchild=1&keywords=Laptop&qid=1631459000&refinements=p_n_feature_thirteen_browse-bin%3A12598163031%7C16757432031&rnid=12598141031&s=computers&sr=1-22',\n",
       " 'https://www.amazon.in/ASUS-VivoBook-i7-1165G7-Graphics-S433EA-AM701TS/dp/B08PQTZB3Z/ref=sr_1_23?dchild=1&keywords=Laptop&qid=1631459000&refinements=p_n_feature_thirteen_browse-bin%3A12598163031%7C16757432031&rnid=12598141031&s=computers&sr=1-23',\n",
       " 'https://www.amazon.in/15-6-inch-HP-ZBook-15-Workstation/dp/B09DQ4DKF6/ref=sr_1_24?dchild=1&keywords=Laptop&qid=1631459000&refinements=p_n_feature_thirteen_browse-bin%3A12598163031%7C16757432031&rnid=12598141031&s=computers&sr=1-24',\n",
       " 'https://www.amazon.in/ASUS-VivoBook-S532EQ-BQ702TS-I7-1165G7-SILVER/dp/B08PZ3VRCS/ref=sr_1_25?dchild=1&keywords=Laptop&qid=1631459000&refinements=p_n_feature_thirteen_browse-bin%3A12598163031%7C16757432031&rnid=12598141031&s=computers&sr=1-25',\n",
       " 'https://www.amazon.in/15-6-inch-HP-ZBook-15-Workstation/dp/B09DQ33KWV/ref=sr_1_26?dchild=1&keywords=Laptop&qid=1631459000&refinements=p_n_feature_thirteen_browse-bin%3A12598163031%7C16757432031&rnid=12598141031&s=computers&sr=1-26']"
      ]
     },
     "execution_count": 328,
     "metadata": {},
     "output_type": "execute_result"
    }
   ],
   "source": [
    "rating_url=driver.find_elements_by_xpath(\"//a[@class='a-link-normal a-text-normal']\")\n",
    "rating_url\n",
    "Rating_url= []\n",
    "for i in rating_url:\n",
    "    \n",
    "    Rating_url.append(i.get_attribute('href'))\n",
    "Rating_url"
   ]
  },
  {
   "cell_type": "code",
   "execution_count": 298,
   "id": "53329002",
   "metadata": {},
   "outputs": [
    {
     "data": {
      "text/plain": [
       "23"
      ]
     },
     "execution_count": 298,
     "metadata": {},
     "output_type": "execute_result"
    }
   ],
   "source": [
    "len(price)"
   ]
  },
  {
   "cell_type": "code",
   "execution_count": 330,
   "id": "2779636a",
   "metadata": {},
   "outputs": [
    {
     "data": {
      "text/plain": [
       "['4.1 out of 5',\n",
       " '4.2 out of 5',\n",
       " '4.3 out of 5',\n",
       " '2.4 out of 5',\n",
       " '3.3 out of 5',\n",
       " '4.1 out of 5',\n",
       " '4.4 out of 5',\n",
       " '5 out of 5',\n",
       " '4.1 out of 5',\n",
       " '4 out of 5',\n",
       " '--',\n",
       " '4.1 out of 5',\n",
       " '4.4 out of 5',\n",
       " '3.7 out of 5',\n",
       " '5 out of 5',\n",
       " '4.3 out of 5',\n",
       " '4.2 out of 5',\n",
       " '4.1 out of 5',\n",
       " '--',\n",
       " '--',\n",
       " '5 out of 5',\n",
       " '4 out of 5',\n",
       " '4.3 out of 5',\n",
       " '--',\n",
       " '4.2 out of 5',\n",
       " '--']"
      ]
     },
     "execution_count": 330,
     "metadata": {},
     "output_type": "execute_result"
    }
   ],
   "source": [
    "Rating=[]\n",
    "for i in Rating_url[0:10]:\n",
    "    driver.get(i)\n",
    "    \n",
    "    try:\n",
    "        rating=driver.find_element_by_xpath(\"//span[@class='a-size-medium a-color-base']\")\n",
    "        Rating.append(rating.text)\n",
    "    except:\n",
    "        Rating.append(\"--\")\n",
    "Rating"
   ]
  },
  {
   "cell_type": "code",
   "execution_count": 331,
   "id": "9c6dd26a",
   "metadata": {},
   "outputs": [
    {
     "data": {
      "text/plain": [
       "26"
      ]
     },
     "execution_count": 331,
     "metadata": {},
     "output_type": "execute_result"
    }
   ],
   "source": [
    "len(Rating)"
   ]
  },
  {
   "cell_type": "code",
   "execution_count": 332,
   "id": "0f25ab12",
   "metadata": {},
   "outputs": [
    {
     "data": {
      "text/html": [
       "<div>\n",
       "<style scoped>\n",
       "    .dataframe tbody tr th:only-of-type {\n",
       "        vertical-align: middle;\n",
       "    }\n",
       "\n",
       "    .dataframe tbody tr th {\n",
       "        vertical-align: top;\n",
       "    }\n",
       "\n",
       "    .dataframe thead th {\n",
       "        text-align: right;\n",
       "    }\n",
       "</style>\n",
       "<table border=\"1\" class=\"dataframe\">\n",
       "  <thead>\n",
       "    <tr style=\"text-align: right;\">\n",
       "      <th></th>\n",
       "      <th>Product_name</th>\n",
       "      <th>Price</th>\n",
       "      <th>Product_rating</th>\n",
       "    </tr>\n",
       "  </thead>\n",
       "  <tbody>\n",
       "    <tr>\n",
       "      <th>0</th>\n",
       "      <td>HP Envy 11th Gen Core i7 Processor 13.3-inch (...</td>\n",
       "      <td>1,23,350</td>\n",
       "      <td>4.1 out of 5</td>\n",
       "    </tr>\n",
       "    <tr>\n",
       "      <th>1</th>\n",
       "      <td>Mi Notebook Horizon Edition 14 Intel Core i7-1...</td>\n",
       "      <td>57,990</td>\n",
       "      <td>4.2 out of 5</td>\n",
       "    </tr>\n",
       "    <tr>\n",
       "      <th>2</th>\n",
       "      <td>Lenovo IdeaPad S540 11th Gen Intel Core i7 13....</td>\n",
       "      <td>77,990</td>\n",
       "      <td>4.3 out of 5</td>\n",
       "    </tr>\n",
       "    <tr>\n",
       "      <th>3</th>\n",
       "      <td>Lenovo Yoga 7 11th Gen Intel Core i7 14\" Full ...</td>\n",
       "      <td>97,989</td>\n",
       "      <td>2.4 out of 5</td>\n",
       "    </tr>\n",
       "    <tr>\n",
       "      <th>4</th>\n",
       "      <td>ASUS TUF Dash F15 (2021), 15.6-inch (39.62 cms...</td>\n",
       "      <td>84,990</td>\n",
       "      <td>3.3 out of 5</td>\n",
       "    </tr>\n",
       "    <tr>\n",
       "      <th>5</th>\n",
       "      <td>Lenovo IdeaPad Flex 5 11th Gen Intel Core i7 1...</td>\n",
       "      <td>97,600</td>\n",
       "      <td>4.1 out of 5</td>\n",
       "    </tr>\n",
       "    <tr>\n",
       "      <th>6</th>\n",
       "      <td>Lenovo IdeaPad Gaming 3 Intel Core i7 10th Gen...</td>\n",
       "      <td>73,990</td>\n",
       "      <td>4.4 out of 5</td>\n",
       "    </tr>\n",
       "    <tr>\n",
       "      <th>7</th>\n",
       "      <td>HP Pavilion 13(2021) 11th Gen Intel Core i7 La...</td>\n",
       "      <td>92,990</td>\n",
       "      <td>5 out of 5</td>\n",
       "    </tr>\n",
       "    <tr>\n",
       "      <th>8</th>\n",
       "      <td>Fujitsu UH-X 11th Gen Intel Core i7 13.3” (33....</td>\n",
       "      <td>1,07,990</td>\n",
       "      <td>4.1 out of 5</td>\n",
       "    </tr>\n",
       "    <tr>\n",
       "      <th>9</th>\n",
       "      <td>MSI GF75 Thin, Intel i7-10750H, 17.3\" (43.9 cm...</td>\n",
       "      <td>74,990</td>\n",
       "      <td>4 out of 5</td>\n",
       "    </tr>\n",
       "  </tbody>\n",
       "</table>\n",
       "</div>"
      ],
      "text/plain": [
       "                                        Product_name     Price Product_rating\n",
       "0  HP Envy 11th Gen Core i7 Processor 13.3-inch (...  1,23,350   4.1 out of 5\n",
       "1  Mi Notebook Horizon Edition 14 Intel Core i7-1...    57,990   4.2 out of 5\n",
       "2  Lenovo IdeaPad S540 11th Gen Intel Core i7 13....    77,990   4.3 out of 5\n",
       "3  Lenovo Yoga 7 11th Gen Intel Core i7 14\" Full ...    97,989   2.4 out of 5\n",
       "4  ASUS TUF Dash F15 (2021), 15.6-inch (39.62 cms...    84,990   3.3 out of 5\n",
       "5  Lenovo IdeaPad Flex 5 11th Gen Intel Core i7 1...    97,600   4.1 out of 5\n",
       "6  Lenovo IdeaPad Gaming 3 Intel Core i7 10th Gen...    73,990   4.4 out of 5\n",
       "7  HP Pavilion 13(2021) 11th Gen Intel Core i7 La...    92,990     5 out of 5\n",
       "8  Fujitsu UH-X 11th Gen Intel Core i7 13.3” (33....  1,07,990   4.1 out of 5\n",
       "9  MSI GF75 Thin, Intel i7-10750H, 17.3\" (43.9 cm...    74,990     4 out of 5"
      ]
     },
     "execution_count": 332,
     "metadata": {},
     "output_type": "execute_result"
    }
   ],
   "source": [
    "amazon=pd.DataFrame({})\n",
    "amazon['Product_name']=Product_name\n",
    "amazon['Price']=Price\n",
    "amazon['Product_rating']=Rating[0:10]\n",
    "amazon"
   ]
  },
  {
   "cell_type": "code",
   "execution_count": null,
   "id": "c0d0af3c",
   "metadata": {},
   "outputs": [],
   "source": []
  }
 ],
 "metadata": {
  "kernelspec": {
   "display_name": "Python 3",
   "language": "python",
   "name": "python3"
  },
  "language_info": {
   "codemirror_mode": {
    "name": "ipython",
    "version": 3
   },
   "file_extension": ".py",
   "mimetype": "text/x-python",
   "name": "python",
   "nbconvert_exporter": "python",
   "pygments_lexer": "ipython3",
   "version": "3.8.8"
  }
 },
 "nbformat": 4,
 "nbformat_minor": 5
}
